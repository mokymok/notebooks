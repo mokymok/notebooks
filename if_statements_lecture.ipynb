{
  "nbformat": 4,
  "nbformat_minor": 0,
  "metadata": {
    "colab": {
      "name": "Copy of Python If Statements - LECTURE.ipynb",
      "provenance": [],
      "include_colab_link": true
    },
    "kernelspec": {
      "name": "python3",
      "display_name": "Python 3"
    }
  },
  "cells": [
    {
      "cell_type": "markdown",
      "metadata": {
        "id": "view-in-github",
        "colab_type": "text"
      },
      "source": [
        "<a href=\"https://colab.research.google.com/github/mokymok/notebooks/blob/main/if_statements_lecture.ipynb\" target=\"_parent\"><img src=\"https://colab.research.google.com/assets/colab-badge.svg\" alt=\"Open In Colab\"/></a>"
      ]
    },
    {
      "cell_type": "markdown",
      "metadata": {
        "id": "88DkYvdi9-KM"
      },
      "source": [
        "---\n",
        "# Lambda School Data Science - Intro to Python  \n",
        "---\n",
        "# 05 - Python If Statements\n",
        "---\n"
      ]
    },
    {
      "cell_type": "markdown",
      "metadata": {
        "id": "2wNgbd48-jqJ"
      },
      "source": [
        "## Run code only if certain conditions are met\n",
        "\n",
        "An if statement is a piece of code syntax that checks a condition and if that condition is `True` then we enter into the if statement and execute the code inside of it, if the condition evaluates to `False` then the block of code gets skipped:"
      ]
    },
    {
      "cell_type": "code",
      "metadata": {
        "id": "m8DraGea-2uJ"
      },
      "source": [
        "if 4 > 5:\n",
        "  print(\"Four is greater than five\")"
      ],
      "execution_count": null,
      "outputs": []
    },
    {
      "cell_type": "code",
      "metadata": {
        "id": "_pZ59AOm94VG",
        "colab": {
          "base_uri": "https://localhost:8080/",
          "height": 35
        },
        "outputId": "bd7cd27f-8aff-4136-a267-87cc9a4758c1"
      },
      "source": [
        "if 5 > 4:\n",
        "  print(\"Five is greater than four.\")"
      ],
      "execution_count": null,
      "outputs": [
        {
          "output_type": "stream",
          "text": [
            "Five is greater than four.\n"
          ],
          "name": "stdout"
        }
      ]
    },
    {
      "cell_type": "markdown",
      "metadata": {
        "id": "A2vsGyqG_ANz"
      },
      "source": [
        "As you can see with the two if statements written above that the first condition was not true so the print statement inside was never executed, but in the second if statement the condition `5 > 4` was true so the if statement was executed. \n",
        "\n",
        "There are lots of ways that we can write conditional statements that will evaluate to something that is true or false, for starters we'll just look at a gorup of symbols called \"comparison operators\" that we can use. \n"
      ]
    },
    {
      "cell_type": "markdown",
      "metadata": {
        "id": "zF4cVZQ9_pjc"
      },
      "source": [
        "### Comparison Operators:\n",
        "\n",
        "`==` - The Equality Comparison Operator\n",
        "\n",
        "`!=` - The Inequality Comparison Operator\n",
        "\n",
        "`>` - The Greater-Than Operator\n",
        "\n",
        "`<` - The Less-Than Operator\n",
        "\n",
        "`>=` - The Greater-Than or Equal-To Operator\n",
        "\n",
        "`<=` - The Less-Than or Equal-To Operator\n",
        "\n",
        "All of these comparison operators can be used in conditional statements to control the flow of a program.\n"
      ]
    },
    {
      "cell_type": "code",
      "metadata": {
        "id": "Cw15ZiiSI0AP",
        "colab": {
          "base_uri": "https://localhost:8080/",
          "height": 35
        },
        "outputId": "8bf2257d-f41f-4578-c624-761bfb2c1014"
      },
      "source": [
        "4 > 5"
      ],
      "execution_count": null,
      "outputs": [
        {
          "output_type": "execute_result",
          "data": {
            "text/plain": [
              "False"
            ]
          },
          "metadata": {
            "tags": []
          },
          "execution_count": 3
        }
      ]
    },
    {
      "cell_type": "code",
      "metadata": {
        "id": "wDF_yCdhI0-u",
        "colab": {
          "base_uri": "https://localhost:8080/",
          "height": 35
        },
        "outputId": "59804b08-2371-4b03-91bf-a188ae14a3cf"
      },
      "source": [
        "5 > 4"
      ],
      "execution_count": null,
      "outputs": [
        {
          "output_type": "execute_result",
          "data": {
            "text/plain": [
              "True"
            ]
          },
          "metadata": {
            "tags": []
          },
          "execution_count": 4
        }
      ]
    },
    {
      "cell_type": "code",
      "metadata": {
        "id": "w5qjqxqkLFz9",
        "colab": {
          "base_uri": "https://localhost:8080/",
          "height": 35
        },
        "outputId": "58f37e7f-fbdb-4637-ff9b-c41e22612524"
      },
      "source": [
        "5 == 4"
      ],
      "execution_count": null,
      "outputs": [
        {
          "output_type": "execute_result",
          "data": {
            "text/plain": [
              "False"
            ]
          },
          "metadata": {
            "tags": []
          },
          "execution_count": 5
        }
      ]
    },
    {
      "cell_type": "code",
      "metadata": {
        "id": "593IGKuGLHX9",
        "colab": {
          "base_uri": "https://localhost:8080/",
          "height": 35
        },
        "outputId": "a216e47c-3ce6-4d00-b21c-3df468b4cfc9"
      },
      "source": [
        "4 != 5"
      ],
      "execution_count": null,
      "outputs": [
        {
          "output_type": "execute_result",
          "data": {
            "text/plain": [
              "True"
            ]
          },
          "metadata": {
            "tags": []
          },
          "execution_count": 6
        }
      ]
    },
    {
      "cell_type": "markdown",
      "metadata": {
        "id": "9Iq8a4CzKLYr"
      },
      "source": [
        "### The `else` Condition\n",
        "\n",
        "If statements will only run if the conditions stated evaluate to true, but what happens the rest of the time when the conditions aren't met? This is where If-Else statements come in. If-else statements provide a first statement that runs if the conditions are met and also a second block of code that runs if the conditions are not met as a kind of catch-all."
      ]
    },
    {
      "cell_type": "code",
      "metadata": {
        "id": "xeCTjys6I2XA",
        "colab": {
          "base_uri": "https://localhost:8080/",
          "height": 35
        },
        "outputId": "81cf4f99-cff5-4a7f-bbf7-0df65d74d827"
      },
      "source": [
        "money_in_wallet = 5.00\n",
        "movie_ticket_price = 8.99\n",
        "\n",
        "if money_in_wallet >= movie_ticket_price:\n",
        "  print(\"Go to the movies!\")\n",
        "else:\n",
        "  print(\"Stay home and watch Netflix.\")"
      ],
      "execution_count": null,
      "outputs": [
        {
          "output_type": "stream",
          "text": [
            "Stay home and watch Netflix.\n"
          ],
          "name": "stdout"
        }
      ]
    },
    {
      "cell_type": "markdown",
      "metadata": {
        "id": "jBYjn9tsL18z"
      },
      "source": [
        "### The `elif` condition\n",
        "\n",
        "In addition to the `if` and `else` keywords we can use the `elif` keyword to include multiple if statements together in a group.\n"
      ]
    },
    {
      "cell_type": "code",
      "metadata": {
        "id": "PTlkyj52Kut8",
        "colab": {
          "base_uri": "https://localhost:8080/",
          "height": 35
        },
        "outputId": "cacceee7-a35e-47d1-aa03-048fcf9ca630"
      },
      "source": [
        "visitor = \"George\"\n",
        "\n",
        "if visitor == \"Bryce\":\n",
        "  print(\"Hi Bryce!\")\n",
        "elif visitor == \"Jacob\":\n",
        "  print(\"Hi Jacob!\")\n",
        "elif visitor == \"Mike\":\n",
        "  print(\"Hi Mike!\")\n",
        "elif visitor == \"Ben\":\n",
        "  print(\"Hi Ben!\")\n",
        "elif visitor == \"Young\":\n",
        "  print(\"Hi Young!\")\n",
        "else:\n",
        "  print(\"Pleased to meet you!\")"
      ],
      "execution_count": null,
      "outputs": [
        {
          "output_type": "stream",
          "text": [
            "Pleased to meet you!\n"
          ],
          "name": "stdout"
        }
      ]
    },
    {
      "cell_type": "markdown",
      "metadata": {
        "id": "koNtVENiQWP1"
      },
      "source": [
        "### The `in` keyword\n",
        "\n",
        "Sometimes checking for specific values one by one can get really tedious and repetitive (both things that we want to avoid). We can write a simpler if statement if we hold all of our friend's names in a list and then use the `in` keyword to check if a certain name is in the list.\n",
        "\n",
        "Expressions using the `in` keyword will evaluate to `True` if an item is found in a list, but will evaluate to `False` if an item is not found in a list"
      ]
    },
    {
      "cell_type": "code",
      "metadata": {
        "id": "yQPFh7AlOIrO",
        "colab": {
          "base_uri": "https://localhost:8080/",
          "height": 35
        },
        "outputId": "71ef55cb-6f34-4ba5-913a-6051ba41e368"
      },
      "source": [
        "friends = [\"Bryce\", \"Jacob\", \"Mike\", \"Ben\", \"Young\"]\n",
        "\n",
        "visitor = \"Mike\"\n",
        "\n",
        "if visitor in friends:\n",
        "  print(\"Hi \" + visitor + \"!\")\n",
        "else:\n",
        "  print(\"Pleased to meet you!\")"
      ],
      "execution_count": null,
      "outputs": [
        {
          "output_type": "stream",
          "text": [
            "Hi Mike!\n"
          ],
          "name": "stdout"
        }
      ]
    },
    {
      "cell_type": "markdown",
      "metadata": {
        "id": "--FnaXANUJXu"
      },
      "source": [
        "### Logical Operators\n",
        "\n",
        "In some cases we might want to include multiple conditions in our if statement and only have an if statement's block execute if both conditions are true or if either of the conditions are true. We can use the two following \"Logical Operators\" in these kinds of scenarios\n",
        "\n",
        "`and` - Evaluates to True if expressions to its left ***and*** to its right are true.\n",
        "\n",
        "`or` - Evalues to True if either expressions to its left ***or*** right are true.\n",
        "\n"
      ]
    },
    {
      "cell_type": "code",
      "metadata": {
        "id": "ztAEdIvmUtOY",
        "colab": {
          "base_uri": "https://localhost:8080/",
          "height": 35
        },
        "outputId": "3706affd-bd0e-49d0-9254-600b171ead6f"
      },
      "source": [
        "# You can fiddle with these parameters to see how the if statement below will react.\n",
        "wants_to_learn_data_science = True\n",
        "will_work_hard = True\n",
        "age = 20\n",
        "\n",
        "if age >= 18 and wants_to_learn_data_science and will_work_hard:\n",
        "  print(\"Go to Lambda School!\")\n",
        "elif wants_to_learn_data_science or will_work_hard or age >= 18:\n",
        "  print(\"Your future is bright!\")\n",
        "else:\n",
        "  print(\"Find something that's a good fit for you.\")"
      ],
      "execution_count": null,
      "outputs": [
        {
          "output_type": "stream",
          "text": [
            "Go to Lambda School!\n"
          ],
          "name": "stdout"
        }
      ]
    },
    {
      "cell_type": "markdown",
      "metadata": {
        "id": "KTRw4TrpRfKf"
      },
      "source": [
        "## Loops + If Statements "
      ]
    },
    {
      "cell_type": "markdown",
      "metadata": {
        "id": "tawyU7TIWry-"
      },
      "source": [
        "### The FizzBuzz Question\n",
        "\n",
        "The FizzBuzz Question is a well-known code challenge that is meant to test if a person has a beginning grasp on things like if statements, and for loops. It instructions usually go something like this:\n",
        "\n",
        "- Print out the numbers 1-100, however...\n",
        "- If a number is divisible by 3, print out the string \"Fizz\" instead of the number.\n",
        "- If a number is divisible by 5 print out the string \"Buzz\" instead of the number\n",
        "- If a number is divisible by both 3 and 5 print out the string \"FizzBuzz\" instead of the number\n"
      ]
    },
    {
      "cell_type": "code",
      "metadata": {
        "colab": {
          "base_uri": "https://localhost:8080/"
        },
        "id": "JoTMDLOoaE3Z",
        "outputId": "98e40d9a-6b85-41bf-e6ae-67f09e85893c"
      },
      "source": [
        "for number in range(1,101):\n",
        "  a = ''\n",
        "  if number % 3 == 0: \n",
        "    a = a + 'Fizz'\n",
        "  if number % 5 == 0:\n",
        "    a = a + 'Buzz'\n",
        "  if a == '':\n",
        "    print(number)\n",
        "  else:\n",
        "    print(a)"
      ],
      "execution_count": null,
      "outputs": [
        {
          "output_type": "stream",
          "text": [
            "1\n",
            "2\n",
            "Fizz\n",
            "4\n",
            "Buzz\n",
            "Fizz\n",
            "7\n",
            "8\n",
            "Fizz\n",
            "Buzz\n",
            "11\n",
            "Fizz\n",
            "13\n",
            "14\n",
            "FizzBuzz\n",
            "16\n",
            "17\n",
            "Fizz\n",
            "19\n",
            "Buzz\n",
            "Fizz\n",
            "22\n",
            "23\n",
            "Fizz\n",
            "Buzz\n",
            "26\n",
            "Fizz\n",
            "28\n",
            "29\n",
            "FizzBuzz\n",
            "31\n",
            "32\n",
            "Fizz\n",
            "34\n",
            "Buzz\n",
            "Fizz\n",
            "37\n",
            "38\n",
            "Fizz\n",
            "Buzz\n",
            "41\n",
            "Fizz\n",
            "43\n",
            "44\n",
            "FizzBuzz\n",
            "46\n",
            "47\n",
            "Fizz\n",
            "49\n",
            "Buzz\n",
            "Fizz\n",
            "52\n",
            "53\n",
            "Fizz\n",
            "Buzz\n",
            "56\n",
            "Fizz\n",
            "58\n",
            "59\n",
            "FizzBuzz\n",
            "61\n",
            "62\n",
            "Fizz\n",
            "64\n",
            "Buzz\n",
            "Fizz\n",
            "67\n",
            "68\n",
            "Fizz\n",
            "Buzz\n",
            "71\n",
            "Fizz\n",
            "73\n",
            "74\n",
            "FizzBuzz\n",
            "76\n",
            "77\n",
            "Fizz\n",
            "79\n",
            "Buzz\n",
            "Fizz\n",
            "82\n",
            "83\n",
            "Fizz\n",
            "Buzz\n",
            "86\n",
            "Fizz\n",
            "88\n",
            "89\n",
            "FizzBuzz\n",
            "91\n",
            "92\n",
            "Fizz\n",
            "94\n",
            "Buzz\n",
            "Fizz\n",
            "97\n",
            "98\n",
            "Fizz\n",
            "Buzz\n"
          ],
          "name": "stdout"
        }
      ]
    },
    {
      "cell_type": "code",
      "metadata": {
        "id": "ZrPDSrQRRGjn",
        "colab": {
          "base_uri": "https://localhost:8080/"
        },
        "outputId": "56a79b49-78e5-4b08-f00b-a091a13fb2f6"
      },
      "source": [
        "|for number in range(1, 101):  \n",
        "  # if number is divisible by 3, prin out \"Fizz\"\n",
        "  if number % 5 == 0 and number % 3 == 0:\n",
        "    print(\"FizzBuzz\")\n",
        "  elif number % 3 == 0:\n",
        "    print(\"Fizz\")\n",
        "  elif number % 5 == 0:\n",
        "    print(\"Buzz\")\n",
        "  else:\n",
        "    print(number)"
      ],
      "execution_count": null,
      "outputs": [
        {
          "output_type": "stream",
          "text": [
            "1\n",
            "2\n",
            "Fizz\n",
            "4\n",
            "Buzz\n",
            "Fizz\n",
            "7\n",
            "8\n",
            "Fizz\n",
            "Buzz\n",
            "11\n",
            "Fizz\n",
            "13\n",
            "14\n",
            "Fizz\n",
            "16\n",
            "17\n",
            "Fizz\n",
            "19\n",
            "Buzz\n",
            "Fizz\n",
            "22\n",
            "23\n",
            "Fizz\n",
            "Buzz\n",
            "26\n",
            "Fizz\n",
            "28\n",
            "29\n",
            "Fizz\n",
            "31\n",
            "32\n",
            "Fizz\n",
            "34\n",
            "Buzz\n",
            "Fizz\n",
            "37\n",
            "38\n",
            "Fizz\n",
            "Buzz\n",
            "41\n",
            "Fizz\n",
            "43\n",
            "44\n",
            "Fizz\n",
            "46\n",
            "47\n",
            "Fizz\n",
            "49\n",
            "Buzz\n",
            "Fizz\n",
            "52\n",
            "53\n",
            "Fizz\n",
            "Buzz\n",
            "56\n",
            "Fizz\n",
            "58\n",
            "59\n",
            "Fizz\n",
            "61\n",
            "62\n",
            "Fizz\n",
            "64\n",
            "Buzz\n",
            "Fizz\n",
            "67\n",
            "68\n",
            "Fizz\n",
            "Buzz\n",
            "71\n",
            "Fizz\n",
            "73\n",
            "74\n",
            "Fizz\n",
            "76\n",
            "77\n",
            "Fizz\n",
            "79\n",
            "Buzz\n",
            "Fizz\n",
            "82\n",
            "83\n",
            "Fizz\n",
            "Buzz\n",
            "86\n",
            "Fizz\n",
            "88\n",
            "89\n",
            "Fizz\n",
            "91\n",
            "92\n",
            "Fizz\n",
            "94\n",
            "Buzz\n",
            "Fizz\n",
            "97\n",
            "98\n",
            "Fizz\n",
            "Buzz\n"
          ],
          "name": "stdout"
        }
      ]
    },
    {
      "cell_type": "markdown",
      "metadata": {
        "id": "p1E3CjqhLuFe"
      },
      "source": [
        "### Modulus Operator: `%`\n",
        "\n",
        "\n"
      ]
    },
    {
      "cell_type": "code",
      "metadata": {
        "id": "n8kyqpsWLtda",
        "colab": {
          "base_uri": "https://localhost:8080/",
          "height": 35
        },
        "outputId": "afce63eb-440a-4155-9e79-22075e256083"
      },
      "source": [
        "5 % 3"
      ],
      "execution_count": null,
      "outputs": [
        {
          "output_type": "execute_result",
          "data": {
            "text/plain": [
              "2"
            ]
          },
          "metadata": {
            "tags": []
          },
          "execution_count": 29
        }
      ]
    },
    {
      "cell_type": "code",
      "metadata": {
        "id": "3DZIpw9vLdz8",
        "colab": {
          "base_uri": "https://localhost:8080/",
          "height": 35
        },
        "outputId": "424c7bd0-869a-43e7-ca0a-7f3a2e9c27e0"
      },
      "source": [
        "5 % 2"
      ],
      "execution_count": null,
      "outputs": [
        {
          "output_type": "execute_result",
          "data": {
            "text/plain": [
              "1"
            ]
          },
          "metadata": {
            "tags": []
          },
          "execution_count": 30
        }
      ]
    },
    {
      "cell_type": "code",
      "metadata": {
        "id": "_at4QwaaL9wN",
        "colab": {
          "base_uri": "https://localhost:8080/",
          "height": 35
        },
        "outputId": "a68a7ddd-0693-4199-d712-1fa84a32c886"
      },
      "source": [
        "6 % 3"
      ],
      "execution_count": null,
      "outputs": [
        {
          "output_type": "execute_result",
          "data": {
            "text/plain": [
              "0"
            ]
          },
          "metadata": {
            "tags": []
          },
          "execution_count": 31
        }
      ]
    },
    {
      "cell_type": "code",
      "metadata": {
        "id": "sZU28M7zMA8t",
        "colab": {
          "base_uri": "https://localhost:8080/",
          "height": 35
        },
        "outputId": "1d164f7c-9c83-4c4d-e270-42d69ea2881e"
      },
      "source": [
        "10 % 5"
      ],
      "execution_count": null,
      "outputs": [
        {
          "output_type": "execute_result",
          "data": {
            "text/plain": [
              "0"
            ]
          },
          "metadata": {
            "tags": []
          },
          "execution_count": 32
        }
      ]
    },
    {
      "cell_type": "code",
      "metadata": {
        "id": "udZq3rVVMD1M"
      },
      "source": [
        ""
      ],
      "execution_count": null,
      "outputs": []
    }
  ]
}