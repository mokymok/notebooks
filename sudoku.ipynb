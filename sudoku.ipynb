{
  "nbformat": 4,
  "nbformat_minor": 0,
  "metadata": {
    "colab": {
      "name": "sudoku.ipynb",
      "provenance": [],
      "authorship_tag": "ABX9TyMxPfDL19K97lgGsY3kNV/H",
      "include_colab_link": true
    },
    "kernelspec": {
      "name": "python3",
      "display_name": "Python 3"
    },
    "language_info": {
      "name": "python"
    }
  },
  "cells": [
    {
      "cell_type": "markdown",
      "metadata": {
        "id": "view-in-github",
        "colab_type": "text"
      },
      "source": [
        "<a href=\"https://colab.research.google.com/github/mokymok/notebooks/blob/main/sudoku.ipynb\" target=\"_parent\"><img src=\"https://colab.research.google.com/assets/colab-badge.svg\" alt=\"Open In Colab\"/></a>"
      ]
    },
    {
      "cell_type": "code",
      "metadata": {
        "id": "GY5Cqgvq6MB1"
      },
      "source": [
        "import tkinter"
      ],
      "execution_count": null,
      "outputs": []
    },
    {
      "cell_type": "code",
      "metadata": {
        "id": "MqfAOqH37BOh",
        "colab": {
          "base_uri": "https://localhost:8080/"
        },
        "outputId": "2ec03586-89b7-4f88-92e7-75d7317345c9"
      },
      "source": [
        "tkinter"
      ],
      "execution_count": null,
      "outputs": [
        {
          "output_type": "execute_result",
          "data": {
            "text/plain": [
              "<module 'tkinter' from '/usr/lib/python3.7/tkinter/__init__.py'>"
            ]
          },
          "metadata": {
            "tags": []
          },
          "execution_count": 19
        }
      ]
    },
    {
      "cell_type": "code",
      "metadata": {
        "id": "b6JxD_OjpeNp",
        "colab": {
          "base_uri": "https://localhost:8080/",
          "height": 387
        },
        "outputId": "6fb07f72-a92d-413a-87e9-b13ffbfadf1d"
      },
      "source": [
        "#Sudoku Generator\n",
        "import turtle\n",
        "from random import randint, shuffle\n",
        "from time import sleep\n",
        "\n",
        "#initialise empty 9 by 9 grid\n",
        "grid=[]\n",
        "grid.append([0, 0, 0, 0, 0, 0, 0, 0, 0])\n",
        "grid.append([0, 0, 0, 0, 0, 0, 0, 0, 0])\n",
        "grid.append([0, 0, 0, 0, 0, 0, 0, 0, 0])\n",
        "grid.append([0, 0, 0, 0, 0, 0, 0, 0, 0])\n",
        "grid.append([0, 0, 0, 0, 0, 0, 0, 0, 0])\n",
        "grid.append([0, 0, 0, 0, 0, 0, 0, 0, 0])\n",
        "grid.append([0, 0, 0, 0, 0, 0, 0, 0, 0])\n",
        "grid.append([0, 0, 0, 0, 0, 0, 0, 0, 0])\n",
        "grid.append([0, 0, 0, 0, 0, 0, 0, 0, 0])\n",
        "\n",
        "myPen=turtle.Turtle()\n",
        "myPen.tracer(0)\n",
        "myPen.speed(0)\n",
        "myPen.color('#000000')\n",
        "myPen.hideturtle()\n",
        "topLeft_x=-150\n",
        "topLeft_y=150\n",
        "\n",
        "def text(message,x,y,size):\n",
        "    FONT=('Arial', size, 'normal')\n",
        "    myPen.penup()\n",
        "    myPen.goto(x,y)    \t\t  \n",
        "    myPen.write(message,align='left',font=FONT)\n",
        "\n",
        "#A procedure to draw the grid on screen using Python Turtle\n",
        "def drawGrid(grid):\n",
        "  intDim=35\n",
        "  for row in range(0,10):\n",
        "    if (row%3)==0:\n",
        "      myPen.pensize(3)\n",
        "    else:\n",
        "      myPen.pensize(1)\n",
        "    myPen.penup()\n",
        "    myPen.goto(topLeft_x,topLeft_y-row*intDim)\n",
        "    myPen.pendown()\n",
        "    myPen.goto(topLeft_x+9*intDim,topLeft_y-row*intDim)\n",
        "  for col in range(0,10):\n",
        "    if (col%3)==0:\n",
        "      myPen.pensize(3)\n",
        "    else:\n",
        "      myPen.pensize(1)    \n",
        "    myPen.penup()\n",
        "    myPen.goto(topLeft_x+col*intDim,topLeft_y)\n",
        "    myPen.pendown()\n",
        "    myPen.goto(topLeft_x+col*intDim,topLeft_y-9*intDim)\n",
        "\n",
        "  for row in range (0,9):\n",
        "      for col in range (0,9):\n",
        "        if grid[row][col]!=0:\n",
        "          text(grid[row][col],topLeft_x+col*intDim+9,topLeft_y-row*intDim-intDim+8,18)\n",
        "\n",
        "\n",
        "#A function to check if the grid is full\n",
        "def checkGrid(grid):\n",
        "  for row in range(0,9):\n",
        "      for col in range(0,9):\n",
        "        if grid[row][col]==0:\n",
        "          return False\n",
        "\n",
        "  #We have a complete grid!  \n",
        "  return True="
      ],
      "execution_count": null,
      "outputs": [
        {
          "output_type": "error",
          "ename": "TclError",
          "evalue": "ignored",
          "traceback": [
            "\u001b[0;31m---------------------------------------------------------------------------\u001b[0m",
            "\u001b[0;31mTclError\u001b[0m                                  Traceback (most recent call last)",
            "\u001b[0;32m<ipython-input-18-816fc39fde9f>\u001b[0m in \u001b[0;36m<module>\u001b[0;34m()\u001b[0m\n\u001b[1;32m     16\u001b[0m \u001b[0mgrid\u001b[0m\u001b[0;34m.\u001b[0m\u001b[0mappend\u001b[0m\u001b[0;34m(\u001b[0m\u001b[0;34m[\u001b[0m\u001b[0;36m0\u001b[0m\u001b[0;34m,\u001b[0m \u001b[0;36m0\u001b[0m\u001b[0;34m,\u001b[0m \u001b[0;36m0\u001b[0m\u001b[0;34m,\u001b[0m \u001b[0;36m0\u001b[0m\u001b[0;34m,\u001b[0m \u001b[0;36m0\u001b[0m\u001b[0;34m,\u001b[0m \u001b[0;36m0\u001b[0m\u001b[0;34m,\u001b[0m \u001b[0;36m0\u001b[0m\u001b[0;34m,\u001b[0m \u001b[0;36m0\u001b[0m\u001b[0;34m,\u001b[0m \u001b[0;36m0\u001b[0m\u001b[0;34m]\u001b[0m\u001b[0;34m)\u001b[0m\u001b[0;34m\u001b[0m\u001b[0;34m\u001b[0m\u001b[0m\n\u001b[1;32m     17\u001b[0m \u001b[0;34m\u001b[0m\u001b[0m\n\u001b[0;32m---> 18\u001b[0;31m \u001b[0mmyPen\u001b[0m \u001b[0;34m=\u001b[0m \u001b[0mturtle\u001b[0m\u001b[0;34m.\u001b[0m\u001b[0mTurtle\u001b[0m\u001b[0;34m(\u001b[0m\u001b[0;34m)\u001b[0m\u001b[0;34m\u001b[0m\u001b[0;34m\u001b[0m\u001b[0m\n\u001b[0m\u001b[1;32m     19\u001b[0m \u001b[0mmyPen\u001b[0m\u001b[0;34m.\u001b[0m\u001b[0mtracer\u001b[0m\u001b[0;34m(\u001b[0m\u001b[0;36m0\u001b[0m\u001b[0;34m)\u001b[0m\u001b[0;34m\u001b[0m\u001b[0;34m\u001b[0m\u001b[0m\n\u001b[1;32m     20\u001b[0m \u001b[0mmyPen\u001b[0m\u001b[0;34m.\u001b[0m\u001b[0mspeed\u001b[0m\u001b[0;34m(\u001b[0m\u001b[0;36m0\u001b[0m\u001b[0;34m)\u001b[0m\u001b[0;34m\u001b[0m\u001b[0;34m\u001b[0m\u001b[0m\n",
            "\u001b[0;32m/usr/lib/python3.7/turtle.py\u001b[0m in \u001b[0;36m__init__\u001b[0;34m(self, shape, undobuffersize, visible)\u001b[0m\n\u001b[1;32m   3810\u001b[0m                  visible=_CFG[\"visible\"]):\n\u001b[1;32m   3811\u001b[0m         \u001b[0;32mif\u001b[0m \u001b[0mTurtle\u001b[0m\u001b[0;34m.\u001b[0m\u001b[0m_screen\u001b[0m \u001b[0;32mis\u001b[0m \u001b[0;32mNone\u001b[0m\u001b[0;34m:\u001b[0m\u001b[0;34m\u001b[0m\u001b[0;34m\u001b[0m\u001b[0m\n\u001b[0;32m-> 3812\u001b[0;31m             \u001b[0mTurtle\u001b[0m\u001b[0;34m.\u001b[0m\u001b[0m_screen\u001b[0m \u001b[0;34m=\u001b[0m \u001b[0mScreen\u001b[0m\u001b[0;34m(\u001b[0m\u001b[0;34m)\u001b[0m\u001b[0;34m\u001b[0m\u001b[0;34m\u001b[0m\u001b[0m\n\u001b[0m\u001b[1;32m   3813\u001b[0m         RawTurtle.__init__(self, Turtle._screen,\n\u001b[1;32m   3814\u001b[0m                            \u001b[0mshape\u001b[0m\u001b[0;34m=\u001b[0m\u001b[0mshape\u001b[0m\u001b[0;34m,\u001b[0m\u001b[0;34m\u001b[0m\u001b[0;34m\u001b[0m\u001b[0m\n",
            "\u001b[0;32m/usr/lib/python3.7/turtle.py\u001b[0m in \u001b[0;36mScreen\u001b[0;34m()\u001b[0m\n\u001b[1;32m   3660\u001b[0m     else return the existing one.\"\"\"\n\u001b[1;32m   3661\u001b[0m     \u001b[0;32mif\u001b[0m \u001b[0mTurtle\u001b[0m\u001b[0;34m.\u001b[0m\u001b[0m_screen\u001b[0m \u001b[0;32mis\u001b[0m \u001b[0;32mNone\u001b[0m\u001b[0;34m:\u001b[0m\u001b[0;34m\u001b[0m\u001b[0;34m\u001b[0m\u001b[0m\n\u001b[0;32m-> 3662\u001b[0;31m         \u001b[0mTurtle\u001b[0m\u001b[0;34m.\u001b[0m\u001b[0m_screen\u001b[0m \u001b[0;34m=\u001b[0m \u001b[0m_Screen\u001b[0m\u001b[0;34m(\u001b[0m\u001b[0;34m)\u001b[0m\u001b[0;34m\u001b[0m\u001b[0;34m\u001b[0m\u001b[0m\n\u001b[0m\u001b[1;32m   3663\u001b[0m     \u001b[0;32mreturn\u001b[0m \u001b[0mTurtle\u001b[0m\u001b[0;34m.\u001b[0m\u001b[0m_screen\u001b[0m\u001b[0;34m\u001b[0m\u001b[0;34m\u001b[0m\u001b[0m\n\u001b[1;32m   3664\u001b[0m \u001b[0;34m\u001b[0m\u001b[0m\n",
            "\u001b[0;32m/usr/lib/python3.7/turtle.py\u001b[0m in \u001b[0;36m__init__\u001b[0;34m(self)\u001b[0m\n\u001b[1;32m   3676\u001b[0m         \u001b[0;31m# preserved (perhaps by passing it as an optional parameter)\u001b[0m\u001b[0;34m\u001b[0m\u001b[0;34m\u001b[0m\u001b[0;34m\u001b[0m\u001b[0m\n\u001b[1;32m   3677\u001b[0m         \u001b[0;32mif\u001b[0m \u001b[0m_Screen\u001b[0m\u001b[0;34m.\u001b[0m\u001b[0m_root\u001b[0m \u001b[0;32mis\u001b[0m \u001b[0;32mNone\u001b[0m\u001b[0;34m:\u001b[0m\u001b[0;34m\u001b[0m\u001b[0;34m\u001b[0m\u001b[0m\n\u001b[0;32m-> 3678\u001b[0;31m             \u001b[0m_Screen\u001b[0m\u001b[0;34m.\u001b[0m\u001b[0m_root\u001b[0m \u001b[0;34m=\u001b[0m \u001b[0mself\u001b[0m\u001b[0;34m.\u001b[0m\u001b[0m_root\u001b[0m \u001b[0;34m=\u001b[0m \u001b[0m_Root\u001b[0m\u001b[0;34m(\u001b[0m\u001b[0;34m)\u001b[0m\u001b[0;34m\u001b[0m\u001b[0;34m\u001b[0m\u001b[0m\n\u001b[0m\u001b[1;32m   3679\u001b[0m             \u001b[0mself\u001b[0m\u001b[0;34m.\u001b[0m\u001b[0m_root\u001b[0m\u001b[0;34m.\u001b[0m\u001b[0mtitle\u001b[0m\u001b[0;34m(\u001b[0m\u001b[0m_Screen\u001b[0m\u001b[0;34m.\u001b[0m\u001b[0m_title\u001b[0m\u001b[0;34m)\u001b[0m\u001b[0;34m\u001b[0m\u001b[0;34m\u001b[0m\u001b[0m\n\u001b[1;32m   3680\u001b[0m             \u001b[0mself\u001b[0m\u001b[0;34m.\u001b[0m\u001b[0m_root\u001b[0m\u001b[0;34m.\u001b[0m\u001b[0mondestroy\u001b[0m\u001b[0;34m(\u001b[0m\u001b[0mself\u001b[0m\u001b[0;34m.\u001b[0m\u001b[0m_destroy\u001b[0m\u001b[0;34m)\u001b[0m\u001b[0;34m\u001b[0m\u001b[0;34m\u001b[0m\u001b[0m\n",
            "\u001b[0;32m/usr/lib/python3.7/turtle.py\u001b[0m in \u001b[0;36m__init__\u001b[0;34m(self)\u001b[0m\n\u001b[1;32m    432\u001b[0m     \u001b[0;34m\"\"\"Root class for Screen based on Tkinter.\"\"\"\u001b[0m\u001b[0;34m\u001b[0m\u001b[0;34m\u001b[0m\u001b[0m\n\u001b[1;32m    433\u001b[0m     \u001b[0;32mdef\u001b[0m \u001b[0m__init__\u001b[0m\u001b[0;34m(\u001b[0m\u001b[0mself\u001b[0m\u001b[0;34m)\u001b[0m\u001b[0;34m:\u001b[0m\u001b[0;34m\u001b[0m\u001b[0;34m\u001b[0m\u001b[0m\n\u001b[0;32m--> 434\u001b[0;31m         \u001b[0mTK\u001b[0m\u001b[0;34m.\u001b[0m\u001b[0mTk\u001b[0m\u001b[0;34m.\u001b[0m\u001b[0m__init__\u001b[0m\u001b[0;34m(\u001b[0m\u001b[0mself\u001b[0m\u001b[0;34m)\u001b[0m\u001b[0;34m\u001b[0m\u001b[0;34m\u001b[0m\u001b[0m\n\u001b[0m\u001b[1;32m    435\u001b[0m \u001b[0;34m\u001b[0m\u001b[0m\n\u001b[1;32m    436\u001b[0m     \u001b[0;32mdef\u001b[0m \u001b[0msetupcanvas\u001b[0m\u001b[0;34m(\u001b[0m\u001b[0mself\u001b[0m\u001b[0;34m,\u001b[0m \u001b[0mwidth\u001b[0m\u001b[0;34m,\u001b[0m \u001b[0mheight\u001b[0m\u001b[0;34m,\u001b[0m \u001b[0mcwidth\u001b[0m\u001b[0;34m,\u001b[0m \u001b[0mcheight\u001b[0m\u001b[0;34m)\u001b[0m\u001b[0;34m:\u001b[0m\u001b[0;34m\u001b[0m\u001b[0;34m\u001b[0m\u001b[0m\n",
            "\u001b[0;32m/usr/lib/python3.7/tkinter/__init__.py\u001b[0m in \u001b[0;36m__init__\u001b[0;34m(self, screenName, baseName, className, useTk, sync, use)\u001b[0m\n\u001b[1;32m   2021\u001b[0m                 \u001b[0mbaseName\u001b[0m \u001b[0;34m=\u001b[0m \u001b[0mbaseName\u001b[0m \u001b[0;34m+\u001b[0m \u001b[0mext\u001b[0m\u001b[0;34m\u001b[0m\u001b[0;34m\u001b[0m\u001b[0m\n\u001b[1;32m   2022\u001b[0m         \u001b[0minteractive\u001b[0m \u001b[0;34m=\u001b[0m \u001b[0;36m0\u001b[0m\u001b[0;34m\u001b[0m\u001b[0;34m\u001b[0m\u001b[0m\n\u001b[0;32m-> 2023\u001b[0;31m         \u001b[0mself\u001b[0m\u001b[0;34m.\u001b[0m\u001b[0mtk\u001b[0m \u001b[0;34m=\u001b[0m \u001b[0m_tkinter\u001b[0m\u001b[0;34m.\u001b[0m\u001b[0mcreate\u001b[0m\u001b[0;34m(\u001b[0m\u001b[0mscreenName\u001b[0m\u001b[0;34m,\u001b[0m \u001b[0mbaseName\u001b[0m\u001b[0;34m,\u001b[0m \u001b[0mclassName\u001b[0m\u001b[0;34m,\u001b[0m \u001b[0minteractive\u001b[0m\u001b[0;34m,\u001b[0m \u001b[0mwantobjects\u001b[0m\u001b[0;34m,\u001b[0m \u001b[0museTk\u001b[0m\u001b[0;34m,\u001b[0m \u001b[0msync\u001b[0m\u001b[0;34m,\u001b[0m \u001b[0muse\u001b[0m\u001b[0;34m)\u001b[0m\u001b[0;34m\u001b[0m\u001b[0;34m\u001b[0m\u001b[0m\n\u001b[0m\u001b[1;32m   2024\u001b[0m         \u001b[0;32mif\u001b[0m \u001b[0museTk\u001b[0m\u001b[0;34m:\u001b[0m\u001b[0;34m\u001b[0m\u001b[0;34m\u001b[0m\u001b[0m\n\u001b[1;32m   2025\u001b[0m             \u001b[0mself\u001b[0m\u001b[0;34m.\u001b[0m\u001b[0m_loadtk\u001b[0m\u001b[0;34m(\u001b[0m\u001b[0;34m)\u001b[0m\u001b[0;34m\u001b[0m\u001b[0;34m\u001b[0m\u001b[0m\n",
            "\u001b[0;31mTclError\u001b[0m: no display name and no $DISPLAY environment variable"
          ]
        }
      ]
    },
    {
      "cell_type": "markdown",
      "metadata": {
        "id": "8yocQ75jMelN"
      },
      "source": [
        "Sudoku is a number puzzle where a grid of 81 digits (9x9) is filled by the digits 1-9 such that no row, column, or 3x3 subregion contains duplicate digits.\n",
        "\n",
        "Write a program that given an incomplete Sudoku board as 9 arguments of 9 digits, with blanks respresented by an underscore, print a solved Sudoku grid using unicode box-drawing characters like so:\n",
        "\n",
        "    ┏━━━┯━━━┯━━━┳━━━┯━━━┯━━━┳━━━┯━━━┯━━━┓\n",
        "    ┃ 2 │ 5 │ 8 ┃ 4 │ 1 │ 7 ┃ 6 │ 9 │ 3 ┃\n",
        "    ┠───┼───┼───╂───┼───┼───╂───┼───┼───┨\n",
        "    ┃ 6 │ 1 │ 7 ┃ 9 │ 2 │ 3 ┃ 8 │ 5 │ 4 ┃\n",
        "    ┠───┼───┼───╂───┼───┼───╂───┼───┼───┨\n",
        "    ┃ 9 │ 3 │ 4 ┃ 8 │ 6 │ 5 ┃ 1 │ 7 │ 2 ┃\n",
        "    ┣━━━┿━━━┿━━━╋━━━┿━━━┿━━━╋━━━┿━━━┿━━━┫\n",
        "    ┃ 3 │ 2 │ 5 ┃ 7 │ 8 │ 1 ┃ 4 │ 6 │ 9 ┃\n",
        "    ┠───┼───┼───╂───┼───┼───╂───┼───┼───┨\n",
        "    ┃ 8 │ 9 │ 6 ┃ 3 │ 5 │ 4 ┃ 2 │ 1 │ 7 ┃\n",
        "    ┠───┼───┼───╂───┼───┼───╂───┼───┼───┨\n",
        "    ┃ 7 │ 4 │ 1 ┃ 6 │ 9 │ 2 ┃ 5 │ 3 │ 8 ┃\n",
        "    ┣━━━┿━━━┿━━━╋━━━┿━━━┿━━━╋━━━┿━━━┿━━━┫\n",
        "    ┃ 4 │ 6 │ 9 ┃ 1 │ 3 │ 8 ┃ 7 │ 2 │ 5 ┃\n",
        "    ┠───┼───┼───╂───┼───┼───╂───┼───┼───┨\n",
        "    ┃ 5 │ 7 │ 3 ┃ 2 │ 4 │ 6 ┃ 9 │ 8 │ 1 ┃\n",
        "    ┠───┼───┼───╂───┼───┼───╂───┼───┼───┨\n",
        "    ┃ 1 │ 8 │ 2 ┃ 5 │ 7 │ 9 ┃ 3 │ 4 │ 6 ┃\n",
        "    ┗━━━┷━━━┷━━━┻━━━┷━━━┷━━━┻━━━┷━━━┷━━━┛"
      ]
    },
    {
      "cell_type": "code",
      "metadata": {
        "colab": {
          "base_uri": "https://localhost:8080/"
        },
        "id": "5YiQ-ttYMGTF",
        "outputId": "a6f6dc0c-7c45-452d-8c18-63b138355ab9"
      },
      "source": [
        "print('\u0001\u0002\u0002\u0003\u0002\u0002\u0003\u0002\u0002\u0004\b\u0005\b\u0006\b\u0005\b\u0006\b\u0005\b\u0007\b\u0005\b\u0006\b\u0005\b\u0006\b\u0005\b\u0007\b\u0005\b\u0006\b\u0005\b\u0006\b\u0005\b\u000e'.translate('|┏━━━|┯━━━|┳━━━|┓|┃ _ │ _ │ _ ┃ _ │ _ │ _ ┃ _ │ _ │ _ ┃|┠───┼───┼───╂───┼───┼───╂───┼───┼───┨|┣━━━┿━━━┿━━━╋━━━┿━━━┿━━━╋━━━┿━━━┿━━━┫|\\n||||||┗━━━┷━━━┷━━━┻━━━┷━━━┷━━━┻━━━┷━━━┷━━━┛'.split('|')))"
      ],
      "execution_count": null,
      "outputs": [
        {
          "output_type": "stream",
          "text": [
            "┏━━━┯━━━┯━━━┳━━━┯━━━┯━━━┳━━━┯━━━┯━━━┓\n",
            "┃ _ │ _ │ _ ┃ _ │ _ │ _ ┃ _ │ _ │ _ ┃\n",
            "┠───┼───┼───╂───┼───┼───╂───┼───┼───┨\n",
            "┃ _ │ _ │ _ ┃ _ │ _ │ _ ┃ _ │ _ │ _ ┃\n",
            "┠───┼───┼───╂───┼───┼───╂───┼───┼───┨\n",
            "┃ _ │ _ │ _ ┃ _ │ _ │ _ ┃ _ │ _ │ _ ┃\n",
            "┣━━━┿━━━┿━━━╋━━━┿━━━┿━━━╋━━━┿━━━┿━━━┫\n",
            "┃ _ │ _ │ _ ┃ _ │ _ │ _ ┃ _ │ _ │ _ ┃\n",
            "┠───┼───┼───╂───┼───┼───╂───┼───┼───┨\n",
            "┃ _ │ _ │ _ ┃ _ │ _ │ _ ┃ _ │ _ │ _ ┃\n",
            "┠───┼───┼───╂───┼───┼───╂───┼───┼───┨\n",
            "┃ _ │ _ │ _ ┃ _ │ _ │ _ ┃ _ │ _ │ _ ┃\n",
            "┣━━━┿━━━┿━━━╋━━━┿━━━┿━━━╋━━━┿━━━┿━━━┫\n",
            "┃ _ │ _ │ _ ┃ _ │ _ │ _ ┃ _ │ _ │ _ ┃\n",
            "┠───┼───┼───╂───┼───┼───╂───┼───┼───┨\n",
            "┃ _ │ _ │ _ ┃ _ │ _ │ _ ┃ _ │ _ │ _ ┃\n",
            "┠───┼───┼───╂───┼───┼───╂───┼───┼───┨\n",
            "┃ _ │ _ │ _ ┃ _ │ _ │ _ ┃ _ │ _ │ _ ┃\n",
            "┗━━━┷━━━┷━━━┻━━━┷━━━┷━━━┻━━━┷━━━┷━━━┛\n"
          ],
          "name": "stdout"
        }
      ]
    },
    {
      "cell_type": "markdown",
      "metadata": {
        "id": "j1aKhdsXNxXT"
      },
      "source": [
        "    \u0001 \u0002 \u0003 \u0004 \u0005 \u0006 \u0007 \b \u000e \u000f \u0010 \u0011 \u0012 \u0013 \u0014 \u0015\n",
        "    1 2 3 4 5 6 7 8 9 0 1 2 3 4 5 6"
      ]
    },
    {
      "cell_type": "code",
      "metadata": {
        "colab": {
          "base_uri": "https://localhost:8080/"
        },
        "id": "nts7lhBsT6NA",
        "outputId": "c3cffa86-322c-4f77-b5b3-36868678b6e5"
      },
      "source": [
        "sudoku=   [[8, 1, 0, 0, 3, 0, 0, 2, 7], \n",
        "            [0, 6, 2, 0, 5, 0, 0, 9, 0], \n",
        "            [0, 7, 0, 0, 0, 0, 0, 0, 0], \n",
        "            [0, 9, 0, 6, 0, 0, 1, 0, 0], \n",
        "            [1, 0, 0, 0, 2, 0, 0, 0, 4], \n",
        "            [0, 0, 8, 0, 0, 5, 0, 7, 0], \n",
        "            [0, 0, 0, 0, 0, 0, 0, 8, 0], \n",
        "            [0, 2, 0, 0, 1, 0, 7, 5, 0], \n",
        "            [3, 8, 0, 0, 7, 0, 0, 4, 2]]\n",
        "def printsudoku():\n",
        "    for i in range(len(sudoku)):\n",
        "        line=''\n",
        "        if i==0:\n",
        "            print('┏━━━┯━━━┯━━━┳━━━┯━━━┯━━━┳━━━┯━━━┯━━━┓')\n",
        "        if i==3 or i==6:\n",
        "            print('┣━━━┿━━━┿━━━╋━━━┿━━━┿━━━╋━━━┿━━━┿━━━┫')\n",
        "        elif i!=0:\n",
        "            print('┠───┼───┼───╂───┼───┼───╂───┼───┼───┨')\n",
        "        for j in range(len(sudoku[i])):\n",
        "            if j==3 or j==6 or j==0 or j==9:\n",
        "                line+='┃ '\n",
        "            if j!=3 and j!=6 and j!=0 :\n",
        "                line+='│ '\n",
        "            line+=str(sudoku[i][j])+' '\n",
        "        print(line + '┃')\n",
        "    print('┗━━━┷━━━┷━━━┻━━━┷━━━┷━━━┻━━━┷━━━┷━━━┛')\n",
        "def findNextCellToFill(sudoku):\n",
        "    for x in range(9):\n",
        "        for y in range(9):\n",
        "            if sudoku[x][y]==0:\n",
        "                return x, y\n",
        "    return -1, -1\n",
        "def isValid(sudoku, i, j, e):\n",
        "    rowYes=all([e!=sudoku[i][x] for x in range(9)])\n",
        "    if rowYes:\n",
        "        columnYes=all([e!=sudoku[x][j] for x in range(9)])\n",
        "        if columnYes:\n",
        "            secTopX, secTopY=3*(i//3), 3*(j//3)\n",
        "            for x in range(secTopX, secTopX+3):\n",
        "                for y in range(secTopY, secTopY+3):\n",
        "                    if sudoku[x][y]==e:\n",
        "                        return False\n",
        "            return True\n",
        "    return False\n",
        "def solveSudoku(sudoku, i=0, j=0):\n",
        "    i, j=findNextCellToFill(sudoku)\n",
        "    if i==-1:\n",
        "        return True\n",
        "    for e in range(1, 10):\n",
        "        if isValid(sudoku, i, j, e):\n",
        "            sudoku[i][j]=e\n",
        "            if solveSudoku(sudoku, i, j):\n",
        "                return True\n",
        "            sudoku[i][j]=0\n",
        "    return False\n",
        "solveSudoku(sudoku)\n",
        "printsudoku()\n"
      ],
      "execution_count": null,
      "outputs": [
        {
          "output_type": "stream",
          "text": [
            "┏━━━┯━━━┯━━━┳━━━┯━━━┯━━━┳━━━┯━━━┯━━━┓\n",
            "┃ 8 │ 1 │ 9 ┃ 4 │ 3 │ 6 ┃ 5 │ 2 │ 7 ┃\n",
            "┠───┼───┼───╂───┼───┼───╂───┼───┼───┨\n",
            "┃ 4 │ 6 │ 2 ┃ 7 │ 5 │ 1 ┃ 3 │ 9 │ 8 ┃\n",
            "┠───┼───┼───╂───┼───┼───╂───┼───┼───┨\n",
            "┃ 5 │ 7 │ 3 ┃ 2 │ 9 │ 8 ┃ 4 │ 1 │ 6 ┃\n",
            "┣━━━┿━━━┿━━━╋━━━┿━━━┿━━━╋━━━┿━━━┿━━━┫\n",
            "┃ 2 │ 9 │ 4 ┃ 6 │ 8 │ 7 ┃ 1 │ 3 │ 5 ┃\n",
            "┠───┼───┼───╂───┼───┼───╂───┼───┼───┨\n",
            "┃ 1 │ 5 │ 7 ┃ 9 │ 2 │ 3 ┃ 8 │ 6 │ 4 ┃\n",
            "┠───┼───┼───╂───┼───┼───╂───┼───┼───┨\n",
            "┃ 6 │ 3 │ 8 ┃ 1 │ 4 │ 5 ┃ 2 │ 7 │ 9 ┃\n",
            "┣━━━┿━━━┿━━━╋━━━┿━━━┿━━━╋━━━┿━━━┿━━━┫\n",
            "┃ 7 │ 4 │ 5 ┃ 3 │ 6 │ 2 ┃ 9 │ 8 │ 1 ┃\n",
            "┠───┼───┼───╂───┼───┼───╂───┼───┼───┨\n",
            "┃ 9 │ 2 │ 6 ┃ 8 │ 1 │ 4 ┃ 7 │ 5 │ 3 ┃\n",
            "┠───┼───┼───╂───┼───┼───╂───┼───┼───┨\n",
            "┃ 3 │ 8 │ 1 ┃ 5 │ 7 │ 9 ┃ 6 │ 4 │ 2 ┃\n",
            "┗━━━┷━━━┷━━━┻━━━┷━━━┷━━━┻━━━┷━━━┷━━━┛\n"
          ],
          "name": "stdout"
        }
      ]
    },
    {
      "cell_type": "markdown",
      "metadata": {
        "id": "WFMpUaDTZI2u"
      },
      "source": [
        "The script above is golfed below."
      ]
    },
    {
      "cell_type": "code",
      "metadata": {
        "colab": {
          "base_uri": "https://localhost:8080/"
        },
        "id": "p2xyuMGjZRBW",
        "outputId": "eb68889b-6a18-4930-d9cd-f32b4f8d6469"
      },
      "source": [
        "sudoku =    [[0,0,8,3,0,7,1,0,0],[0,2,7,0,6,0,0,0,8],[0,0,9,0,0,4,0,0,0],[9,0,0,2,0,0,0,0,0],[0,4,0,0,0,0,9,7,3],[0,0,3,4,0,0,0,0,5],[3,0,6,0,0,1,0,0,0],[0,0,0,6,5,0,0,3,0],[2,0,1,9,0,0,6,4,7]]\n",
        "def printsudoku():\n",
        "    for i in range(len(sudoku)):\n",
        "        line = ''\n",
        "        if i == 0:\n",
        "            print('┏━━━┯━━━┯━━━┳━━━┯━━━┯━━━┳━━━┯━━━┯━━━┓')\n",
        "        if i == 3 or i == 6:\n",
        "            print('┣━━━┿━━━┿━━━╋━━━┿━━━┿━━━╋━━━┿━━━┿━━━┫')\n",
        "        elif i != 0:\n",
        "            print('┠───┼───┼───╂───┼───┼───╂───┼───┼───┨')\n",
        "        for j in range(len(sudoku[i])):\n",
        "            if j == 3 or j == 6 or j == 0 or j == 9:\n",
        "                line += '┃ '\n",
        "            if j != 3 and j !=6 and j !=0 :\n",
        "                line += '│ '\n",
        "            line += str(sudoku[i][j])+' '\n",
        "        print(line + '┃')\n",
        "    print('┗━━━┷━━━┷━━━┻━━━┷━━━┷━━━┻━━━┷━━━┷━━━┛')\n",
        "def findNextCellToFill(sudoku):\n",
        "    for x in range(9):\n",
        "        for y in range(9):\n",
        "            if sudoku[x][y] == 0:\n",
        "                return x, y\n",
        "    return -1, -1\n",
        "def isValid(sudoku, i, j, e):\n",
        "    rowYes = all([e != sudoku[i][x] for x in range(9)])\n",
        "    if rowYes:\n",
        "        columnYes = all([e != sudoku[x][j] for x in range(9)])\n",
        "        if columnYes:\n",
        "            secTopX, secTopY = 3*(i//3), 3*(j//3)\n",
        "            for x in range(secTopX, secTopX+3):\n",
        "                for y in range(secTopY, secTopY+3):\n",
        "                    if sudoku[x][y] == e:\n",
        "                        return False\n",
        "            return True\n",
        "    return False\n",
        "def solveSudoku(sudoku, i=0, j=0):\n",
        "    i, j = findNextCellToFill(sudoku)\n",
        "    if i == -1:\n",
        "        return True\n",
        "    for e in range(1, 10):\n",
        "        if isValid(sudoku, i, j, e):\n",
        "            sudoku[i][j] = e\n",
        "            if solveSudoku(sudoku, i, j):\n",
        "                return True\n",
        "            sudoku[i][j] = 0\n",
        "    return False\n",
        "solveSudoku(sudoku)\n",
        "printsudoku()"
      ],
      "execution_count": null,
      "outputs": [
        {
          "output_type": "stream",
          "text": [
            "┏━━━┯━━━┯━━━┳━━━┯━━━┯━━━┳━━━┯━━━┯━━━┓\n",
            "┃ 5 │ 6 │ 8 ┃ 3 │ 2 │ 7 ┃ 1 │ 9 │ 4 ┃\n",
            "┠───┼───┼───╂───┼───┼───╂───┼───┼───┨\n",
            "┃ 4 │ 2 │ 7 ┃ 1 │ 6 │ 9 ┃ 3 │ 5 │ 8 ┃\n",
            "┠───┼───┼───╂───┼───┼───╂───┼───┼───┨\n",
            "┃ 1 │ 3 │ 9 ┃ 5 │ 8 │ 4 ┃ 7 │ 6 │ 2 ┃\n",
            "┣━━━┿━━━┿━━━╋━━━┿━━━┿━━━╋━━━┿━━━┿━━━┫\n",
            "┃ 9 │ 1 │ 5 ┃ 2 │ 7 │ 3 ┃ 4 │ 8 │ 6 ┃\n",
            "┠───┼───┼───╂───┼───┼───╂───┼───┼───┨\n",
            "┃ 6 │ 4 │ 2 ┃ 8 │ 1 │ 5 ┃ 9 │ 7 │ 3 ┃\n",
            "┠───┼───┼───╂───┼───┼───╂───┼───┼───┨\n",
            "┃ 8 │ 7 │ 3 ┃ 4 │ 9 │ 6 ┃ 2 │ 1 │ 5 ┃\n",
            "┣━━━┿━━━┿━━━╋━━━┿━━━┿━━━╋━━━┿━━━┿━━━┫\n",
            "┃ 3 │ 8 │ 6 ┃ 7 │ 4 │ 1 ┃ 5 │ 2 │ 9 ┃\n",
            "┠───┼───┼───╂───┼───┼───╂───┼───┼───┨\n",
            "┃ 7 │ 9 │ 4 ┃ 6 │ 5 │ 2 ┃ 8 │ 3 │ 1 ┃\n",
            "┠───┼───┼───╂───┼───┼───╂───┼───┼───┨\n",
            "┃ 2 │ 5 │ 1 ┃ 9 │ 3 │ 8 ┃ 6 │ 4 │ 7 ┃\n",
            "┗━━━┷━━━┷━━━┻━━━┷━━━┷━━━┻━━━┷━━━┷━━━┛\n"
          ],
          "name": "stdout"
        }
      ]
    },
    {
      "cell_type": "code",
      "metadata": {
        "id": "YmgA9yQtZ-QF"
      },
      "source": [
        "import sys;a=sys.argv;del a[0];g=[];\n",
        "def f(s):return list(s.replace('_','0'))\n",
        "for i in a:g.append(f(i))\n",
        "b=[[int(q)for q in r]for r in g]\n",
        "print(b)\n",
        "def printb():\n",
        "    for i in range(len(b)):\n",
        "        l=''\n",
        "        if i==0:\n",
        "            print('┏━━━┯━━━┯━━━┳━━━┯━━━┯━━━┳━━━┯━━━┯━━━┓')\n",
        "        if i==3 or i==6:\n",
        "            print('┣━━━┿━━━┿━━━╋━━━┿━━━┿━━━╋━━━┿━━━┿━━━┫')\n",
        "        elif i!=0:\n",
        "            print('┠───┼───┼───╂───┼───┼───╂───┼───┼───┨')\n",
        "        for j in range(len(b[i])):\n",
        "            if j==3 or j==6 or j==0 or j==9:\n",
        "                l+='┃ '\n",
        "            if j!=3 and j!=6 and j!=0 :\n",
        "                l+='│ '\n",
        "            l+=str(b[i][j])+' '\n",
        "        print(l+'┃')\n",
        "    print('┗━━━┷━━━┷━━━┻━━━┷━━━┷━━━┻━━━┷━━━┷━━━┛')\n",
        "def findNextCellToFill(b):\n",
        "    for x in range(9):\n",
        "        for y in range(9):\n",
        "            if b[x][y]==0:\n",
        "                return x,y\n",
        "    return -1,-1\n",
        "def isValid(b,i,j,e):\n",
        "    rowYes=all([e!=b[i][x] for x in range(9)])\n",
        "    if rowYes:\n",
        "        columnYes=all([e!=b[x][j] for x in range(9)])\n",
        "        if columnYes:\n",
        "            secTopX,secTopY=3*(i//3),3*(j//3)\n",
        "            for x in range(secTopX,secTopX+3):\n",
        "                for y in range(secTopY,secTopY+3):\n",
        "                    if b[x][y]==e:\n",
        "                        return 0\n",
        "            return 1\n",
        "    return 0\n",
        "def sb(b,i=0,j=0):\n",
        "    i,j=findNextCellToFill(b)\n",
        "    if i==-1:\n",
        "        return 1\n",
        "    for e in range(1,10):\n",
        "        if isValid(b,i,j,e):\n",
        "            b[i][j]=e\n",
        "            if sb(b,i,j):\n",
        "                return 1\n",
        "            b[i][j]=0\n",
        "    return 0\n",
        "sb(b)\n",
        "printb()"
      ],
      "execution_count": null,
      "outputs": []
    },
    {
      "cell_type": "code",
      "metadata": {
        "colab": {
          "base_uri": "https://localhost:8080/"
        },
        "id": "X2GcFxFZjInO",
        "outputId": "8bcadc21-29fd-4ae9-eb5f-7569c596f6cd"
      },
      "source": [
        "[[0,0,8,3,0,7,1,0,0],[0,2,7,0,6,0,0,0,8],[0,0,9,0,0,4,0,0,0],[9,0,0,2,0,0,0,0,0],[0,4,0,0,0,0,9,7,3],[0,0,3,4,0,0,0,0,5],[3,0,6,0,0,1,0,0,0],[0,0,0,6,5,0,0,3,0],[2,0,1,9,0,0,6,4,7]]"
      ],
      "execution_count": null,
      "outputs": [
        {
          "output_type": "execute_result",
          "data": {
            "text/plain": [
              "([0, 0, 8, 3, 0, 7, 1, 0, 0],\n",
              " [0, 2, 7, 0, 6, 0, 0, 0, 8],\n",
              " [0, 0, 9, 0, 0, 4, 0, 0, 0],\n",
              " [9, 0, 0, 2, 0, 0, 0, 0, 0],\n",
              " [0, 4, 0, 0, 0, 0, 9, 7, 3],\n",
              " [0, 0, 3, 4, 0, 0, 0, 0, 5],\n",
              " [3, 0, 6, 0, 0, 1, 0, 0, 0],\n",
              " [0, 0, 0, 6, 5, 0, 0, 3, 0],\n",
              " [2, 0, 1, 9, 0, 0, 6, 4, 7])"
            ]
          },
          "metadata": {
            "tags": []
          },
          "execution_count": 60
        }
      ]
    },
    {
      "cell_type": "code",
      "metadata": {
        "id": "azwuqjAMK153",
        "colab": {
          "base_uri": "https://localhost:8080/"
        },
        "outputId": "de884fc9-b1aa-468a-81ed-880214f5527e"
      },
      "source": [
        "import sys;a=sys.argv;del a[0];g=[];z=range(9);p=print();e=range()\n",
        "def f(s):return list(s.replace('_','0'))\n",
        "for i in a:g.append(f(i))\n",
        "b=[[int(q)for q in r]for r in g]\n",
        "def pb():\n",
        " for i in e(len(b)):\n",
        "  l=''\n",
        "  if i==0:p('┏━━━┯━━━┯━━━┳━━━┯━━━┯━━━┳━━━┯━━━┯━━━┓')\n",
        "  if i==3 or i==6:p('┣━━━┿━━━┿━━━╋━━━┿━━━┿━━━╋━━━┿━━━┿━━━┫')\n",
        "  elif i!=0:p('┠───┼───┼───╂───┼───┼───╂───┼───┼───┨')\n",
        "  for j in e(len(b[i])):\n",
        "   if j==3 or j==6 or j==0 or j==9:l+='┃ '\n",
        "   if j!=3 and j!=6 and j!=0 :l+='│ '\n",
        "   l+=str(b[i][j])+' '\n",
        "  p(l+'┃')\n",
        " p('┗━━━┷━━━┷━━━┻━━━┷━━━┷━━━┻━━━┷━━━┷━━━┛')\n",
        "def f(b):\n",
        " for x in z:\n",
        "   for y in z:\n",
        "     if b[x][y]==0:\n",
        "       return x,y\n",
        " return -1,-1\n",
        "def V(b,i,j,e):\n",
        " R=all([e!=b[i][x] for x in z])\n",
        " if R:\n",
        "  C=all([e!=b[x][j] for x in z])\n",
        "  if C:\n",
        "   X,Y=3*(i//3),3*(j//3)\n",
        "   for x in e(X,X+3):\n",
        "    for y in e(Y,Y+3):\n",
        "     if b[x][y]==e:\n",
        "      return 0\n",
        "   return 1\n",
        " return 0\n",
        "def sb(b,i=0,j=0):\n",
        " i,j=f(b)\n",
        " if i==-1:return 1\n",
        " for e in e(1,10):\n",
        "  if V(b,i,j,e):\n",
        "   b[i][j]=e\n",
        "   if sb(b,i,j):return 1\n",
        "   b[i][j]=0\n",
        " return 0\n",
        "sb(b);pb()"
      ],
      "execution_count": null,
      "outputs": [
        {
          "output_type": "stream",
          "text": [
            "┏━━━┯━━━┯━━━┳━━━┯━━━┯━━━┳━━━┯━━━┯━━━┓\n",
            "┃ 5 │ 6 │ 8 ┃ 3 │ 2 │ 7 ┃ 1 │ 9 │ 4 ┃\n",
            "┠───┼───┼───╂───┼───┼───╂───┼───┼───┨\n",
            "┃ 4 │ 2 │ 7 ┃ 1 │ 6 │ 9 ┃ 3 │ 5 │ 8 ┃\n",
            "┠───┼───┼───╂───┼───┼───╂───┼───┼───┨\n",
            "┃ 1 │ 3 │ 9 ┃ 5 │ 8 │ 4 ┃ 7 │ 6 │ 2 ┃\n",
            "┣━━━┿━━━┿━━━╋━━━┿━━━┿━━━╋━━━┿━━━┿━━━┫\n",
            "┃ 9 │ 1 │ 5 ┃ 2 │ 7 │ 3 ┃ 4 │ 8 │ 6 ┃\n",
            "┠───┼───┼───╂───┼───┼───╂───┼───┼───┨\n",
            "┃ 6 │ 4 │ 2 ┃ 8 │ 1 │ 5 ┃ 9 │ 7 │ 3 ┃\n",
            "┠───┼───┼───╂───┼───┼───╂───┼───┼───┨\n",
            "┃ 8 │ 7 │ 3 ┃ 4 │ 9 │ 6 ┃ 2 │ 1 │ 5 ┃\n",
            "┣━━━┿━━━┿━━━╋━━━┿━━━┿━━━╋━━━┿━━━┿━━━┫\n",
            "┃ 3 │ 8 │ 6 ┃ 7 │ 4 │ 1 ┃ 5 │ 2 │ 9 ┃\n",
            "┠───┼───┼───╂───┼───┼───╂───┼───┼───┨\n",
            "┃ 7 │ 9 │ 4 ┃ 6 │ 5 │ 2 ┃ 8 │ 3 │ 1 ┃\n",
            "┠───┼───┼───╂───┼───┼───╂───┼───┼───┨\n",
            "┃ 2 │ 5 │ 1 ┃ 9 │ 3 │ 8 ┃ 6 │ 4 │ 7 ┃\n",
            "┗━━━┷━━━┷━━━┻━━━┷━━━┷━━━┻━━━┷━━━┷━━━┛\n"
          ],
          "name": "stdout"
        }
      ]
    },
    {
      "cell_type": "code",
      "metadata": {
        "id": "QB9HQmVZcTWy",
        "colab": {
          "base_uri": "https://localhost:8080/"
        },
        "outputId": "24713715-6d26-44fa-dae0-bdbfc4b57075"
      },
      "source": [
        "b= [[0,0,8,3,0,7,1,0,0],[0,2,7,0,6,0,0,0,8],[0,0,9,0,0,4,0,0,0],[9,0,0,2,0,0,0,0,0],[0,4,0,0,0,0,9,7,3],[0,0,3,4,0,0,0,0,5],[3,0,6,0,0,1,0,0,0],[0,0,0,6,5,0,0,3,0],[2,0,1,9,0,0,6,4,7]]\n",
        "p=print;E=range;z=E(9)\n",
        "def Z(s,b):p(s.translate(b.split('|')))\n",
        "def P():\n",
        " for i in E(len(b)):\n",
        "  l=''\n",
        "  if i==0:Z('┏\u0001┳\u0001┳\u0001┓','|━━━┯━━━┯━━━')\n",
        "  elif i==3or i==6:Z('┣\u0001╋\u0001╋\u0001┫','|━━━┿━━━┿━━━')\n",
        "  else:Z('┠\u0001╂\u0001╂\u0001┨','|───┼───┼───')\n",
        "  for j in E(len(b[i])):\n",
        "   if(j%3==0)|(j==0):l+='┃ '\n",
        "   else:l+='│ '\n",
        "   l+=f\"{b[i][j]:^2}\"\n",
        "  p(l+'┃')\n",
        " Z('┗\u0001┻\u0001┻\u0001┛','|━━━┷━━━┷━━━')\n",
        "def f(b):\n",
        " for x in z:\n",
        "  for y in z:\n",
        "   if b[x][y]==0:return x,y\n",
        " return -1,-1\n",
        "def V(b,i,j,e):\n",
        " R=all([e!=b[i][x]for x in z])\n",
        " if R:\n",
        "  C=all([e!=b[x][j]for x in z])\n",
        "  if C:\n",
        "   X,Y=3*(i//3),3*(j//3)\n",
        "   for x in E(X,X+3):\n",
        "    for y in E(Y,Y+3):\n",
        "     if b[x][y]==e:return 0\n",
        "   return 1\n",
        " return 0\n",
        "def S(b,i=0,j=0):\n",
        " i,j=f(b)\n",
        " if i==-1:return 1\n",
        " for e in E(1,10):\n",
        "  if V(b,i,j,e):\n",
        "   b[i][j]=e\n",
        "   if S(b,i,j):return 1\n",
        "   b[i][j]=0\n",
        " return 0\n",
        "S(b);P()"
      ],
      "execution_count": null,
      "outputs": [
        {
          "output_type": "stream",
          "text": [
            "┏━━━┯━━━┯━━━┳━━━┯━━━┯━━━┳━━━┯━━━┯━━━┓\n",
            "┃ 5 │ 6 │ 8 ┃ 3 │ 2 │ 7 ┃ 1 │ 9 │ 4 ┃\n",
            "┠───┼───┼───╂───┼───┼───╂───┼───┼───┨\n",
            "┃ 4 │ 2 │ 7 ┃ 1 │ 6 │ 9 ┃ 3 │ 5 │ 8 ┃\n",
            "┠───┼───┼───╂───┼───┼───╂───┼───┼───┨\n",
            "┃ 1 │ 3 │ 9 ┃ 5 │ 8 │ 4 ┃ 7 │ 6 │ 2 ┃\n",
            "┣━━━┿━━━┿━━━╋━━━┿━━━┿━━━╋━━━┿━━━┿━━━┫\n",
            "┃ 9 │ 1 │ 5 ┃ 2 │ 7 │ 3 ┃ 4 │ 8 │ 6 ┃\n",
            "┠───┼───┼───╂───┼───┼───╂───┼───┼───┨\n",
            "┃ 6 │ 4 │ 2 ┃ 8 │ 1 │ 5 ┃ 9 │ 7 │ 3 ┃\n",
            "┠───┼───┼───╂───┼───┼───╂───┼───┼───┨\n",
            "┃ 8 │ 7 │ 3 ┃ 4 │ 9 │ 6 ┃ 2 │ 1 │ 5 ┃\n",
            "┣━━━┿━━━┿━━━╋━━━┿━━━┿━━━╋━━━┿━━━┿━━━┫\n",
            "┃ 3 │ 8 │ 6 ┃ 7 │ 4 │ 1 ┃ 5 │ 2 │ 9 ┃\n",
            "┠───┼───┼───╂───┼───┼───╂───┼───┼───┨\n",
            "┃ 7 │ 9 │ 4 ┃ 6 │ 5 │ 2 ┃ 8 │ 3 │ 1 ┃\n",
            "┠───┼───┼───╂───┼───┼───╂───┼───┼───┨\n",
            "┃ 2 │ 5 │ 1 ┃ 9 │ 3 │ 8 ┃ 6 │ 4 │ 7 ┃\n",
            "┗━━━┷━━━┷━━━┻━━━┷━━━┷━━━┻━━━┷━━━┷━━━┛\n"
          ],
          "name": "stdout"
        }
      ]
    },
    {
      "cell_type": "code",
      "metadata": {
        "id": "Yv0-Sx3qfawS"
      },
      "source": [
        "import sys;a=sys.argv;del a[0];g=[];p=print;E=range;z=E(9)\n",
        "def f(s):return*s.replace('_','0'),\n",
        "for i in a:g+=[f(i)]\n",
        "b=[[int(q)for q in r]for r in g]\n",
        "def Z(s,b):p(s.translate(b.split('|')))\n",
        "def P():\n",
        " for i in E(len(b)):\n",
        "  l=''\n",
        "  if i==0:Z('┏\u0001┳\u0001┳\u0001┓','|━━━┯━━━┯━━━')\n",
        "  elif i==3or i==6:Z('┣\u0001╋\u0001╋\u0001┫','|━━━┿━━━┿━━━')\n",
        "  else:Z('┠\u0001╂\u0001╂\u0001┨','|───┼───┼───')\n",
        "  for j in E(len(b[i])):\n",
        "   if(j%3==0)|(j==0):l+='┃ '\n",
        "   else:l+='│ '\n",
        "   l+=f\"{b[i][j]:^2}\"\n",
        "  p(l+'┃')\n",
        " Z('┗\u0001┻\u0001┻\u0001┛','|━━━┷━━━┷━━━')\n",
        "def f(b):\n",
        " for x in z:\n",
        "  for y in z:\n",
        "   if b[x][y]==0:return x,y\n",
        " return -1,-1\n",
        "def V(b,i,j,e):\n",
        " if R:=all([e!=b[i][x]for x in z]):\n",
        "  if C:=all([e!=b[x][j]for x in z]):\n",
        "   for x in E(X:=3*(i//3),X+3):\n",
        "    for y in E(Y:=3*(j//3),Y+3):\n",
        "     if b[x][y]==e:return 0\n",
        "   return 1\n",
        " return 0\n",
        "def S(b,i=0,j=0):\n",
        " i,j=f(b)\n",
        " if i==-1:return 1\n",
        " for e in E(1,10):\n",
        "  if V(b,i,j,e):\n",
        "   b[i][j]=e\n",
        "   if S(b,i,j):return 1\n",
        "   b[i][j]=0\n",
        " return 0\n",
        "S(b);P()"
      ],
      "execution_count": null,
      "outputs": []
    },
    {
      "cell_type": "code",
      "metadata": {
        "id": "995bToPT96pG"
      },
      "source": [
        "import sys;a=sys.argv;del a[0];g=[];E=range;z=E(9)\n",
        "def f(s):return*s.replace('_','0'),\n",
        "for i in a:g+=[f(i)]\n",
        "b=[[int(q)for q in r]for r in g];y=E(len(b))\n",
        "def Z(s,b):print(s.translate(b.split('|')))\n",
        "def P():\n",
        " for i in y:\n",
        "  l=''\n",
        "  if i==0:Z('┏\u0001┳\u0001┳\u0001┓','|━━━┯━━━┯━━━')\n",
        "  elif i==3or i==6:Z('┣\u0001╋\u0001╋\u0001┫','|━━━┿━━━┿━━━')\n",
        "  else:Z('┠\u0001╂\u0001╂\u0001┨','|───┼───┼───')\n",
        "  for j in y:l+=('│ ','┃ ')[j%3==0]+f\"{b[i][j]:^2}\"\n",
        "  print(l+'┃')\n",
        " Z('┗\u0001┻\u0001┻\u0001┛','|━━━┷━━━┷━━━')\n",
        "def f(b):\n",
        " for x in z:\n",
        "  for y in z:\n",
        "   if b[x][y]==0:return x,y\n",
        " return -1,-1\n",
        "def V(b,i,j,e):\n",
        " if R:=all([e!=b[i][x]for x in z]):\n",
        "  if C:=all([e!=b[x][j]for x in z]):\n",
        "   for x in E(X:=3*(i//3),X+3):\n",
        "    for y in E(Y:=3*(j//3),Y+3):\n",
        "     if b[x][y]==e:return 0\n",
        "   return 1\n",
        " return 0\n",
        "def S(b,i=0,j=0):\n",
        " i,j=f(b)\n",
        " if i==-1:return 1\n",
        " for e in E(1,10):\n",
        "  if V(b,i,j,e):\n",
        "   b[i][j]=e\n",
        "   if S(b,i,j):return 1\n",
        "   b[i][j]=0\n",
        " return 0\n",
        "S(b);P()"
      ],
      "execution_count": null,
      "outputs": []
    },
    {
      "cell_type": "code",
      "metadata": {
        "id": "3Yxdz_dQoTHp"
      },
      "source": [
        "import sys;_,*a=sys.argv;E=range;z=E(9)\n",
        "def q(s):return*s.replace('_','0'),\n",
        "g=[q(i)for i in a]\n",
        "y=E(len(b:=[[int(q)for q in r]for r in g]))\n",
        "def Z(s,t):print(s.translate(t.split('|')))\n",
        "def f(b):\n",
        " for x in z:\n",
        "  for y in z:\n",
        "   if b[x][y]==0:return x,y\n",
        " return -1,-1\n",
        "def V(b,i,j,e):\n",
        " if R:=all([e!=b[i][x]for x in z]):\n",
        "  if C:=all([e!=b[x][j]for x in z]):\n",
        "   for x in E(X:=3*(i//3),X+3):\n",
        "    for y in E(Y:=3*(j//3),Y+3):\n",
        "     if b[x][y]==e:return 0\n",
        "   return 1\n",
        " return 0\n",
        "def S(b,i=0,j=0):\n",
        " i,j=f(b)\n",
        " if i==-1:return 1\n",
        " for e in E(1,10):\n",
        "  if V(b,i,j,e):\n",
        "   b[i][j]=e\n",
        "   if S(b,i,j):return 1\n",
        "   b[i][j]=0\n",
        " return 0\n",
        "S(b)\n",
        "Z('┏\u0001┳\u0001┳\u0001┓','|━━━┯━━━┯━━━')\n",
        "for i in y:\n",
        " l=''\n",
        " if i>0:\n",
        "  if i%3==0:Z('┣\u0001╋\u0001╋\u0001┫','|━━━┿━━━┿━━━')\n",
        "  else:Z('┠\u0001╂\u0001╂\u0001┨','|───┼───┼───')\n",
        " for j in y:l+=('│ ','┃ ')[j%3==0]+f\"{b[i][j]:^2}\"\n",
        " print(l+'┃')\n",
        "Z('┗\u0001┻\u0001┻\u0001┛','|━━━┷━━━┷━━━')"
      ],
      "execution_count": null,
      "outputs": []
    },
    {
      "cell_type": "code",
      "metadata": {
        "colab": {
          "base_uri": "https://localhost:8080/"
        },
        "id": "pikTHo-mm6mS",
        "outputId": "7eec7447-f970-4715-9b87-6e298df3b707"
      },
      "source": [
        "import sys;_,*a=sys.argv;E=range;z=E(9)\n",
        "def q(s):return*s.replace('_','0'),\n",
        "g=[q(i)for i in a]\n",
        "b=[[int(q)for q in r]for r in g]\n",
        "def Z(s,t):print(s.translate(t.split('|')))\n",
        "def f(b):\n",
        " for x in z:\n",
        "  for y in z:\n",
        "   if b[x][y]==0:return x,y\n",
        " return -1,-1\n",
        "def V(b,i,j,e):\n",
        " if R:=all([e!=b[i][x]for x in z]):\n",
        "  if C:=all([e!=b[x][j]for x in z]):\n",
        "   for x in E(X:=3*(i//3),X+3):\n",
        "    for y in E(Y:=3*(j//3),Y+3):\n",
        "     if b[x][y]==e:return 0\n",
        "   return 1\n",
        " return 0\n",
        "def S(b,i=0,j=0):\n",
        " i,j=f(b)\n",
        " if-~i==0:return 1\n",
        " for e in E(1,10):\n",
        "  if V(b,i,j,e):\n",
        "   b[i][j]=e\n",
        "   if S(b,i,j):return 1\n",
        "   b[i][j]=0\n",
        " return 0\n",
        "S(b)\n",
        "Z('┏\u0001┳\u0001┳\u0001┓','|━━━┯━━━┯━━━')\n",
        "for i in E(9):\n",
        " l=''\n",
        " if i%3==0and i>0:Z('┣\u0001╋\u0001╋\u0001┫','|━━━┿━━━┿━━━')\n",
        " elif i-0:Z('┠\u0001╂\u0001╂\u0001┨','|───┼───┼───')\n",
        " for j in E(9):l+=('│ ','┃ ')[j%3==0]+f\"{b[i][j]:^2}\"\n",
        " print(l+'┃')\n",
        "Z('┗\u0001┻\u0001┻\u0001┛','|━━━┷━━━┷━━━')"
      ],
      "execution_count": null,
      "outputs": [
        {
          "output_type": "error",
          "ename": "SyntaxError",
          "evalue": "ignored",
          "traceback": [
            "\u001b[0;36m  File \u001b[0;32m\"<ipython-input-1-f29d8cf64772>\"\u001b[0;36m, line \u001b[0;32m2\u001b[0m\n\u001b[0;31m    def q(s):return*s.replace('_','0'),\u001b[0m\n\u001b[0m                   ^\u001b[0m\n\u001b[0;31mSyntaxError\u001b[0m\u001b[0;31m:\u001b[0m invalid syntax\n"
          ]
        }
      ]
    },
    {
      "cell_type": "code",
      "metadata": {
        "colab": {
          "base_uri": "https://localhost:8080/",
          "height": 197
        },
        "id": "nWlvQmEyIt5G",
        "outputId": "586bc5e8-2b87-425d-ee53-ae59669c5084"
      },
      "source": [
        "import sys;E=range;z=E(9)\n",
        "def Z(s,t):print(s.translate(t.split('|')))\n",
        "def f(b):\n",
        " for x in z:\n",
        "  for y in z:\n",
        "   if 1>>b[x][y]:return x,y\n",
        " return-1,-1\n",
        "def V(b,i,j,e):\n",
        " if R:=all([e!=b[i][x]for x in z]):\n",
        "  if C:=all([e!=b[x][j]for x in z]):\n",
        "   for x in E(X:=3*(i//3),X+3):\n",
        "    for y in E(Y:=3*(j//3),Y+3):\n",
        "     if b[x][y]==e:return 0\n",
        "   return 1\n",
        "def S(b,i=0,j=0):\n",
        " i,j=f(b)\n",
        " if i<0:return 1\n",
        " for e in E(1,10):\n",
        "  if V(b,i,j,e):\n",
        "   b[i][j]=e\n",
        "   if S(b,i,j):return 1\n",
        "   b[i][j]=0\n",
        "S(b:=[[int(m)for m in r]for r in[i.replace('_','0')for i in sys.argv[1:]]])\n",
        "for i in z:\n",
        " if i<1:Z('┏\u0001┳\u0001┳\u0001┓','|━━━┯━━━┯━━━')\n",
        " elif i%3<1:Z('┣\u0001╋\u0001╋\u0001┫','|━━━┿━━━┿━━━')\n",
        " else:Z('┠\u0001╂\u0001╂\u0001┨','|───┼───┼───')\n",
        " l=''\n",
        " for j in z:l+=('│','┃')[j%3<1]+f\"{b[i][j]:^3}\"\n",
        " print(l+'┃')\n",
        "Z('┗\u0001┻\u0001┻\u0001┛','|━━━┷━━━┷━━━')"
      ],
      "execution_count": null,
      "outputs": [
        {
          "output_type": "error",
          "ename": "NameError",
          "evalue": "ignored",
          "traceback": [
            "\u001b[0;31m---------------------------------------------------------------------------\u001b[0m",
            "\u001b[0;31mNameError\u001b[0m                                 Traceback (most recent call last)",
            "\u001b[0;32m<ipython-input-1-845d610fb5a0>\u001b[0m in \u001b[0;36m<module>\u001b[0;34m()\u001b[0m\n\u001b[1;32m      3\u001b[0m  \u001b[0;32mif\u001b[0m \u001b[0mi\u001b[0m\u001b[0;34m<\u001b[0m\u001b[0;36m0\u001b[0m\u001b[0;34m:\u001b[0m\u001b[0mprint\u001b[0m\u001b[0;34m(\u001b[0m\u001b[0ma\u001b[0m\u001b[0;34m)\u001b[0m\u001b[0;34m\u001b[0m\u001b[0;34m\u001b[0m\u001b[0m\n\u001b[1;32m      4\u001b[0m  \u001b[0;34m[\u001b[0m\u001b[0mm\u001b[0m \u001b[0;32min\u001b[0m\u001b[0;34m[\u001b[0m\u001b[0;34m(\u001b[0m\u001b[0mi\u001b[0m\u001b[0;34m-\u001b[0m\u001b[0mj\u001b[0m\u001b[0;34m)\u001b[0m\u001b[0;34m%\u001b[0m\u001b[0;36m9\u001b[0m\u001b[0;34m*\u001b[0m\u001b[0;34m(\u001b[0m\u001b[0mi\u001b[0m\u001b[0;34m/\u001b[0m\u001b[0;36m9\u001b[0m\u001b[0;34m^\u001b[0m\u001b[0mj\u001b[0m\u001b[0;34m/\u001b[0m\u001b[0;36m9\u001b[0m\u001b[0;34m)\u001b[0m\u001b[0;34m*\u001b[0m\u001b[0;34m(\u001b[0m\u001b[0mi\u001b[0m\u001b[0;34m/\u001b[0m\u001b[0;36m27\u001b[0m\u001b[0;34m^\u001b[0m\u001b[0mj\u001b[0m\u001b[0;34m/\u001b[0m\u001b[0;36m27\u001b[0m\u001b[0;34m|\u001b[0m\u001b[0mi\u001b[0m\u001b[0;34m%\u001b[0m\u001b[0;36m9\u001b[0m\u001b[0;34m/\u001b[0m\u001b[0;36m3\u001b[0m\u001b[0;34m^\u001b[0m\u001b[0mj\u001b[0m\u001b[0;34m%\u001b[0m\u001b[0;36m9\u001b[0m\u001b[0;34m/\u001b[0m\u001b[0;36m3\u001b[0m\u001b[0;34m)\u001b[0m\u001b[0;32mor\u001b[0m \u001b[0ma\u001b[0m\u001b[0;34m[\u001b[0m\u001b[0mj\u001b[0m\u001b[0;34m]\u001b[0m\u001b[0;32mfor\u001b[0m \u001b[0mj\u001b[0m \u001b[0;32min\u001b[0m \u001b[0mrange\u001b[0m\u001b[0;34m(\u001b[0m\u001b[0;36m81\u001b[0m\u001b[0;34m)\u001b[0m\u001b[0;34m]\u001b[0m\u001b[0;32mor\u001b[0m \u001b[0mr\u001b[0m\u001b[0;34m(\u001b[0m\u001b[0ma\u001b[0m\u001b[0;34m[\u001b[0m\u001b[0;34m:\u001b[0m\u001b[0mi\u001b[0m\u001b[0;34m]\u001b[0m\u001b[0;34m+\u001b[0m\u001b[0mm\u001b[0m\u001b[0;34m+\u001b[0m\u001b[0ma\u001b[0m\u001b[0;34m[\u001b[0m\u001b[0mi\u001b[0m\u001b[0;34m+\u001b[0m\u001b[0;36m1\u001b[0m\u001b[0;34m:\u001b[0m\u001b[0;34m]\u001b[0m\u001b[0;34m)\u001b[0m\u001b[0;32mfor\u001b[0m \u001b[0mm\u001b[0m \u001b[0;32min\u001b[0m \u001b[0mstr\u001b[0m\u001b[0;34m(\u001b[0m\u001b[0;36m14\u001b[0m\u001b[0;34m**\u001b[0m\u001b[0;36m7\u001b[0m\u001b[0;34m*\u001b[0m\u001b[0;36m9\u001b[0m\u001b[0;34m)\u001b[0m\u001b[0;34m]\u001b[0m\u001b[0;34m\u001b[0m\u001b[0;34m\u001b[0m\u001b[0m\n\u001b[0;32m----> 5\u001b[0;31m \u001b[0mr\u001b[0m\u001b[0;34m(\u001b[0m\u001b[0mraw_input\u001b[0m\u001b[0;34m(\u001b[0m\u001b[0;34m)\u001b[0m\u001b[0;34m)\u001b[0m\u001b[0;34m\u001b[0m\u001b[0;34m\u001b[0m\u001b[0m\n\u001b[0m",
            "\u001b[0;31mNameError\u001b[0m: name 'raw_input' is not defined"
          ]
        }
      ]
    }
  ]
}