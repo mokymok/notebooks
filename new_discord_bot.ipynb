{
  "nbformat": 4,
  "nbformat_minor": 0,
  "metadata": {
    "colab": {
      "name": "new_discord_bot.ipynb",
      "provenance": [],
      "collapsed_sections": [],
      "authorship_tag": "ABX9TyNkZVtxvQnnKM2uHosPyE/j",
      "include_colab_link": true
    },
    "kernelspec": {
      "name": "python3",
      "display_name": "Python 3"
    },
    "language_info": {
      "name": "python"
    }
  },
  "cells": [
    {
      "cell_type": "markdown",
      "metadata": {
        "id": "view-in-github",
        "colab_type": "text"
      },
      "source": [
        "<a href=\"https://colab.research.google.com/github/mokymok/notebooks/blob/main/new_discord_bot.ipynb\" target=\"_parent\"><img src=\"https://colab.research.google.com/assets/colab-badge.svg\" alt=\"Open In Colab\"/></a>"
      ]
    },
    {
      "cell_type": "code",
      "metadata": {
        "colab": {
          "base_uri": "https://localhost:8080/"
        },
        "id": "bEB7JJVUO59q",
        "outputId": "b157d62d-a763-45bf-f509-2279d75af7c3"
      },
      "source": [
        "#import and init dependencies\n",
        "!pip install pyttsx3\n",
        "!pip install discord\n",
        "!sudo apt install libespeak1\n",
        "!pip install nest_asyncio"
      ],
      "execution_count": null,
      "outputs": [
        {
          "output_type": "stream",
          "text": [
            "Collecting pyttsx3\n",
            "  Downloading https://files.pythonhosted.org/packages/33/9a/de4781245f5ad966646fd276259ef7cfd400ba3cf7d5db7c0d5aab310c20/pyttsx3-2.90-py3-none-any.whl\n",
            "Installing collected packages: pyttsx3\n",
            "Successfully installed pyttsx3-2.90\n",
            "Collecting discord\n",
            "  Downloading https://files.pythonhosted.org/packages/aa/76/75382e581c7932c177568e985a6967a305b1788f51936e819010e5538ef4/discord-1.0.1-py3-none-any.whl\n",
            "Collecting discord.py>=1.0.1\n",
            "\u001b[?25l  Downloading https://files.pythonhosted.org/packages/25/b8/431808c895bb3a5ae24cfafc990c5fde0c4bbe07433cce29cd1f72bfb8d1/discord.py-1.7.2-py3-none-any.whl (786kB)\n",
            "\u001b[K     |████████████████████████████████| 788kB 8.1MB/s \n",
            "\u001b[?25hCollecting aiohttp<3.8.0,>=3.6.0\n",
            "\u001b[?25l  Downloading https://files.pythonhosted.org/packages/88/c0/5890b4c8b04a79b7360e8fe4490feb0bb3ab179743f199f0e6220cebd568/aiohttp-3.7.4.post0-cp37-cp37m-manylinux2014_x86_64.whl (1.3MB)\n",
            "\u001b[K     |████████████████████████████████| 1.3MB 43.5MB/s \n",
            "\u001b[?25hRequirement already satisfied: chardet<5.0,>=2.0 in /usr/local/lib/python3.7/dist-packages (from aiohttp<3.8.0,>=3.6.0->discord.py>=1.0.1->discord) (3.0.4)\n",
            "Collecting multidict<7.0,>=4.5\n",
            "\u001b[?25l  Downloading https://files.pythonhosted.org/packages/7c/a6/4123b8165acbe773d1a8dc8e3f0d1edea16d29f7de018eda769abb56bd30/multidict-5.1.0-cp37-cp37m-manylinux2014_x86_64.whl (142kB)\n",
            "\u001b[K     |████████████████████████████████| 143kB 31.9MB/s \n",
            "\u001b[?25hRequirement already satisfied: attrs>=17.3.0 in /usr/local/lib/python3.7/dist-packages (from aiohttp<3.8.0,>=3.6.0->discord.py>=1.0.1->discord) (21.2.0)\n",
            "Requirement already satisfied: typing-extensions>=3.6.5 in /usr/local/lib/python3.7/dist-packages (from aiohttp<3.8.0,>=3.6.0->discord.py>=1.0.1->discord) (3.7.4.3)\n",
            "Collecting async-timeout<4.0,>=3.0\n",
            "  Downloading https://files.pythonhosted.org/packages/e1/1e/5a4441be21b0726c4464f3f23c8b19628372f606755a9d2e46c187e65ec4/async_timeout-3.0.1-py3-none-any.whl\n",
            "Collecting yarl<2.0,>=1.0\n",
            "\u001b[?25l  Downloading https://files.pythonhosted.org/packages/f1/62/046834c5fc998c88ab2ef722f5d42122230a632212c8afa76418324f53ff/yarl-1.6.3-cp37-cp37m-manylinux2014_x86_64.whl (294kB)\n",
            "\u001b[K     |████████████████████████████████| 296kB 29.8MB/s \n",
            "\u001b[?25hRequirement already satisfied: idna>=2.0 in /usr/local/lib/python3.7/dist-packages (from yarl<2.0,>=1.0->aiohttp<3.8.0,>=3.6.0->discord.py>=1.0.1->discord) (2.10)\n",
            "Installing collected packages: multidict, async-timeout, yarl, aiohttp, discord.py, discord\n",
            "Successfully installed aiohttp-3.7.4.post0 async-timeout-3.0.1 discord-1.0.1 discord.py-1.7.2 multidict-5.1.0 yarl-1.6.3\n",
            "Reading package lists... Done\n",
            "Building dependency tree       \n",
            "Reading state information... Done\n",
            "The following package was automatically installed and is no longer required:\n",
            "  libnvidia-common-460\n",
            "Use 'sudo apt autoremove' to remove it.\n",
            "The following additional packages will be installed:\n",
            "  espeak-data libportaudio2 libsonic0\n",
            "The following NEW packages will be installed:\n",
            "  espeak-data libespeak1 libportaudio2 libsonic0\n",
            "0 upgraded, 4 newly installed, 0 to remove and 34 not upgraded.\n",
            "Need to get 1,157 kB of archives.\n",
            "After this operation, 2,822 kB of additional disk space will be used.\n",
            "Get:1 http://archive.ubuntu.com/ubuntu bionic/universe amd64 espeak-data amd64 1.48.04+dfsg-5 [934 kB]\n",
            "Get:2 http://archive.ubuntu.com/ubuntu bionic/universe amd64 libportaudio2 amd64 19.6.0-1 [64.6 kB]\n",
            "Get:3 http://archive.ubuntu.com/ubuntu bionic/main amd64 libsonic0 amd64 0.2.0-6 [13.4 kB]\n",
            "Get:4 http://archive.ubuntu.com/ubuntu bionic/universe amd64 libespeak1 amd64 1.48.04+dfsg-5 [145 kB]\n",
            "Fetched 1,157 kB in 1s (894 kB/s)\n",
            "debconf: unable to initialize frontend: Dialog\n",
            "debconf: (No usable dialog-like program is installed, so the dialog based frontend cannot be used. at /usr/share/perl5/Debconf/FrontEnd/Dialog.pm line 76, <> line 4.)\n",
            "debconf: falling back to frontend: Readline\n",
            "debconf: unable to initialize frontend: Readline\n",
            "debconf: (This frontend requires a controlling tty.)\n",
            "debconf: falling back to frontend: Teletype\n",
            "dpkg-preconfigure: unable to re-open stdin: \n",
            "Selecting previously unselected package espeak-data:amd64.\n",
            "(Reading database ... 160706 files and directories currently installed.)\n",
            "Preparing to unpack .../espeak-data_1.48.04+dfsg-5_amd64.deb ...\n",
            "Unpacking espeak-data:amd64 (1.48.04+dfsg-5) ...\n",
            "Selecting previously unselected package libportaudio2:amd64.\n",
            "Preparing to unpack .../libportaudio2_19.6.0-1_amd64.deb ...\n",
            "Unpacking libportaudio2:amd64 (19.6.0-1) ...\n",
            "Selecting previously unselected package libsonic0:amd64.\n",
            "Preparing to unpack .../libsonic0_0.2.0-6_amd64.deb ...\n",
            "Unpacking libsonic0:amd64 (0.2.0-6) ...\n",
            "Selecting previously unselected package libespeak1:amd64.\n",
            "Preparing to unpack .../libespeak1_1.48.04+dfsg-5_amd64.deb ...\n",
            "Unpacking libespeak1:amd64 (1.48.04+dfsg-5) ...\n",
            "Setting up libportaudio2:amd64 (19.6.0-1) ...\n",
            "Setting up espeak-data:amd64 (1.48.04+dfsg-5) ...\n",
            "Setting up libsonic0:amd64 (0.2.0-6) ...\n",
            "Setting up libespeak1:amd64 (1.48.04+dfsg-5) ...\n",
            "Processing triggers for libc-bin (2.27-3ubuntu1.2) ...\n",
            "/sbin/ldconfig.real: /usr/local/lib/python3.7/dist-packages/ideep4py/lib/libmkldnn.so.0 is not a symbolic link\n",
            "\n",
            "Requirement already satisfied: nest_asyncio in /usr/local/lib/python3.7/dist-packages (1.5.1)\n"
          ],
          "name": "stdout"
        }
      ]
    },
    {
      "cell_type": "markdown",
      "metadata": {
        "id": "qEmDYU_L30GS"
      },
      "source": [
        "The following should be a basic tts bot for discord that only reads other bot messages.  Command prefix is ^,\n",
        "\n",
        "**^join**\n",
        "**and**\n",
        "**^leave**\n",
        "\n",
        "are the two different commands programmed so far, used to get the bot in the voice channel that you're in.   Presence is set to 'Listening to Markov' for the time being, since that's its primary use.\n"
      ]
    },
    {
      "cell_type": "code",
      "metadata": {
        "id": "7fiyYQAvOG85",
        "colab": {
          "base_uri": "https://localhost:8080/"
        },
        "outputId": "2067f3a0-a7e6-4707-dc26-691ee08b1267"
      },
      "source": [
        "import pyttsx3\n",
        "import discord\n",
        "from discord import Intents\n",
        "import asyncio\n",
        "from discord.ext import commands\n",
        "\n",
        "intents = Intents.all()\n",
        "bot = commands.Bot(intents = intents, command_prefix = '^')\n",
        "engine = pyttsx3.init()\n",
        "token = ''\n",
        "loop = asyncio.get_event_loop()\n",
        "print(loop)\n",
        "self = discord.User\n",
        "\n",
        "@bot.event\n",
        "async def on_ready():\n",
        "  print('Logged on as', self.user)\n",
        "  await bot.change_presence(\n",
        "      activity = discord.Activity(\n",
        "          type = discord.ActivityType.listening, \n",
        "          name = 'Markov'))\n",
        "\n",
        "@bot.command(pass_context=True)\n",
        "async def join(ctx):\n",
        "  channel = ctx.author.voice.channel\n",
        "  await channel.connect()\n",
        "\n",
        "@bot.command(pass_context=True)\n",
        "async def leave(ctx):\n",
        "  await ctx.voice_client.disconnect()\n",
        "\n",
        "@bot.command(pass_context=True)\n",
        "async def test(ctx):\n",
        "  await ctx.send('This is a test message!', tts=True)\n",
        "\n",
        "@bot.event\n",
        "async def on_message(self, message):\n",
        "  if message.author == self.user:\n",
        "    return\n",
        "    await bot.process_commands(message)\n",
        "  messageContent = message.content\n",
        "  if message.author == discord.User.bot:\n",
        "    async def send_audio_packet(data, encode = True):\n",
        "      data = engine.say(messageContent)\n",
        "      engine.runAndWait()\n",
        "  else: \n",
        "    return\n",
        "    await bot.process_commands(message)\n",
        "\n",
        "if loop.is_running() == False:\n",
        "    bot.run(token)"
      ],
      "execution_count": null,
      "outputs": [
        {
          "output_type": "stream",
          "text": [
            "<_UnixSelectorEventLoop running=True closed=False debug=False>\n"
          ],
          "name": "stdout"
        }
      ]
    },
    {
      "cell_type": "code",
      "metadata": {
        "id": "WZftnuWRKQ_A"
      },
      "source": [
        ""
      ],
      "execution_count": null,
      "outputs": []
    }
  ]
}