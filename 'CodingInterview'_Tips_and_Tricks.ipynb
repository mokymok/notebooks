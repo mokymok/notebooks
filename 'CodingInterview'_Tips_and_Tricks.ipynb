{
  "nbformat": 4,
  "nbformat_minor": 0,
  "metadata": {
    "colab": {
      "name": "'CodingInterview' Tips and Tricks.ipynb",
      "provenance": [],
      "authorship_tag": "ABX9TyMM8q+OF3aey0QddY8JXyXJ",
      "include_colab_link": true
    },
    "kernelspec": {
      "name": "python3",
      "display_name": "Python 3"
    },
    "language_info": {
      "name": "python"
    }
  },
  "cells": [
    {
      "cell_type": "markdown",
      "metadata": {
        "id": "view-in-github",
        "colab_type": "text"
      },
      "source": [
        "<a href=\"https://colab.research.google.com/github/mokymok/notebooks/blob/main/'CodingInterview'_Tips_and_Tricks.ipynb\" target=\"_parent\"><img src=\"https://colab.research.google.com/assets/colab-badge.svg\" alt=\"Open In Colab\"/></a>"
      ]
    },
    {
      "cell_type": "markdown",
      "metadata": {
        "id": "SqIb3hQQPq4Q"
      },
      "source": [
        "# Some quick notes before starting"
      ]
    },
    {
      "cell_type": "markdown",
      "metadata": {
        "id": "2XfLtpinIKa7"
      },
      "source": [
        "When iterating over an array of `m*n` cells, you can use two nested `for` loops, with `m` being rows and `n` being columns."
      ]
    },
    {
      "cell_type": "code",
      "metadata": {
        "id": "Kc3Ql2K_IgRk"
      },
      "source": [
        "for i in range(m):\n",
        "    for j in range(n):\n",
        "        do_stuff(i,j)"
      ],
      "execution_count": null,
      "outputs": []
    },
    {
      "cell_type": "markdown",
      "metadata": {
        "id": "9UnZCtMHIiwa"
      },
      "source": [
        "However, you can make this significantly smaller by iterating over the Cartesian product of these two ranges and parsing out `m` and `n` inside the loop.  This works by effectively encoding the pair `(i,j)` as `k=i*n+j`.  It's worth noting that it may be helpful to assign `i` and `j` inside the loop as `i=k//n` and `j=k%n` respectively."
      ]
    },
    {
      "cell_type": "code",
      "metadata": {
        "id": "lUFPL2mAJz46"
      },
      "source": [
        "for k in range(m*n):\n",
        "  do_stuff(k//n,k%n)"
      ],
      "execution_count": null,
      "outputs": []
    },
    {
      "cell_type": "markdown",
      "metadata": {
        "id": "RG5gmmFSJ_ro"
      },
      "source": [
        "This can also be extended to a triple nested `for` loop, encoding the set `(i,j,h)` as `k=(i*n+j)p+h`.  Again, it's worth noting that assigning `i=k//n//p`, `j=k%(n*p)//p`, and `h=k%p` inside the loop may be helpful."
      ]
    },
    {
      "cell_type": "code",
      "metadata": {
        "id": "sRI9fm4NKiHJ"
      },
      "source": [
        "for k in range(m*n*p):\n",
        "    do_stuff(k//n//p,k%(n*p)//p,k%p)"
      ],
      "execution_count": null,
      "outputs": []
    },
    {
      "cell_type": "markdown",
      "metadata": {
        "id": "A_F9epvqO9vA"
      },
      "source": [
        "# Problem 1\n",
        "\n",
        "With all that being said, here's a sample problem that some YouTubers did. \n",
        "    *(One is a Senior Software Developer at Google, has given these interviews plenty of times.)*\n",
        "\n",
        "\n",
        "Given an array of integers `nums` and an integer `target`, return the indices of the two numbers such that they add up to the target."
      ]
    },
    {
      "cell_type": "code",
      "metadata": {
        "id": "p-fuhUeaPn8I"
      },
      "source": [
        "intArray = []\n",
        "targetInt = x\n",
        "for k in range(m * n):\n",
        "    i = k // n\n",
        "    j = k % n\n",
        "    if i + j = x:\n",
        "        print(m)"
      ],
      "execution_count": null,
      "outputs": []
    },
    {
      "cell_type": "code",
      "metadata": {
        "colab": {
          "base_uri": "https://localhost:8080/"
        },
        "id": "bjeYTlxkRMDH",
        "outputId": "cbdba800-1f83-45ee-efe6-d6f88c13c5ef"
      },
      "source": [
        "import random\n",
        "import numpy as np\n",
        "\n",
        "intArray = np.random.randint(20, size=(15, 6))\n",
        "targetInt = 14\n",
        "for numOne in intArray:\n",
        "    for numTwo in intArray:\n",
        "        targetArray = (targetInt == numOne + numTwo)\n",
        "        print(np.where(targetArray))"
      ],
      "execution_count": null,
      "outputs": [
        {
          "output_type": "stream",
          "text": [
            "(array([], dtype=int64),)\n",
            "(array([], dtype=int64),)\n",
            "(array([], dtype=int64),)\n",
            "(array([], dtype=int64),)\n",
            "(array([], dtype=int64),)\n",
            "(array([], dtype=int64),)\n",
            "(array([], dtype=int64),)\n",
            "(array([5]),)\n",
            "(array([], dtype=int64),)\n",
            "(array([], dtype=int64),)\n",
            "(array([], dtype=int64),)\n",
            "(array([], dtype=int64),)\n",
            "(array([5]),)\n",
            "(array([], dtype=int64),)\n",
            "(array([], dtype=int64),)\n",
            "(array([], dtype=int64),)\n",
            "(array([], dtype=int64),)\n",
            "(array([], dtype=int64),)\n",
            "(array([], dtype=int64),)\n",
            "(array([], dtype=int64),)\n",
            "(array([], dtype=int64),)\n",
            "(array([], dtype=int64),)\n",
            "(array([4]),)\n",
            "(array([], dtype=int64),)\n",
            "(array([], dtype=int64),)\n",
            "(array([], dtype=int64),)\n",
            "(array([], dtype=int64),)\n",
            "(array([], dtype=int64),)\n",
            "(array([4]),)\n",
            "(array([2]),)\n",
            "(array([], dtype=int64),)\n",
            "(array([], dtype=int64),)\n",
            "(array([], dtype=int64),)\n",
            "(array([4]),)\n",
            "(array([4]),)\n",
            "(array([], dtype=int64),)\n",
            "(array([], dtype=int64),)\n",
            "(array([], dtype=int64),)\n",
            "(array([], dtype=int64),)\n",
            "(array([], dtype=int64),)\n",
            "(array([], dtype=int64),)\n",
            "(array([0]),)\n",
            "(array([], dtype=int64),)\n",
            "(array([], dtype=int64),)\n",
            "(array([0]),)\n",
            "(array([], dtype=int64),)\n",
            "(array([], dtype=int64),)\n",
            "(array([4]),)\n",
            "(array([1]),)\n",
            "(array([], dtype=int64),)\n",
            "(array([], dtype=int64),)\n",
            "(array([3]),)\n",
            "(array([], dtype=int64),)\n",
            "(array([], dtype=int64),)\n",
            "(array([], dtype=int64),)\n",
            "(array([2]),)\n",
            "(array([], dtype=int64),)\n",
            "(array([], dtype=int64),)\n",
            "(array([], dtype=int64),)\n",
            "(array([], dtype=int64),)\n",
            "(array([], dtype=int64),)\n",
            "(array([], dtype=int64),)\n",
            "(array([4]),)\n",
            "(array([], dtype=int64),)\n",
            "(array([2]),)\n",
            "(array([], dtype=int64),)\n",
            "(array([], dtype=int64),)\n",
            "(array([1, 2]),)\n",
            "(array([], dtype=int64),)\n",
            "(array([], dtype=int64),)\n",
            "(array([], dtype=int64),)\n",
            "(array([], dtype=int64),)\n",
            "(array([], dtype=int64),)\n",
            "(array([], dtype=int64),)\n",
            "(array([], dtype=int64),)\n",
            "(array([], dtype=int64),)\n",
            "(array([], dtype=int64),)\n",
            "(array([], dtype=int64),)\n",
            "(array([], dtype=int64),)\n",
            "(array([], dtype=int64),)\n",
            "(array([], dtype=int64),)\n",
            "(array([], dtype=int64),)\n",
            "(array([], dtype=int64),)\n",
            "(array([], dtype=int64),)\n",
            "(array([3]),)\n",
            "(array([], dtype=int64),)\n",
            "(array([0]),)\n",
            "(array([], dtype=int64),)\n",
            "(array([], dtype=int64),)\n",
            "(array([0, 1]),)\n",
            "(array([], dtype=int64),)\n",
            "(array([], dtype=int64),)\n",
            "(array([], dtype=int64),)\n",
            "(array([3]),)\n",
            "(array([], dtype=int64),)\n",
            "(array([], dtype=int64),)\n",
            "(array([], dtype=int64),)\n",
            "(array([1]),)\n",
            "(array([], dtype=int64),)\n",
            "(array([], dtype=int64),)\n",
            "(array([], dtype=int64),)\n",
            "(array([], dtype=int64),)\n",
            "(array([], dtype=int64),)\n",
            "(array([], dtype=int64),)\n",
            "(array([], dtype=int64),)\n",
            "(array([5]),)\n",
            "(array([4]),)\n",
            "(array([], dtype=int64),)\n",
            "(array([], dtype=int64),)\n",
            "(array([1, 2]),)\n",
            "(array([], dtype=int64),)\n",
            "(array([1]),)\n",
            "(array([2]),)\n",
            "(array([], dtype=int64),)\n",
            "(array([], dtype=int64),)\n",
            "(array([4]),)\n",
            "(array([5]),)\n",
            "(array([], dtype=int64),)\n",
            "(array([], dtype=int64),)\n",
            "(array([], dtype=int64),)\n",
            "(array([], dtype=int64),)\n",
            "(array([], dtype=int64),)\n",
            "(array([], dtype=int64),)\n",
            "(array([], dtype=int64),)\n",
            "(array([], dtype=int64),)\n",
            "(array([], dtype=int64),)\n",
            "(array([], dtype=int64),)\n",
            "(array([], dtype=int64),)\n",
            "(array([], dtype=int64),)\n",
            "(array([], dtype=int64),)\n",
            "(array([], dtype=int64),)\n",
            "(array([4]),)\n",
            "(array([], dtype=int64),)\n",
            "(array([], dtype=int64),)\n",
            "(array([], dtype=int64),)\n",
            "(array([], dtype=int64),)\n",
            "(array([], dtype=int64),)\n",
            "(array([], dtype=int64),)\n",
            "(array([], dtype=int64),)\n",
            "(array([], dtype=int64),)\n",
            "(array([3]),)\n",
            "(array([], dtype=int64),)\n",
            "(array([], dtype=int64),)\n",
            "(array([], dtype=int64),)\n",
            "(array([], dtype=int64),)\n",
            "(array([], dtype=int64),)\n",
            "(array([0]),)\n",
            "(array([], dtype=int64),)\n",
            "(array([], dtype=int64),)\n",
            "(array([0]),)\n",
            "(array([], dtype=int64),)\n",
            "(array([], dtype=int64),)\n",
            "(array([], dtype=int64),)\n",
            "(array([2]),)\n",
            "(array([], dtype=int64),)\n",
            "(array([], dtype=int64),)\n",
            "(array([], dtype=int64),)\n",
            "(array([4]),)\n",
            "(array([], dtype=int64),)\n",
            "(array([], dtype=int64),)\n",
            "(array([], dtype=int64),)\n",
            "(array([], dtype=int64),)\n",
            "(array([], dtype=int64),)\n",
            "(array([4]),)\n",
            "(array([], dtype=int64),)\n",
            "(array([], dtype=int64),)\n",
            "(array([], dtype=int64),)\n",
            "(array([0]),)\n",
            "(array([], dtype=int64),)\n",
            "(array([], dtype=int64),)\n",
            "(array([0]),)\n",
            "(array([], dtype=int64),)\n",
            "(array([5]),)\n",
            "(array([4]),)\n",
            "(array([0]),)\n",
            "(array([], dtype=int64),)\n",
            "(array([], dtype=int64),)\n",
            "(array([5]),)\n",
            "(array([0]),)\n",
            "(array([], dtype=int64),)\n",
            "(array([5]),)\n",
            "(array([], dtype=int64),)\n",
            "(array([], dtype=int64),)\n",
            "(array([], dtype=int64),)\n",
            "(array([], dtype=int64),)\n",
            "(array([], dtype=int64),)\n",
            "(array([], dtype=int64),)\n",
            "(array([], dtype=int64),)\n",
            "(array([], dtype=int64),)\n",
            "(array([], dtype=int64),)\n",
            "(array([], dtype=int64),)\n",
            "(array([5]),)\n",
            "(array([4]),)\n",
            "(array([3]),)\n",
            "(array([], dtype=int64),)\n",
            "(array([], dtype=int64),)\n",
            "(array([4]),)\n",
            "(array([], dtype=int64),)\n",
            "(array([], dtype=int64),)\n",
            "(array([], dtype=int64),)\n",
            "(array([], dtype=int64),)\n",
            "(array([], dtype=int64),)\n",
            "(array([], dtype=int64),)\n",
            "(array([], dtype=int64),)\n",
            "(array([], dtype=int64),)\n",
            "(array([4]),)\n",
            "(array([0]),)\n",
            "(array([3]),)\n",
            "(array([], dtype=int64),)\n",
            "(array([0]),)\n",
            "(array([], dtype=int64),)\n",
            "(array([2]),)\n",
            "(array([0]),)\n",
            "(array([], dtype=int64),)\n",
            "(array([], dtype=int64),)\n",
            "(array([0, 1]),)\n",
            "(array([], dtype=int64),)\n",
            "(array([], dtype=int64),)\n",
            "(array([], dtype=int64),)\n",
            "(array([0]),)\n",
            "(array([], dtype=int64),)\n",
            "(array([], dtype=int64),)\n",
            "(array([], dtype=int64),)\n",
            "(array([0]),)\n",
            "(array([], dtype=int64),)\n"
          ],
          "name": "stdout"
        }
      ]
    },
    {
      "cell_type": "code",
      "metadata": {
        "colab": {
          "base_uri": "https://localhost:8080/"
        },
        "id": "IrE1a26nYYkt",
        "outputId": "f67a82f5-ef75-42a5-81bd-47cfc14a6908"
      },
      "source": [
        "m = 12\n",
        "n = 51\n",
        "x = 54\n",
        "for k in range((m*n)):\n",
        "    i = k // n\n",
        "    j = k % n\n",
        "    if i + j == x:\n",
        "        print(f\"({i},{j})\")"
      ],
      "execution_count": null,
      "outputs": [
        {
          "output_type": "stream",
          "text": [
            "(4,50)\n",
            "(5,49)\n",
            "(6,48)\n",
            "(7,47)\n",
            "(8,46)\n",
            "(9,45)\n",
            "(10,44)\n",
            "(11,43)\n"
          ],
          "name": "stdout"
        }
      ]
    }
  ]
}