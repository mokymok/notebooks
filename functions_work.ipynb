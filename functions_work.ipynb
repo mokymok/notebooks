{
  "nbformat": 4,
  "nbformat_minor": 0,
  "metadata": {
    "colab": {
      "name": "functions_work.ipynb",
      "provenance": [],
      "collapsed_sections": [],
      "authorship_tag": "ABX9TyOsZKp0uabfJeQGNjDBJjzE",
      "include_colab_link": true
    },
    "kernelspec": {
      "name": "python3",
      "display_name": "Python 3"
    },
    "language_info": {
      "name": "python"
    }
  },
  "cells": [
    {
      "cell_type": "markdown",
      "metadata": {
        "id": "view-in-github",
        "colab_type": "text"
      },
      "source": [
        "<a href=\"https://colab.research.google.com/github/mokymok/notebooks/blob/main/functions_work.ipynb\" target=\"_parent\"><img src=\"https://colab.research.google.com/assets/colab-badge.svg\" alt=\"Open In Colab\"/></a>"
      ]
    },
    {
      "cell_type": "code",
      "metadata": {
        "colab": {
          "base_uri": "https://localhost:8080/",
          "height": 416
        },
        "id": "9uTG31lNT0Ea",
        "outputId": "d960ba5f-9642-4cd0-ad6a-0f86116a404e"
      },
      "source": [
        "import numpy as np\n",
        "import pandas as pd\n",
        "import matplotlib.pyplot as plt\n",
        "\n",
        "df = pd.read_csv(\n",
        "    \"https://raw.githubusercontent.com/axrd/datasets/master/tipdata.csv\", \n",
        "    index_col=0)\n",
        "df[\"subtotal\"]=df.total_bill-df.tip\n",
        "df[\"tip_percentage\"]=(df.tip/df.subtotal)*100\n",
        "\n",
        "df.drop(\n",
        "    [172],\n",
        "    axis=0,\n",
        "    inplace=True\n",
        ")\n",
        "\n",
        "df"
      ],
      "execution_count": null,
      "outputs": [
        {
          "output_type": "execute_result",
          "data": {
            "text/html": [
              "<div>\n",
              "<style scoped>\n",
              "    .dataframe tbody tr th:only-of-type {\n",
              "        vertical-align: middle;\n",
              "    }\n",
              "\n",
              "    .dataframe tbody tr th {\n",
              "        vertical-align: top;\n",
              "    }\n",
              "\n",
              "    .dataframe thead th {\n",
              "        text-align: right;\n",
              "    }\n",
              "</style>\n",
              "<table border=\"1\" class=\"dataframe\">\n",
              "  <thead>\n",
              "    <tr style=\"text-align: right;\">\n",
              "      <th></th>\n",
              "      <th>total_bill</th>\n",
              "      <th>tip</th>\n",
              "      <th>sex</th>\n",
              "      <th>smoker</th>\n",
              "      <th>day</th>\n",
              "      <th>time</th>\n",
              "      <th>size</th>\n",
              "      <th>subtotal</th>\n",
              "      <th>tip_percentage</th>\n",
              "    </tr>\n",
              "  </thead>\n",
              "  <tbody>\n",
              "    <tr>\n",
              "      <th>0</th>\n",
              "      <td>16.99</td>\n",
              "      <td>1.01</td>\n",
              "      <td>Female</td>\n",
              "      <td>No</td>\n",
              "      <td>Sun</td>\n",
              "      <td>Dinner</td>\n",
              "      <td>2</td>\n",
              "      <td>15.98</td>\n",
              "      <td>6.320401</td>\n",
              "    </tr>\n",
              "    <tr>\n",
              "      <th>1</th>\n",
              "      <td>10.34</td>\n",
              "      <td>1.66</td>\n",
              "      <td>Male</td>\n",
              "      <td>No</td>\n",
              "      <td>Sun</td>\n",
              "      <td>Dinner</td>\n",
              "      <td>3</td>\n",
              "      <td>8.68</td>\n",
              "      <td>19.124424</td>\n",
              "    </tr>\n",
              "    <tr>\n",
              "      <th>2</th>\n",
              "      <td>21.01</td>\n",
              "      <td>3.50</td>\n",
              "      <td>Male</td>\n",
              "      <td>No</td>\n",
              "      <td>Sun</td>\n",
              "      <td>Dinner</td>\n",
              "      <td>3</td>\n",
              "      <td>17.51</td>\n",
              "      <td>19.988578</td>\n",
              "    </tr>\n",
              "    <tr>\n",
              "      <th>3</th>\n",
              "      <td>23.68</td>\n",
              "      <td>3.31</td>\n",
              "      <td>Male</td>\n",
              "      <td>No</td>\n",
              "      <td>Sun</td>\n",
              "      <td>Dinner</td>\n",
              "      <td>2</td>\n",
              "      <td>20.37</td>\n",
              "      <td>16.249386</td>\n",
              "    </tr>\n",
              "    <tr>\n",
              "      <th>4</th>\n",
              "      <td>24.59</td>\n",
              "      <td>3.61</td>\n",
              "      <td>Female</td>\n",
              "      <td>No</td>\n",
              "      <td>Sun</td>\n",
              "      <td>Dinner</td>\n",
              "      <td>4</td>\n",
              "      <td>20.98</td>\n",
              "      <td>17.206864</td>\n",
              "    </tr>\n",
              "    <tr>\n",
              "      <th>...</th>\n",
              "      <td>...</td>\n",
              "      <td>...</td>\n",
              "      <td>...</td>\n",
              "      <td>...</td>\n",
              "      <td>...</td>\n",
              "      <td>...</td>\n",
              "      <td>...</td>\n",
              "      <td>...</td>\n",
              "      <td>...</td>\n",
              "    </tr>\n",
              "    <tr>\n",
              "      <th>239</th>\n",
              "      <td>29.03</td>\n",
              "      <td>5.92</td>\n",
              "      <td>Male</td>\n",
              "      <td>No</td>\n",
              "      <td>Sat</td>\n",
              "      <td>Dinner</td>\n",
              "      <td>3</td>\n",
              "      <td>23.11</td>\n",
              "      <td>25.616616</td>\n",
              "    </tr>\n",
              "    <tr>\n",
              "      <th>240</th>\n",
              "      <td>27.18</td>\n",
              "      <td>2.00</td>\n",
              "      <td>Female</td>\n",
              "      <td>Yes</td>\n",
              "      <td>Sat</td>\n",
              "      <td>Dinner</td>\n",
              "      <td>2</td>\n",
              "      <td>25.18</td>\n",
              "      <td>7.942812</td>\n",
              "    </tr>\n",
              "    <tr>\n",
              "      <th>241</th>\n",
              "      <td>22.67</td>\n",
              "      <td>2.00</td>\n",
              "      <td>Male</td>\n",
              "      <td>Yes</td>\n",
              "      <td>Sat</td>\n",
              "      <td>Dinner</td>\n",
              "      <td>2</td>\n",
              "      <td>20.67</td>\n",
              "      <td>9.675859</td>\n",
              "    </tr>\n",
              "    <tr>\n",
              "      <th>242</th>\n",
              "      <td>17.82</td>\n",
              "      <td>1.75</td>\n",
              "      <td>Male</td>\n",
              "      <td>No</td>\n",
              "      <td>Sat</td>\n",
              "      <td>Dinner</td>\n",
              "      <td>2</td>\n",
              "      <td>16.07</td>\n",
              "      <td>10.889857</td>\n",
              "    </tr>\n",
              "    <tr>\n",
              "      <th>243</th>\n",
              "      <td>18.78</td>\n",
              "      <td>3.00</td>\n",
              "      <td>Female</td>\n",
              "      <td>No</td>\n",
              "      <td>Thur</td>\n",
              "      <td>Dinner</td>\n",
              "      <td>2</td>\n",
              "      <td>15.78</td>\n",
              "      <td>19.011407</td>\n",
              "    </tr>\n",
              "  </tbody>\n",
              "</table>\n",
              "<p>243 rows × 9 columns</p>\n",
              "</div>"
            ],
            "text/plain": [
              "     total_bill   tip     sex smoker  ...    time size  subtotal  tip_percentage\n",
              "0         16.99  1.01  Female     No  ...  Dinner    2     15.98        6.320401\n",
              "1         10.34  1.66    Male     No  ...  Dinner    3      8.68       19.124424\n",
              "2         21.01  3.50    Male     No  ...  Dinner    3     17.51       19.988578\n",
              "3         23.68  3.31    Male     No  ...  Dinner    2     20.37       16.249386\n",
              "4         24.59  3.61  Female     No  ...  Dinner    4     20.98       17.206864\n",
              "..          ...   ...     ...    ...  ...     ...  ...       ...             ...\n",
              "239       29.03  5.92    Male     No  ...  Dinner    3     23.11       25.616616\n",
              "240       27.18  2.00  Female    Yes  ...  Dinner    2     25.18        7.942812\n",
              "241       22.67  2.00    Male    Yes  ...  Dinner    2     20.67        9.675859\n",
              "242       17.82  1.75    Male     No  ...  Dinner    2     16.07       10.889857\n",
              "243       18.78  3.00  Female     No  ...  Dinner    2     15.78       19.011407\n",
              "\n",
              "[243 rows x 9 columns]"
            ]
          },
          "metadata": {
            "tags": []
          },
          "execution_count": 10
        }
      ]
    },
    {
      "cell_type": "code",
      "metadata": {
        "id": "uGwZR1rZgiUq",
        "colab": {
          "base_uri": "https://localhost:8080/",
          "height": 298
        },
        "outputId": "e80c9219-076f-4e91-b8fc-6a04e6d0ccb3"
      },
      "source": [
        "#define a new dataframe with the sex and tip_percentage columns  \n",
        "df_stp = pd.DataFrame(\n",
        "    {\n",
        "        'sex_stp':df['sex'],\n",
        "        'tip_percentage_stp':df['tip_percentage']\n",
        "\n",
        "    }\n",
        ")\n",
        "\n",
        "#define two more DataFrames that separate sexes prior to recombining in a\n",
        "#third new DataFrame that we'll then use for plotting the histogram\n",
        "df_stp.sort_values('sex_stp')\n",
        "df_stp_f = df_stp.loc[df_stp['sex_stp']=='Female']\n",
        "df_stp_m = df_stp.loc[df_stp['sex_stp']=='Male']\n",
        "\n",
        "#modify first new df (df_stp_f) to have 1-step int-value indexes\n",
        "df_stp_f.index = pd.RangeIndex(start=0, stop=87, step=1)\n",
        "df_stp_f.rename(index=int).index\n",
        "pd.Index(\n",
        "    [0, 1, 2], \n",
        "    dtype='object'\n",
        ")\n",
        "\n",
        "#modify second new df (df_stp_m) to have 1-step int-value indexes\n",
        "df_stp_m.index = pd.RangeIndex(start=0, stop=156, step=1)\n",
        "df_stp_m.rename(index=int).index\n",
        "pd.Index(\n",
        "    [0, 1, 2], \n",
        "    dtype='object'\n",
        ")\n",
        "\n",
        "#define the final DataFrame that will be used to plot the histogram\n",
        "df_tp = pd.DataFrame(\n",
        "    {\n",
        "        'mt':df_stp_m['tip_percentage_stp'],\n",
        "        'ft':df_stp_f['tip_percentage_stp']\n",
        "    }\n",
        ")\n",
        "\n",
        "#plot the histogram  \n",
        "df_tp.plot.hist(\n",
        "    title='tip percentage among men and women',\n",
        "    bins=70,\n",
        "    alpha=.75\n",
        ")"
      ],
      "execution_count": null,
      "outputs": [
        {
          "output_type": "execute_result",
          "data": {
            "text/plain": [
              "<matplotlib.axes._subplots.AxesSubplot at 0x7ff4225bf210>"
            ]
          },
          "metadata": {
            "tags": []
          },
          "execution_count": 2
        },
        {
          "output_type": "display_data",
          "data": {
            "image/png": "[encoded data removed]",
            "text/plain": [
              "<Figure size 432x288 with 1 Axes>"
            ]
          },
          "metadata": {
            "tags": [],
            "needs_background": "light"
          }
        }
      ]
    },
    {
      "cell_type": "code",
      "metadata": {
        "id": "y5wiENIOT6A5"
      },
      "source": [
        "def index( dfindexname, df_cloumn, ele_len ):\n",
        "  dfindexname.index = pd.RangeIndex(start=0, stop=ele_len, step=1)\n",
        "  dfindexname.rename(index=int).index\n",
        "  pd.Index(\n",
        "      [0,1,2],\n",
        "      dtype='object'\n",
        "  )\n",
        "\n",
        "def newdf( origcol1, origcol2, origdf1, origdf2, \n",
        "          newcol1, newcol2, dfname, dataname ):\n",
        "  data_name={\n",
        "          newcol1:origdf1[origcol1],\n",
        "          newcol2:origdf2[origcol2]\n",
        "      }\n",
        "  dfname = pd.DataFrame(data_name)\n",
        "  return dfname"
      ],
      "execution_count": null,
      "outputs": []
    },
    {
      "cell_type": "code",
      "metadata": {
        "colab": {
          "base_uri": "https://localhost:8080/",
          "height": 298
        },
        "id": "4vtq2xl5UvUO",
        "outputId": "08b35196-c755-4c66-9de2-48287b741fe0"
      },
      "source": [
        "#define a new dataframe with the sex and tip_percentage columns  \n",
        "df_new_1 = newdf(\n",
        "    'sex','tip_percentage', \n",
        "    df, df, \n",
        "    's_stp', 't_stp', \n",
        "    'df_new_1', 'data_1'\n",
        "    )\n",
        "\n",
        "#define two more DataFrames that separate sexes prior to recombining in a\n",
        "#third new DataFrame that we'll then use for plotting the histogram\n",
        "df_stp.sort_values('sex_stp')\n",
        "df_stp_f = df_stp.loc[df_stp['sex_stp']=='Female']\n",
        "df_stp_m = df_stp.loc[df_stp['sex_stp']=='Male']\n",
        "\n",
        "#modify first new df (df_stp_f) to have 1-step int-value indexes\n",
        "index(df_stp_f, 'sex_stp', 87)\n",
        "\n",
        "#modify second new df (df_stp_m) to have 1-step int-value indexes\n",
        "index(df_stp_m, 'sex_stp', 156)\n",
        "\n",
        "#define the final DataFrame that will be used to plot the histogram\n",
        "df_new_2 = newdf(\n",
        "    'tip_percentage_stp','tip_percentage_stp', \n",
        "    df_stp_m, df_stp_f, \n",
        "    'mt', 'ft', \n",
        "    'df_new_2', 'data_2'\n",
        "    )\n",
        "\n",
        "#plot the histogram  \n",
        "df_new_2.plot.hist(\n",
        "    title='tip percentage among men and women',\n",
        "    bins=70,\n",
        "    alpha=.75\n",
        ")"
      ],
      "execution_count": null,
      "outputs": [
        {
          "output_type": "execute_result",
          "data": {
            "text/plain": [
              "<matplotlib.axes._subplots.AxesSubplot at 0x7ff41a2d9750>"
            ]
          },
          "metadata": {
            "tags": []
          },
          "execution_count": 4
        },
        {
          "output_type": "display_data",
          "data": {
            "image/png": "[encoded data removed]",
            "text/plain": [
              "<Figure size 432x288 with 1 Axes>"
            ]
          },
          "metadata": {
            "tags": [],
            "needs_background": "light"
          }
        }
      ]
    },
    {
      "cell_type": "code",
      "metadata": {
        "id": "uQshEyP2Uy7-"
      },
      "source": [
        "def plothist(\n",
        "    ele_len_df_1, ele_len_df_2,\n",
        "    origcol1, origcol2, origdf1, origdf2, newcol1, newcol2, df1name, dataname,\n",
        "    sortvar1, sortvar2, df2name, df3name,\n",
        "    findfname, findfcol1, findfcol2, findataname,\n",
        "    histtitle, histbins, histalpha):\n",
        "  #define a new dataframe with the sex and tip_percentage columns  \n",
        "  df1name = newdf(\n",
        "    origcol1, origcol2, \n",
        "    origdf1, origdf2, \n",
        "    newcol1, newcol2, \n",
        "    df1name, dataname\n",
        "    )\n",
        "\n",
        "  #define two more DataFrames that separate sexes prior to recombining in a\n",
        "  #third new DataFrame that we'll then use for plotting the histogram\n",
        "  df1name.sort_values(newcol1)\n",
        "  df2name = df1name.loc[df1name[newcol1]==sortvar1]\n",
        "  df3name = df1name.loc[df1name[newcol1]==sortvar2]\n",
        "\n",
        "  #modify first new df (df_stp_f) to have 1-step int-value indexes\n",
        "  index(df2name, newcol1, ele_len_df_1)\n",
        "\n",
        "  #modify second new df (df_stp_m) to have 1-step int-value indexes\n",
        "  index(df3name, newcol1, ele_len_df_2)\n",
        "\n",
        "  #define the final DataFrame that will be used to plot the histogram\n",
        "  findfname = newdf(\n",
        "    newcol2, newcol2, \n",
        "    df2name, df3name, \n",
        "    findfcol1, findfcol2, \n",
        "    findfname, findataname\n",
        "    )\n",
        "\n",
        "  #plot the histogram  \n",
        "  findfname.plot.hist(\n",
        "    title=histtitle,\n",
        "    bins=histbins,\n",
        "    alpha=histalpha\n",
        ")"
      ],
      "execution_count": null,
      "outputs": []
    },
    {
      "cell_type": "code",
      "metadata": {
        "colab": {
          "base_uri": "https://localhost:8080/",
          "height": 281
        },
        "id": "jeig8t86xr1k",
        "outputId": "60ed5955-915a-4060-a708-5fea6954923e"
      },
      "source": [
        "plothist(\n",
        "    'sex', 'tip_percentage', df, df,\n",
        "    'sex_new', 'tp_new', 'df_stp_new', 'df_stp_new_data',\n",
        "    'Male', 'Female', 'dfstpm', 'dfstpf', 156, 87, \n",
        "    'dfsplit', 'mt', 'ft', 'finaldata',\n",
        "    'tip percentage among men and women', 70, 0.75\n",
        ")"
      ],
      "execution_count": null,
      "outputs": [
        {
          "output_type": "display_data",
          "data": {
            "image/png": "[encoded data removed]",
            "text/plain": [
              "<Figure size 432x288 with 1 Axes>"
            ]
          },
          "metadata": {
            "tags": [],
            "needs_background": "light"
          }
        }
      ]
    },
    {
      "cell_type": "code",
      "metadata": {
        "id": "mYX0vyfe0fdr"
      },
      "source": [
        "def index( \n",
        "    dfindexname, \n",
        "    df_column, \n",
        "    ele_len):\n",
        "    '''Orders disorderly elements in a DataFrame based on current indexing.'''\n",
        "    dfindexname.index = pd.RangeIndex(start=0, stop=ele_len, step=1)\n",
        "    dfindexname.rename(index=int).index\n",
        "    pd.Index(\n",
        "      [0,1,2],\n",
        "      dtype='object'\n",
        "  )\n",
        "\n",
        "def new2df( \n",
        "    origcol1, origcol2, \n",
        "    origdf1, origdf2, \n",
        "    newcol1, newcol2, \n",
        "    dfname, dataname):\n",
        "    '''Builds a new 2-column Pandas DataFrame utilizing data from a \n",
        "    previous DataFrame.'''\n",
        "    data_name={\n",
        "          newcol1:origdf1[origcol1],\n",
        "          newcol2:origdf2[origcol2]\n",
        "      }\n",
        "    dfname = pd.DataFrame(data_name)\n",
        "    return dfname\n",
        "\n",
        "def plothist(\n",
        "    origcol1, origcol2, origdf1, origdf2, newcol1, newcol2, df1name, dataname,\n",
        "    sortvar1, sortvar2, df2name, df3name, ele_len_df_1, ele_len_df_2,\n",
        "    findfname, findfcol1, findfcol2, findataname,\n",
        "    histtitle, histbins, histalpha):\n",
        "    '''Will plot a Pandas histogram of two sets of data within a single Pandas\n",
        "    DataFrame.  Ideally, working with one column with int or float data and\n",
        "    another with str data with 2 different values.  \n",
        "    \n",
        "    I built this function so that using a dataset with more str values is possible, \n",
        "    though you would have to append the args of the function with something \n",
        "    along the lines of \"df4name\", \"sortvar3\", and \"findfcol3\", and then copy the\n",
        "    lines I wrote with the new arg names.  You would also have to append the \n",
        "    new2df() function defined above to account for more columns, adding args to\n",
        "    the origcol, origdf, and newcol argsets.'''\n",
        "\n",
        "#define a new dataframe with the columns to be used from the original DataFrame  \n",
        "    df1name = new2df(\n",
        "      origcol1, origcol2, \n",
        "      origdf1, origdf2, \n",
        "      newcol1, newcol2, \n",
        "      df1name, dataname\n",
        "    )\n",
        "\n",
        "#define more DataFrames that separate the str values prior to recombining in a\n",
        "#final new DataFrame that we'll then use for plotting the histogram\n",
        "    df1name.sort_values(newcol1)\n",
        "    df2name = df1name.loc[df1name[newcol1]==sortvar1]\n",
        "    df3name = df1name.loc[df1name[newcol1]==sortvar2]\n",
        "\n",
        "#modify first new df to have 1-step int-value indexes\n",
        "    index(df2name, newcol1, ele_len_df_1)\n",
        "\n",
        "#modify second new df to have 1-step int-value indexes\n",
        "    index(df3name, newcol1, ele_len_df_2)\n",
        "\n",
        "#define the final DataFrame that will be used to plot the histogram\n",
        "    findfname = new2df(\n",
        "      newcol2, newcol2, \n",
        "      df2name, df3name, \n",
        "      findfcol1, findfcol2, \n",
        "      findfname, findataname\n",
        "    )\n",
        "\n",
        "  #plot the histogram  \n",
        "    findfname.plot.hist(\n",
        "      title=histtitle,\n",
        "      bins=histbins,\n",
        "      alpha=histalpha\n",
        ")"
      ],
      "execution_count": null,
      "outputs": []
    },
    {
      "cell_type": "code",
      "metadata": {
        "colab": {
          "base_uri": "https://localhost:8080/",
          "height": 281
        },
        "id": "7LO2HFJO7mfq",
        "outputId": "a36d1bed-8456-4826-f3d4-7a479c5a7344"
      },
      "source": [
        "plothist(\n",
        "    'sex', 'tip_percentage', df, df,\n",
        "    'sex_new', 'tp_new', 'df_stp_new', 'df_stp_new_data',\n",
        "    'Male', 'Female', 'dfstpm', 'dfstpf', 156, 87, \n",
        "    'dfsplit', 'mt', 'ft', 'finaldata',\n",
        "    'tip percentage among men and women', 70, 0.75\n",
        ")"
      ],
      "execution_count": null,
      "outputs": [
        {
          "output_type": "display_data",
          "data": {
            "image/png": "[encoded data removed]",
            "text/plain": [
              "<Figure size 432x288 with 1 Axes>"
            ]
          },
          "metadata": {
            "tags": [],
            "needs_background": "light"
          }
        }
      ]
    },
    {
      "cell_type": "code",
      "metadata": {
        "id": "XE2cokEK8MPO"
      },
      "source": [
        ""
      ],
      "execution_count": null,
      "outputs": []
    }
  ]
}