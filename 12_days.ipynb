{
  "nbformat": 4,
  "nbformat_minor": 0,
  "metadata": {
    "colab": {
      "name": "12 days.ipynb",
      "provenance": [],
      "authorship_tag": "ABX9TyM2eUNwN3zmqrqROpUV2Q2u",
      "include_colab_link": true
    },
    "kernelspec": {
      "name": "python3",
      "display_name": "Python 3"
    },
    "language_info": {
      "name": "python"
    }
  },
  "cells": [
    {
      "cell_type": "markdown",
      "metadata": {
        "id": "view-in-github",
        "colab_type": "text"
      },
      "source": [
        "<a href=\"https://colab.research.google.com/github/mokymok/notebooks/blob/main/12_days.ipynb\" target=\"_parent\"><img src=\"https://colab.research.google.com/assets/colab-badge.svg\" alt=\"Open In Colab\"/></a>"
      ]
    },
    {
      "cell_type": "code",
      "metadata": {
        "colab": {
          "base_uri": "https://localhost:8080/"
        },
        "id": "T5JHwGaxYNRR",
        "outputId": "ca13ae32-1e91-4176-b7dd-2c405dda806b"
      },
      "source": [
        "f='A Partridge in a Pear Tree.|Two Turtle Doves,|Three French Hens,|Four Calling Birds,|Five Gold Rings,|Six Geese-a-Laying,|Seven Swans-a-Swimming,|Eight Maids-a-Milking,|Nine Ladies Dancing,|Ten Lords-a-Leaping,|Eleven Pipers Piping,|Twelve Drummers Drumming,'.split('|')\n",
        "d='First Second Third Fourth Fifth Sixth Seventh Eighth Ninth Tenth Eleventh Twelfth'.split()\n",
        "for n,d in enumerate(d,1):\n",
        " g=f[:n][::-1]\n",
        " print(('On the %s day of Christmas\\nMy true love sent to me\\n'%d)+'\\n'.join(g[:-1])+(' and\\n'+g[-1]if n>1else g[-1]),end='\\n\\n')"
      ],
      "execution_count": null,
      "outputs": [
        {
          "output_type": "stream",
          "text": [
            "On the First day of Christmas\n",
            "My true love sent to me\n",
            "A Partridge in a Pear Tree.\n",
            "\n",
            "On the Second day of Christmas\n",
            "My true love sent to me\n",
            "Two Turtle Doves, and\n",
            "A Partridge in a Pear Tree.\n",
            "\n",
            "On the Third day of Christmas\n",
            "My true love sent to me\n",
            "Three French Hens,\n",
            "Two Turtle Doves, and\n",
            "A Partridge in a Pear Tree.\n",
            "\n",
            "On the Fourth day of Christmas\n",
            "My true love sent to me\n",
            "Four Calling Birds,\n",
            "Three French Hens,\n",
            "Two Turtle Doves, and\n",
            "A Partridge in a Pear Tree.\n",
            "\n",
            "On the Fifth day of Christmas\n",
            "My true love sent to me\n",
            "Five Gold Rings,\n",
            "Four Calling Birds,\n",
            "Three French Hens,\n",
            "Two Turtle Doves, and\n",
            "A Partridge in a Pear Tree.\n",
            "\n",
            "On the Sixth day of Christmas\n",
            "My true love sent to me\n",
            "Six Geese-a-Laying,\n",
            "Five Gold Rings,\n",
            "Four Calling Birds,\n",
            "Three French Hens,\n",
            "Two Turtle Doves, and\n",
            "A Partridge in a Pear Tree.\n",
            "\n",
            "On the Seventh day of Christmas\n",
            "My true love sent to me\n",
            "Seven Swans-a-Swimming,\n",
            "Six Geese-a-Laying,\n",
            "Five Gold Rings,\n",
            "Four Calling Birds,\n",
            "Three French Hens,\n",
            "Two Turtle Doves, and\n",
            "A Partridge in a Pear Tree.\n",
            "\n",
            "On the Eighth day of Christmas\n",
            "My true love sent to me\n",
            "Eight Maids-a-Milking,\n",
            "Seven Swans-a-Swimming,\n",
            "Six Geese-a-Laying,\n",
            "Five Gold Rings,\n",
            "Four Calling Birds,\n",
            "Three French Hens,\n",
            "Two Turtle Doves, and\n",
            "A Partridge in a Pear Tree.\n",
            "\n",
            "On the Ninth day of Christmas\n",
            "My true love sent to me\n",
            "Nine Ladies Dancing,\n",
            "Eight Maids-a-Milking,\n",
            "Seven Swans-a-Swimming,\n",
            "Six Geese-a-Laying,\n",
            "Five Gold Rings,\n",
            "Four Calling Birds,\n",
            "Three French Hens,\n",
            "Two Turtle Doves, and\n",
            "A Partridge in a Pear Tree.\n",
            "\n",
            "On the Tenth day of Christmas\n",
            "My true love sent to me\n",
            "Ten Lords-a-Leaping,\n",
            "Nine Ladies Dancing,\n",
            "Eight Maids-a-Milking,\n",
            "Seven Swans-a-Swimming,\n",
            "Six Geese-a-Laying,\n",
            "Five Gold Rings,\n",
            "Four Calling Birds,\n",
            "Three French Hens,\n",
            "Two Turtle Doves, and\n",
            "A Partridge in a Pear Tree.\n",
            "\n",
            "On the Eleventh day of Christmas\n",
            "My true love sent to me\n",
            "Eleven Pipers Piping,\n",
            "Ten Lords-a-Leaping,\n",
            "Nine Ladies Dancing,\n",
            "Eight Maids-a-Milking,\n",
            "Seven Swans-a-Swimming,\n",
            "Six Geese-a-Laying,\n",
            "Five Gold Rings,\n",
            "Four Calling Birds,\n",
            "Three French Hens,\n",
            "Two Turtle Doves, and\n",
            "A Partridge in a Pear Tree.\n",
            "\n",
            "On the Twelfth day of Christmas\n",
            "My true love sent to me\n",
            "Twelve Drummers Drumming,\n",
            "Eleven Pipers Piping,\n",
            "Ten Lords-a-Leaping,\n",
            "Nine Ladies Dancing,\n",
            "Eight Maids-a-Milking,\n",
            "Seven Swans-a-Swimming,\n",
            "Six Geese-a-Laying,\n",
            "Five Gold Rings,\n",
            "Four Calling Birds,\n",
            "Three French Hens,\n",
            "Two Turtle Doves, and\n",
            "A Partridge in a Pear Tree.\n",
            "\n"
          ],
          "name": "stdout"
        }
      ]
    },
    {
      "cell_type": "markdown",
      "metadata": {
        "id": "oKYD-ubOY5YM"
      },
      "source": [
        "    \u0001 \u0002 \u0003 \u0004 \u0005 \u0006 \u0007 \b   \u000e \u000f \u0010 \u0011 \u0012 \u0013 \u0014 \u0015 \u0016 \u0017 \u0018   \u0019\n",
        "    1 2 3 4 5 6 7 8   9 0 1 2 3 4 5 6 7 8 9   0"
      ]
    },
    {
      "cell_type": "code",
      "metadata": {
        "colab": {
          "base_uri": "https://localhost:8080/"
        },
        "id": "ZSRyZPRtY7_T",
        "outputId": "922567f4-8007-4491-ba6d-362fe9ac2852"
      },
      "source": [
        "print(\"\u0001\u000e\u0002\u0003\u0001\u000f\u0002\u0004\u0003\u0001\u0010\u0002\u0005\b\u0004\u0003 \u0001\u0011\u0002\u0006\b\u0005\b\u0004\u0003 \u0001\u0012\u0002\u0007\b\u0006\b\u0005\b\u0004\u0003 \u0001\u0013\u0002\u0018\b\u0007\b\u0006\b\u0005\b\u0004\u0003\".translate(\"|On the | day of Christmas\\nMy true love sent to me\\n|A Partridge in a Pear Tree.\\n\\n|Two Turtle Doves, and\\n|Three French Hens|Four Calling Birds|Five Gold Rings|,\\n||||||First|Second|Third|Fourth|Fifth|Sixth|Seventh|Eighth|Ninth|Tenth|Six Geese-a-Laying|Seven Swans-a-Swimming|Eight Maids-a-Milking|Nine Ladies Dancing|Ten Lords-a-Leaping|Eleven Pipers Piping|Twelve Drummers Drumming\".split(\"|\")))"
      ],
      "execution_count": null,
      "outputs": [
        {
          "output_type": "stream",
          "text": [
            "On the First day of Christmas\n",
            "My true love sent to me\n",
            "A Partridge in a Pear Tree.\n",
            "\n",
            "On the Second day of Christmas\n",
            "My true love sent to me\n",
            "Two Turtle Doves, and\n",
            "A Partridge in a Pear Tree.\n",
            "\n",
            "On the Third day of Christmas\n",
            "My true love sent to me\n",
            "Three French Hens,\n",
            "Two Turtle Doves, and\n",
            "A Partridge in a Pear Tree.\n",
            "\n",
            " On the Fourth day of Christmas\n",
            "My true love sent to me\n",
            "Four Calling Birds,\n",
            "Three French Hens,\n",
            "Two Turtle Doves, and\n",
            "A Partridge in a Pear Tree.\n",
            "\n",
            " On the Fifth day of Christmas\n",
            "My true love sent to me\n",
            "Five Gold Rings,\n",
            "Four Calling Birds,\n",
            "Three French Hens,\n",
            "Two Turtle Doves, and\n",
            "A Partridge in a Pear Tree.\n",
            "\n",
            " On the Sixth day of Christmas\n",
            "My true love sent to me\n",
            "Six Geese-a-Laying,\n",
            "Five Gold Rings,\n",
            "Four Calling Birds,\n",
            "Three French Hens,\n",
            "Two Turtle Doves, and\n",
            "A Partridge in a Pear Tree.\n",
            "\n",
            "\n"
          ],
          "name": "stdout"
        }
      ]
    }
  ]
}