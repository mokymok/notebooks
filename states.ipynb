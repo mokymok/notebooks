{
  "nbformat": 4,
  "nbformat_minor": 0,
  "metadata": {
    "colab": {
      "name": "states.ipynb",
      "provenance": [],
      "authorship_tag": "ABX9TyO/wEYu+JXRreegYYOSiCwK",
      "include_colab_link": true
    },
    "kernelspec": {
      "name": "python3",
      "display_name": "Python 3"
    },
    "language_info": {
      "name": "python"
    }
  },
  "cells": [
    {
      "cell_type": "markdown",
      "metadata": {
        "id": "view-in-github",
        "colab_type": "text"
      },
      "source": [
        "<a href=\"https://colab.research.google.com/github/mokymok/notebooks/blob/main/states.ipynb\" target=\"_parent\"><img src=\"https://colab.research.google.com/assets/colab-badge.svg\" alt=\"Open In Colab\"/></a>"
      ]
    },
    {
      "cell_type": "code",
      "metadata": {
        "colab": {
          "base_uri": "https://localhost:8080/",
          "height": 153
        },
        "id": "7aJCQ-NFW4_u",
        "outputId": "973b15cc-ec6c-4b38-a4ff-89a452e6328a"
      },
      "source": [
        "lambda s:chr(s[0])+'IA%%L!NOI!M%!E.N!Y.XR.Z$D.I!.D$DA.D%!.HA!LJ%.N%‌​$T.I%!C!T!.HAAT$.A!.‌​VL.V%$CE%%AEK%.T$!.Y‌​.A!.R.Y$O.S%!.K$!.S'‌​.replace('%',$$').r‌​eplace('$',!!').rep‌​lace('!',..')[sum(c‌​*5**i for i,c in enumerate(s[::-1]))%236-5]"
      ],
      "execution_count": null,
      "outputs": [
        {
          "output_type": "error",
          "ename": "SyntaxError",
          "evalue": "ignored",
          "traceback": [
            "\u001b[0;36m  File \u001b[0;32m\"<ipython-input-1-b97fa27bd667>\"\u001b[0;36m, line \u001b[0;32m1\u001b[0m\n\u001b[0;31m    lambda s:chr(s[0])+'IA%%L!NOI!M%!E.N!Y.XR.Z$D.I!.D$DA.D%!.HA!LJ%.N%‌​$T.I%!C!T!.HAAT$.A!.‌​VL.V%$CE%%AEK%.T$!.Y‌​.A!.R.Y$O.S%!.K$!.S'‌​.replace('%','$$').r‌​eplace('$','!!').rep‌​lace('!','..')[sum(c‌​*5**i for i,c in enumerate(s[::-1]))%236-5]\u001b[0m\n\u001b[0m                                                                                                                                          ^\u001b[0m\n\u001b[0;31mSyntaxError\u001b[0m\u001b[0;31m:\u001b[0m invalid character in identifier\n"
          ]
        }
      ]
    },
    {
      "cell_type": "code",
      "metadata": {
        "id": "qdu6RNk7XTWL"
      },
      "source": [
        "import sys\n",
        "n=sys.argv\n",
        "del n[0]\n",
        "for i in n:\n",
        "    "
      ],
      "execution_count": null,
      "outputs": []
    },
    {
      "cell_type": "code",
      "metadata": {
        "id": "ueG1UEBKYDP6"
      },
      "source": [
        "from typing import Dict, Any\n",
        "import hashlib\n",
        "import json\n",
        "\n",
        "def dict_hash(dictionary: Dict[str, Any]) -> str:\n",
        "    \"\"\"MD5 hash of a dictionary.\"\"\"\n",
        "    dhash = hashlib.md5()\n",
        "    # We need to sort arguments so {'a= 1, 'b= 2} is\n",
        "    # the same as {'b= 2, 'a= 1}\n",
        "    encoded = json.dumps(dictionary, sort_keys=True).encode()\n",
        "    dhash.update(encoded)\n",
        "    return dhash.hexdigest()\n"
      ],
      "execution_count": null,
      "outputs": []
    },
    {
      "cell_type": "code",
      "metadata": {
        "colab": {
          "base_uri": "https://localhost:8080/",
          "height": 227
        },
        "id": "lCkGcMulAY-q",
        "outputId": "dc309b14-eb79-495e-988c-81aa869dff59"
      },
      "source": [
        "import sys\n",
        "n=sys.argv;_,*n=n\n",
        "v=dict(Alabama='L',Alaska='K',Arizona='Z',Arkansa='R',Califor='A',Colorad='O',Connect='T',Delawar='E',Distric='C',Florida='L',Georgia='A',Hawaii='I',Idaho='D',Illinoi='L',Indiana='N',Iowa='A',Kansas='S',Kentuck='Y',Louisia='A',Maine='E',Marylan='D',Massach='A',Michiga='I',Minneso='N',Mississ='S',Missour='O',Montana='T',Nebrask='E',Nevada='V',New Ham='H',New Jer='J',New Mex='M',New Yor='Y',North C='C',North D='D',Ohio='H',Oklahom='K',Oregon='R',Pennsyl='A',Rhode I='I',South C='C',South D='D',Tenness='N',Texas='X',Utah='T',Vermont='T',Virgini='A',Washing='A',West Vi='V',Wiscons='I',Wyoming='Y'}\n",
        "for i in n:f=i[0:7];print(i[0]+v[f])"
      ],
      "execution_count": null,
      "outputs": [
        {
          "output_type": "error",
          "ename": "SyntaxError",
          "evalue": "ignored",
          "traceback": [
            "\u001b[0;36m  File \u001b[0;32m\"<ipython-input-9-88bd9850a95c>\"\u001b[0;36m, line \u001b[0;32m3\u001b[0m\n\u001b[0;31m    v=dict(Alabama='L',Alaska='K',Arizona='Z',Arkansa='R',Califor='A',Colorad='O',Connect='T',Delawar='E',Distric='C',Florida='L',Georgia='A',Hawaii='I',Idaho='D',Illinoi='L',Indiana='N',Iowa='A',Kansas='S',Kentuck='Y',Louisia='A',Maine='E',Marylan='D',Massach='A',Michiga='I',Minneso='N',Mississ='S',Missour='O',Montana='T',Nebrask='E',Nevada='V',New Ham='H',New Jer='J',New Mex='M',New Yor='Y',North C='C',North D='D',Ohio='H',Oklahom='K',Oregon='R',Pennsyl='A',Rhode I='I',South C='C',South D='D',Tenness='N',Texas='X',Utah='T',Vermont='T',Virgini='A',Washing='A',West Vi='V',Wiscons='I',Wyoming='Y'}\u001b[0m\n\u001b[0m                                                                                                                                                                                                                                                                                                                                                                  ^\u001b[0m\n\u001b[0;31mSyntaxError\u001b[0m\u001b[0;31m:\u001b[0m invalid syntax\n"
          ]
        }
      ]
    },
    {
      "cell_type": "code",
      "metadata": {
        "id": "o17AM7I9IJTn",
        "colab": {
          "base_uri": "https://localhost:8080/"
        },
        "outputId": "22981a4e-517a-4b72-e1cc-624d13f21b7b"
      },
      "source": [
        "txt = \"one one was a race horse, two two was one too.\"\n",
        "\n",
        "x = txt.replace(\"one\", \"three\", 2)\n",
        "\n",
        "print(x)"
      ],
      "execution_count": null,
      "outputs": [
        {
          "output_type": "stream",
          "text": [
            "three three was a race horse, two two was one too.\n"
          ],
          "name": "stdout"
        }
      ]
    }
  ]
}