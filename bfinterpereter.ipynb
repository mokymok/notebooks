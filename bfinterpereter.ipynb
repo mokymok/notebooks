{
  "nbformat": 4,
  "nbformat_minor": 0,
  "metadata": {
    "colab": {
      "name": "bfinterpereter.ipynb",
      "provenance": [],
      "authorship_tag": "ABX9TyPMSFoX18kI5jCNPgWiEYuF",
      "include_colab_link": true
    },
    "kernelspec": {
      "name": "python3",
      "display_name": "Python 3"
    },
    "language_info": {
      "name": "python"
    }
  },
  "cells": [
    {
      "cell_type": "markdown",
      "metadata": {
        "id": "view-in-github",
        "colab_type": "text"
      },
      "source": [
        "<a href=\"https://colab.research.google.com/github/mokymok/notebooks/blob/main/bfinterpereter.ipynb\" target=\"_parent\"><img src=\"https://colab.research.google.com/assets/colab-badge.svg\" alt=\"Open In Colab\"/></a>"
      ]
    },
    {
      "cell_type": "code",
      "metadata": {
        "colab": {
          "base_uri": "https://localhost:8080/",
          "height": 503
        },
        "id": "ORMKNWUvDkts",
        "outputId": "85fa5a33-8434-4a50-9849-961aef32e5e2"
      },
      "source": [
        "import sys\n",
        "import collections\n",
        "sys.argv=['-', '+++++++++++++++[>++>+++>++++>+++++>++++++>+++++++>++++++++<<<<<<<-]+++++++++++++++>>>>+++++.>>----.>------.------.<<<<<<++.>>------.<<<-----.', '+++++++++++++++++++++[>++>+++>++++>+++++>++++++<<<<<-]+++++++++++++++++++++>>>----.--------.++++++++.<<<-----------.', '++++++++++++++++++[>++>+++>++++>+++++>++++++>+++++++<<<<<<-]++++++++++++++++++>>>-----.>>+++.<++++++++++.+.<<<----.>>++++.>>.---.<+.<<<<--------.', '+++++[>+++++[>++>++>+++>+++>++++>++++<<<<<<-]<-]+++++[>>[>]<[+.<<]>[++.>>>]<[+.<]>[-.>>]<[-.<<<]>[.>]<[+.<]<-]++++++++++.', '+++++++++++++++[>++>+++>++++>+++++>++++++>+++++++>++++++++<<<<<<<-]+++++++++++++++>>>++++++.>>+++++++.>>-----.<-.<<<<<<-----.', '+++++++++++++++[>++>+++>++++>+++++>++++++>+++++++>++++++++<<<<<<<-]+++++++++++++++>>>>-.>+++++++.>>--.<<.<+++++++++.>++.>>----.<.>--.++++.<<<<<<<-----.', '+++++++++++++++++++++++++[>++>+++>++++>+++++<<<<-]+++++++++++++++++++++++++>>+++++.>+.>-----------.------.<<<<---------------.', '+++++++++++++++++++++[>++>+++>++++>+++++>++++++<<<<<-]+++++++++++++++++++++>>>--.>>---------.<-------.>++++.<<<<<-----------.', '+++++++++++++++++++++++++[>++>+++>++++>+++++<<<<-]+++++++++++++++++++++++++>>+.>>--------.<---.<<<---------------.', '+++++++++++++++++++++[>++>+++>++++>+++++>++++++<<<<<-]+++++++++++++++++++++>>>----.>>-----.-----.<-.>-----.-.<<<<<-----------.', '>>>>>>>>>>>>>>>>>>>>>>>>>>>>++++++++++++++++++++++++++[-<<[+<]+[>]>][<<[[-]-----<]>[>]>]<<[++++++++++++++++++++++++++++++++++++++++++++++++++++++++++++++++++++++++++++++++++++++++++++++++<]>[.>]++++++++++.','>>>,[>++++[-<-------->]<-[>+<<]>[----------[>]>[<+<+>>>>]<<<-[>]>[<+<+>>>>]<<<-[>]>[<+<+>>>>]<<<-[>]>[<-<+++>>>>]<<<--------------[>]>[<++<+>>>>]<<<--[>]>[<-<+++++++>>+>>]<<++++[-<------>]+<+[>]>[<++<+>>>>]<<<--[>]>[<<+>>>>]<<-<[+]<[>]>,>]<]<-[<]>[-[<<]>[<+[>]>>[<+[<<[<]<<-[>>]<[>>>>[>]>+<<[<]<]<-[>>]<[>>>>[>]>-<<[<]<]<++[->>+<<]>>[>]>]]<<<[<]>-<]>-[<<]>[<++[>]>+>[<-]<[<<[<]>[-<<+>>]>--[<<]>[[>]>+<<[<]<]>+[<<]>[[>]>-<<[<]<]>+[>]>]<<[<]>--<]>-[<<]>[[>]>>.<<<[<]<]>-[<<]>[[>]>>-<<<[<]<]>-[<<]>[[>]>>,<<<[<]<]>-[<<]>[[>]>>+<<<[<]<]>-[<<]>[[>]>>>[>>]>[<<<[<<]<+>>>[>>]>-]>[-]<<+[<[->>+<<]<]<[->>+<<]<[<]<]>-[<<]>[[>]>-[+>[-<<+>>]>]+<<[-]+[-<<]<[->>>[>>]>+<<<[<<]<]<[<]<]<++++++++>>[+<<->>]>]<<<<<<']\n",
        "def b(i):\n",
        " s=sys.argv[i]\n",
        " q={}\n",
        " w=[]\n",
        " for r,o in enumerate(s):\n",
        "  if o=='[':w.append(r)\n",
        "  if o==']':\n",
        "   if not w:s=s[:ptr];break\n",
        "   e=w.pop()\n",
        "   q[r],q[e]=e,r\n",
        " t=collections.defaultdict(int)\n",
        " r=c=0\n",
        " while r<len(s):\n",
        "  o=s[r]\n",
        "  if o=='>':c+=1\n",
        "  elif o=='<':c-=1\n",
        "  elif o=='+':t[c]+=1\n",
        "  elif o=='-':t[c]-=1\n",
        "  elif o==',':t[c]=ord(sys.stdin.read(1))\n",
        "  elif o=='.':sys.stdout.write(chr(t[c]))\n",
        "  elif (o=='['and not t[c])or\\\n",
        "  (o==']'and t[c]):r=q[r]\n",
        "  r+=1\n",
        "for i in range(1,13):b(i)\n"
      ],
      "execution_count": null,
      "outputs": [
        {
          "output_type": "stream",
          "text": [
            "Perl 6\n",
            "PHP\n",
            "Code Golf\n",
            "eL34NfeOL454KdeJ44JOdefePK55gQ67ShfTL787KegJ77JTeghfUK88iV9:XjgYL:;:KfiJ::JYfijgZK;;k[<=]lh^L=>=KgkJ==J^gklh_K>>m`?@bnicL@A@KhmJ@@JchmnidKAA\n",
            "Bash\n",
            "JavaScript\n",
            "Perl\n",
            "Ruby\n",
            "Lua\n",
            "Python\n",
            "abcdefghijklmnopqrstuvwxyz\n"
          ],
          "name": "stdout"
        },
        {
          "output_type": "error",
          "ename": "TypeError",
          "evalue": "ignored",
          "traceback": [
            "\u001b[0;31m---------------------------------------------------------------------------\u001b[0m",
            "\u001b[0;31mTypeError\u001b[0m                                 Traceback (most recent call last)",
            "\u001b[0;32m<ipython-input-33-5ace04b9b074>\u001b[0m in \u001b[0;36m<module>\u001b[0;34m()\u001b[0m\n\u001b[1;32m     24\u001b[0m   \u001b[0;32melif\u001b[0m \u001b[0;34m(\u001b[0m\u001b[0mo\u001b[0m\u001b[0;34m==\u001b[0m\u001b[0;34m'['\u001b[0m\u001b[0;32mand\u001b[0m \u001b[0;32mnot\u001b[0m \u001b[0mt\u001b[0m\u001b[0;34m[\u001b[0m\u001b[0mc\u001b[0m\u001b[0;34m]\u001b[0m\u001b[0;34m)\u001b[0m\u001b[0;32mor\u001b[0m  \u001b[0;34m(\u001b[0m\u001b[0mo\u001b[0m\u001b[0;34m==\u001b[0m\u001b[0;34m']'\u001b[0m\u001b[0;32mand\u001b[0m \u001b[0mt\u001b[0m\u001b[0;34m[\u001b[0m\u001b[0mc\u001b[0m\u001b[0;34m]\u001b[0m\u001b[0;34m)\u001b[0m\u001b[0;34m:\u001b[0m\u001b[0mr\u001b[0m\u001b[0;34m=\u001b[0m\u001b[0mq\u001b[0m\u001b[0;34m[\u001b[0m\u001b[0mr\u001b[0m\u001b[0;34m]\u001b[0m\u001b[0;34m\u001b[0m\u001b[0;34m\u001b[0m\u001b[0m\n\u001b[1;32m     25\u001b[0m   \u001b[0mr\u001b[0m\u001b[0;34m+=\u001b[0m\u001b[0;36m1\u001b[0m\u001b[0;34m\u001b[0m\u001b[0;34m\u001b[0m\u001b[0m\n\u001b[0;32m---> 26\u001b[0;31m \u001b[0;32mfor\u001b[0m \u001b[0mi\u001b[0m \u001b[0;32min\u001b[0m \u001b[0mrange\u001b[0m\u001b[0;34m(\u001b[0m\u001b[0;36m1\u001b[0m\u001b[0;34m,\u001b[0m\u001b[0;36m13\u001b[0m\u001b[0;34m)\u001b[0m\u001b[0;34m:\u001b[0m\u001b[0mb\u001b[0m\u001b[0;34m(\u001b[0m\u001b[0mi\u001b[0m\u001b[0;34m)\u001b[0m\u001b[0;34m\u001b[0m\u001b[0;34m\u001b[0m\u001b[0m\n\u001b[0m",
            "\u001b[0;32m<ipython-input-33-5ace04b9b074>\u001b[0m in \u001b[0;36mb\u001b[0;34m(i)\u001b[0m\n\u001b[1;32m     20\u001b[0m   \u001b[0;32melif\u001b[0m \u001b[0mo\u001b[0m\u001b[0;34m==\u001b[0m\u001b[0;34m'+'\u001b[0m\u001b[0;34m:\u001b[0m\u001b[0mt\u001b[0m\u001b[0;34m[\u001b[0m\u001b[0mc\u001b[0m\u001b[0;34m]\u001b[0m\u001b[0;34m+=\u001b[0m\u001b[0;36m1\u001b[0m\u001b[0;34m\u001b[0m\u001b[0;34m\u001b[0m\u001b[0m\n\u001b[1;32m     21\u001b[0m   \u001b[0;32melif\u001b[0m \u001b[0mo\u001b[0m\u001b[0;34m==\u001b[0m\u001b[0;34m'-'\u001b[0m\u001b[0;34m:\u001b[0m\u001b[0mt\u001b[0m\u001b[0;34m[\u001b[0m\u001b[0mc\u001b[0m\u001b[0;34m]\u001b[0m\u001b[0;34m-=\u001b[0m\u001b[0;36m1\u001b[0m\u001b[0;34m\u001b[0m\u001b[0;34m\u001b[0m\u001b[0m\n\u001b[0;32m---> 22\u001b[0;31m   \u001b[0;32melif\u001b[0m \u001b[0mo\u001b[0m\u001b[0;34m==\u001b[0m\u001b[0;34m','\u001b[0m\u001b[0;34m:\u001b[0m\u001b[0mt\u001b[0m\u001b[0;34m[\u001b[0m\u001b[0mc\u001b[0m\u001b[0;34m]\u001b[0m\u001b[0;34m=\u001b[0m\u001b[0mord\u001b[0m\u001b[0;34m(\u001b[0m\u001b[0msys\u001b[0m\u001b[0;34m.\u001b[0m\u001b[0mstdin\u001b[0m\u001b[0;34m.\u001b[0m\u001b[0mread\u001b[0m\u001b[0;34m(\u001b[0m\u001b[0;36m1\u001b[0m\u001b[0;34m)\u001b[0m\u001b[0;34m)\u001b[0m\u001b[0;34m\u001b[0m\u001b[0;34m\u001b[0m\u001b[0m\n\u001b[0m\u001b[1;32m     23\u001b[0m   \u001b[0;32melif\u001b[0m \u001b[0mo\u001b[0m\u001b[0;34m==\u001b[0m\u001b[0;34m'.'\u001b[0m\u001b[0;34m:\u001b[0m\u001b[0msys\u001b[0m\u001b[0;34m.\u001b[0m\u001b[0mstdout\u001b[0m\u001b[0;34m.\u001b[0m\u001b[0mwrite\u001b[0m\u001b[0;34m(\u001b[0m\u001b[0mchr\u001b[0m\u001b[0;34m(\u001b[0m\u001b[0mt\u001b[0m\u001b[0;34m[\u001b[0m\u001b[0mc\u001b[0m\u001b[0;34m]\u001b[0m\u001b[0;34m)\u001b[0m\u001b[0;34m)\u001b[0m\u001b[0;34m\u001b[0m\u001b[0;34m\u001b[0m\u001b[0m\n\u001b[1;32m     24\u001b[0m   \u001b[0;32melif\u001b[0m \u001b[0;34m(\u001b[0m\u001b[0mo\u001b[0m\u001b[0;34m==\u001b[0m\u001b[0;34m'['\u001b[0m\u001b[0;32mand\u001b[0m \u001b[0;32mnot\u001b[0m \u001b[0mt\u001b[0m\u001b[0;34m[\u001b[0m\u001b[0mc\u001b[0m\u001b[0;34m]\u001b[0m\u001b[0;34m)\u001b[0m\u001b[0;32mor\u001b[0m  \u001b[0;34m(\u001b[0m\u001b[0mo\u001b[0m\u001b[0;34m==\u001b[0m\u001b[0;34m']'\u001b[0m\u001b[0;32mand\u001b[0m \u001b[0mt\u001b[0m\u001b[0;34m[\u001b[0m\u001b[0mc\u001b[0m\u001b[0;34m]\u001b[0m\u001b[0;34m)\u001b[0m\u001b[0;34m:\u001b[0m\u001b[0mr\u001b[0m\u001b[0;34m=\u001b[0m\u001b[0mq\u001b[0m\u001b[0;34m[\u001b[0m\u001b[0mr\u001b[0m\u001b[0;34m]\u001b[0m\u001b[0;34m\u001b[0m\u001b[0;34m\u001b[0m\u001b[0m\n",
            "\u001b[0;31mTypeError\u001b[0m: ord() expected a character, but string of length 0 found"
          ]
        }
      ]
    },
    {
      "cell_type": "code",
      "metadata": {
        "id": "n3W2_F_SOL8O"
      },
      "source": [
        "\n",
        "{\"IndianRed\":\"#cd5c5c\",\"LightCoral\":\"#f08080\",\"Salmon\":\"#fa8072\",\"DarkSalmon\":\"#e9967a\",\"LightSalmon\":\"#ffa07a\",\"Red\":\"#ff0000\",\"Crimson\":\"#dc143c\",\"FireBrick\":\"#b22222\",\"DarkRed\":\"#8b0000\",\"Pink\":\"#ffc0cb\",\"LightPink\":\"#ffb6c1\",\"HotPink\":\"#ff69b4\",\"DeepPink\":\"#ff1493\",\"MediumVioletRed\":\"#c71585\",\"PaleVioletRed\":\"#db7093\",\"Coral\":\"#ff7f50\",\"Tomato\":\"#ff6347\",\"OrangeRed\":\"#ff4500\",\"DarkOrange\":\"#ff8c00\",\"Orange\":\"#ffa500\",\"Gold\":\"#ffd700\",\"Yellow\":\"#ffff00\",\"LightYellow\":\"#ffffe0\",\"LemonChiffon\":\"#fffacd\",\"LightGoldenRodYellow\":\"#fafad2\",\"PapayaWhip\":\"#ffefd5\",\"Moccasin\":\"#ffe4b5\",\"PeachPuff\":\"#ffdab9\",\"PaleGoldenRod\":\"#eee8aa\",\"Khaki\":\"#f0e68c\",\"DarkKhaki\":\"#bdb76b\",'Lavender':'#e6e6fa','Thistle':'#d8bfd8','Plum':'#dda0dd','Violet':'#ee82ee','Orchid':'#da70d6','Fuchsia':'#ff00ff','Magenta':'#ff00ff','MediumOrchid':'#ba55d3','MediumPurple':'#9370db','BlueViolet':'#8a2be2','DarkViolet':'#9400d3','DarkOrchid':'#9932cc','DarkMagenta':'#8b008b','Purple':'#800080','Indigo':'#4b0082','DarkSlateBlue':'#483d8b','SlateBlue':'#6a5acd','MediumSlateBlue':'#7b68ee','RebeccaPurple':'#663399','GreenYellow':'#adff2f','Chartreuse':'#7fff00','LawnGreen':'#7cfc00','Lime':'#00ff00','LimeGreen':'#32cd32','PaleGreen':'#98fb98','LightGreen':'#90ee90','SpringGreen':'#00ff7f','MediumSpringGreen':'#00fa9a','MediumSeaGreen':'#3cb371','SeaGreen':'#2e8b57','ForestGreen':'#228b22','Green':'#008000','DarkGreen':'#006400','YellowGreen':'#9acd32','OliveDrab':'#6b8e23','Olive':'#808000','DarkOliveGreen':'#556b2f','MediumAquamarine':'#66cdaa','DarkSeaGreen':'#8fbc8f','LightSeaGreen':'#20b2aa','DarkCyan':'#008b8b','Teal':'#008080','Aqua':'#00ffff','Cyan':'#00ffff','LightCyan':'#e0ffff','PaleTurquoise':'#afeeee','Aquamarine':'#7fffd4','Turquoise':'#40e0d0','MediumTurquoise':'#48d1cc','DarkTurquoise':'#00ced1','CadetBlue':'#5f9ea0','SteelBlue':'#4682b4','LightSteelBlue':'#b0c4de','PowderBlue':'#b0e0e6','LightBlue':'#add8e6','SkyBlue':'#87ceeb','LightSkyBlue':'#87cefa','DeepSkyBlue':'#00bfff','DodgerBlue':'#1e90ff','CornflowerBlue':'#6495ed','RoyalBlue':'#4169e1','Blue':'#0000ff','MediumBlue':'#0000cd','DarkBlue':'#00008b','Navy':'#000080','MidnightBlue':'#191970','Cornsilk':'#fff8dc','BlanchedAlmond':'#ffebcd','Bisque':'#ffe4c4','NavajoWhite':'#ffdead','Wheat':'#f5deb3','Burlywood':'#deb887','Tan':'#d2b48c','RosyBrown':'#bc8f8f','SandyBrown':'#f4a460','GoldenRod':'#daa520','DarkGoldenRod':'#b8860b','Peru':'#cd853f','Chocolate':'#d2691e','SaddleBrown':'#8b4513','Sienna':'#a0522d','Brown':'#a52a2a','Maroon':'#800000','White':'#ffffff','Snow':'#fffafa','Honeydew':'#f0fff0','MintCream':'#f5fffa','Azure':'#f0ffff','AliceBlue':'#f0f8ff','GhostWhite':'#f8f8ff','WhiteSmoke':'#f5f5f5','SeaShell':'#fff5ee','Beige':'#f5f5dc','OldLace':'#fdf5e6','FloralWhite':'#fffaf0','Ivory':'#fffff0','AntiqueWhite':'#faebd7','Linen':'#faf0e6','LavenderBlush':'#fff0f5','MistyRose':'#ffe4e1','Gainsboro':'#dcdcdc','LightGray':'#d3d3d3','LightGrey':'#d3d3d3','Silver':'#c0c0c0','DarkGray':'#a9a9a9','DarkGrey':'#a9a9a9','Gray':'#808080','Grey':'#808080','DimGray':'#696969','DimGrey':'#696969','LightSlateGray':'#778899','LightSlateGrey':'#778899','SlateGray':'#708090','SlateGrey':'#708090','DarkSlateGray':'#2f4f4f','DarkSlateGrey':'#2f4f4f','Black':'#000000'}"
      ],
      "execution_count": null,
      "outputs": []
    },
    {
      "cell_type": "code",
      "metadata": {
        "id": "UeVj-h-PdGzJ"
      },
      "source": [
        "s+d+a+d+a+d+a+d:'B',s+d+a+d+s+d+a+d:'C',s+d+a+d+a+d:'D',a+d:'E',a+d+a+d+s+d+a+d:'F',s+d+s+d+a+d:'G',a+d+a+d+a+d+a+d:'H',a+d+a+d:'I',a+d+s+d+s+d+s+d:'J',s+d+a+d+s+d:'K',a+d+s+d+a+d+a+d:'L',s+d+s+d:'M',s+d+a+d:'N',s+d+s+d+s+d:'O',a+d+s+d+s+d+a+d:'P',s+d+s+d+a+d+s+d:'Q',a+d+s+d+a+d:'R',a+d+a+d+a+d:'s+d',s+d:'T',a+d+a+d+s+d:'U',a+d+a+d+a+d+s+d:'V',a+d+s+d+s+d:'W',s+d+a+d+a+d+s+d:'X',s+d+a+d+s+d+s+d:'Y',s+d+s+d+a+d+a+d:'Z',s+d+s+d+s+d+s+d+s+d:'0',a+d+s+d+s+d+s+d+s+d:'1',a+d+a+d+s+d+s+d+s+d:'2',a+d+a+d+a+d+s+d+s+d:'3',a+d+a+d+a+d+a+d+s+d:'4',a+d+a+d+a+d+a+d+a+d:'5',s+d+a+d+a+d+a+d+a+d:'6',s+d+s+d+a+d+a+d+a+d:'7',s+d+s+d+s+d+a+d+a+d:'8',s+d+s+d+s+d+s+d+a+d:'9'"
      ],
      "execution_count": null,
      "outputs": []
    }
  ]
}