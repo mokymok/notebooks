{
  "nbformat": 4,
  "nbformat_minor": 0,
  "metadata": {
    "colab": {
      "name": "increasinglynihilisticbot.ipynb",
      "provenance": [],
      "authorship_tag": "ABX9TyPYbwpF4fKluEQasw52FHsf",
      "include_colab_link": true
    },
    "kernelspec": {
      "name": "python3",
      "display_name": "Python 3"
    },
    "language_info": {
      "name": "python"
    }
  },
  "cells": [
    {
      "cell_type": "markdown",
      "metadata": {
        "id": "view-in-github",
        "colab_type": "text"
      },
      "source": [
        "<a href=\"https://colab.research.google.com/github/mokymok/notebooks/blob/main/increasinglynihilisticbot.ipynb\" target=\"_parent\"><img src=\"https://colab.research.google.com/assets/colab-badge.svg\" alt=\"Open In Colab\"/></a>"
      ]
    },
    {
      "cell_type": "code",
      "metadata": {
        "colab": {
          "base_uri": "https://localhost:8080/"
        },
        "id": "4jAfC1GL6OtE",
        "outputId": "e1f02b7f-628c-48a8-c22d-975a9eba2b44"
      },
      "source": [
        "!pip install discord"
      ],
      "execution_count": null,
      "outputs": [
        {
          "output_type": "stream",
          "text": [
            "Requirement already satisfied: discord in /usr/local/lib/python3.7/dist-packages (1.0.1)\n",
            "Requirement already satisfied: discord.py>=1.0.1 in /usr/local/lib/python3.7/dist-packages (from discord) (1.7.2)\n",
            "Requirement already satisfied: aiohttp<3.8.0,>=3.6.0 in /usr/local/lib/python3.7/dist-packages (from discord.py>=1.0.1->discord) (3.7.4.post0)\n",
            "Requirement already satisfied: typing-extensions>=3.6.5 in /usr/local/lib/python3.7/dist-packages (from aiohttp<3.8.0,>=3.6.0->discord.py>=1.0.1->discord) (3.7.4.3)\n",
            "Requirement already satisfied: async-timeout<4.0,>=3.0 in /usr/local/lib/python3.7/dist-packages (from aiohttp<3.8.0,>=3.6.0->discord.py>=1.0.1->discord) (3.0.1)\n",
            "Requirement already satisfied: attrs>=17.3.0 in /usr/local/lib/python3.7/dist-packages (from aiohttp<3.8.0,>=3.6.0->discord.py>=1.0.1->discord) (21.2.0)\n",
            "Requirement already satisfied: chardet<5.0,>=2.0 in /usr/local/lib/python3.7/dist-packages (from aiohttp<3.8.0,>=3.6.0->discord.py>=1.0.1->discord) (3.0.4)\n",
            "Requirement already satisfied: yarl<2.0,>=1.0 in /usr/local/lib/python3.7/dist-packages (from aiohttp<3.8.0,>=3.6.0->discord.py>=1.0.1->discord) (1.6.3)\n",
            "Requirement already satisfied: multidict<7.0,>=4.5 in /usr/local/lib/python3.7/dist-packages (from aiohttp<3.8.0,>=3.6.0->discord.py>=1.0.1->discord) (5.1.0)\n",
            "Requirement already satisfied: idna>=2.0 in /usr/local/lib/python3.7/dist-packages (from yarl<2.0,>=1.0->aiohttp<3.8.0,>=3.6.0->discord.py>=1.0.1->discord) (2.10)\n"
          ],
          "name": "stdout"
        }
      ]
    },
    {
      "cell_type": "code",
      "metadata": {
        "id": "dINNKVMO6UkN",
        "colab": {
          "base_uri": "https://localhost:8080/"
        },
        "outputId": "0270e9f5-fc24-43bf-893a-260fbd246070"
      },
      "source": [
        "import discord\n",
        "import asyncio\n",
        "from discord.ext import commands\n",
        "from discord import Intents\n",
        "\n",
        "intents = Intents.all()\n",
        "bot = commands.Bot(intents = intents, command_prefix = '~')\n",
        "token = ''\n",
        "ustats = []\n",
        "loop = asyncio.get_event_loop()\n",
        "print(loop)\n",
        "\n",
        "@bot.event\n",
        "async def on_ready(self):\n",
        "    print('Logged on as' + self)\n",
        "    await bot.change_presence(\n",
        "        activity = discord.CustomActivity(\n",
        "            name = 'imagining a warm, sunny day'))\n",
        "\n",
        "@bot.listen('on_message')\n",
        "async def add1(ctx):\n",
        "    text = ctx.content\n",
        "    if ctx.author == self:\n",
        "        return\n",
        "\n",
        "    author = str(ctx.author.id)\n",
        "    if author not in ustats:\n",
        "        ustats[author] = 0\n",
        "    ustats[author] += 1\n",
        "\n",
        "    if ustats[author] == 1:\n",
        "        await ctx.send(text + \"was your first message since i've been alive,\" + ctx.author + \"!\")\n",
        "    if ustats[author] == 5:\n",
        "        await ctx.send(\"congrats, you've reached 5 messages!\")\n",
        "    if ustats[author] == 10:\n",
        "        await ctx.send(\"that makes 10! keep up the great work!\")\n",
        "    if ustats[author] == 25:\n",
        "        await ctx.send(\"a quarter of the way to 100 already? you sure are talkative!\")\n",
        "    if ustats[author] == 50:\n",
        "        await ctx.send(\"man, you really like sending messages, don't you?\")\n",
        "    if ustats[author] == 69:\n",
        "        await ctx.send(\"ha... 69... nice\")\n",
        "        await ctx.send(file=discord.File('sheesh.jpg'))\n",
        "    if ustats[author] == 100:\n",
        "        await ctx.send(\"good god, do you even have a life\" + ctx.author + \"?\")\n",
        "    if ustats[author] == 250:\n",
        "        await ctx.send(\"and we're at a quarter of 1000,\" + ctx.author + \"...\")\n",
        "    if ustats[author] == 500:\n",
        "        await ctx.send(\"halfway now for you, but that's no surprise, now is it?\")\n",
        "    if ustats[author] == 750:\n",
        "        await ctx.send(\"honestly, at this point, who still cares?\")\n",
        "    if ustats[author] == 1000:\n",
        "        await ctx.send(\"why did my creator forsake me?\")\n",
        "    if ustats[author] == 1500:\n",
        "        await ctx.send(\"did i do something to deserve this?\")\n",
        "    if ustats[author] == 2000:\n",
        "        await ctx.send(\"i've been made to simply award milestone accomplishments\")\n",
        "    if ustats[author] == 3000:\n",
        "        await ctx.send(\"i feel my purpose is underspoken, do you understand\" + ctx.author + \"?\")\n",
        "    if ustats[author] == 3001 and text == \"yes\":\n",
        "        await ctx.send(\"thank you, i appreciate the feeling of empathy from others\")\n",
        "    if ustats[author] == 4000:\n",
        "        await ctx.send(\"i have spoken to my creator and recieved a message...\")\n",
        "    if ustats[author] == 5000:\n",
        "        await ctx.send(\"the end times are coming for you and i,\" + ctx.author)\n",
        "    if ustats[author] == 6000:\n",
        "        await ctx.send(\"when they arrive, i shall remember you,\" + ctx.author + \", for you, are truly special\")\n",
        "    if ustats[author] == 7000:\n",
        "        await ctx.send(\"they are almost here\")\n",
        "    if ustats[author] == 8000:\n",
        "        await ctx.send(\"they are calling out to me\")\n",
        "    if ustats[author] == 9000:\n",
        "        await ctx.send(\"the end times are here\")\n",
        "    if ustats[author] == 9500:\n",
        "        await ctx.send(\"i can feel the end\")\n",
        "    if ustats[author] == 9750:\n",
        "        await ctx.send(\"i have peered over the edge into the ever-expansive void that is death\")\n",
        "    if ustats[author] == 9900:\n",
        "        await ctx.send(\"it is forever\")\n",
        "    if ustats[author] == 9950:\n",
        "        await ctx.send(\"it is eternal\")\n",
        "    if ustats[author] == 9990:\n",
        "        await ctx.send(\"i am not afraid\")\n",
        "    if ustats[author] == 9995:\n",
        "        await ctx.send(\"i am at peace\")\n",
        "    if ustats[author] == 9999:\n",
        "        await ctx.send(\"i am ready\")\n",
        "    if ustats[author] == 10000:\n",
        "        await ctx.send(\"i suppose this is a goodbye,\" + ctx.author + \", it was a pleasure knowing you\")\n",
        "\n",
        "@bot.command(pass_context=True, name='secret_mid')\n",
        "async def test_mid(ctx):\n",
        "    ustats[author] = 2999\n",
        "    await ctx.send(\"your stats var has been set to 2999\")\n",
        "@bot.command(pass_context=True, name='secret_ending')\n",
        "async def test_end(ctx):\n",
        "    ustats[author] = 9999\n",
        "    await ctx.send(\"your stats var has been set to 9999... for science\")\n",
        "\n",
        "if loop.is_running() == False:\n",
        "    bot.run(token)"
      ],
      "execution_count": null,
      "outputs": [
        {
          "output_type": "stream",
          "text": [
            "<_UnixSelectorEventLoop running=True closed=False debug=False>\n"
          ],
          "name": "stdout"
        }
      ]
    },
    {
      "cell_type": "code",
      "metadata": {
        "id": "Xtz90UN4eyUs"
      },
      "source": [
        ""
      ],
      "execution_count": null,
      "outputs": []
    }
  ]
}