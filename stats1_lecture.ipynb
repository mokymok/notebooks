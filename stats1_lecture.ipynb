{
  "nbformat": 4,
  "nbformat_minor": 0,
  "metadata": {
    "colab": {
      "name": "Copy of Statistics1_LECTURE.ipynb",
      "provenance": [],
      "collapsed_sections": [],
      "include_colab_link": true
    },
    "kernelspec": {
      "name": "python3",
      "display_name": "Python 3"
    }
  },
  "cells": [
    {
      "cell_type": "markdown",
      "metadata": {
        "id": "view-in-github",
        "colab_type": "text"
      },
      "source": [
        "<a href=\"https://colab.research.google.com/github/mokymok/notebooks/blob/main/stats1_lecture.ipynb\" target=\"_parent\"><img src=\"https://colab.research.google.com/assets/colab-badge.svg\" alt=\"Open In Colab\"/></a>"
      ]
    },
    {
      "cell_type": "markdown",
      "metadata": {
        "id": "ZvNsvUNNlZbi"
      },
      "source": [
        "---\n",
        "# Lambda School Data Science - Intro to Statistics \n",
        "---\n",
        "# Lecture 09 - Descriptive Statistics I\n",
        "---\n",
        "\n"
      ]
    },
    {
      "cell_type": "markdown",
      "metadata": {
        "id": "o57NvhYkBjKH"
      },
      "source": [
        "## How to think about descriptive statistics\n",
        "\n",
        "As the name suggests, descriptive statistics refers to the ways in which you can describe the data you're working with. Data can have many varied characteristics, all of which can tell you something about that data. Let's begin with *measures of central tendency*.  \n"
      ]
    },
    {
      "cell_type": "markdown",
      "metadata": {
        "id": "bvrPhiq3Hb8T"
      },
      "source": [
        "## What is central tendency?\n",
        "\n",
        "Let's say you're part of a group of 30 data science students at Lambda. Chances are, if asked, you'd be able to compute the average age of that group. The thing is, not all averages are the same. And what's the point of an average, anyway?\n",
        "\n",
        "\n",
        "First of all, you can think of an *average* as a single value that best represents a group of values.\n",
        "\n",
        "Now, *averages* (the plural) can be considered interchangeable with *central tendency*. In other words, central tendency = the value(s) that best represents a group of values.\n",
        "\n",
        "**There are three main measures of central tendency:**\n",
        "1.   Mean \n",
        "2.   Median\n",
        "3.   Mode\n",
        "\n",
        "\n",
        "\n"
      ]
    },
    {
      "cell_type": "code",
      "metadata": {
        "id": "H8VizdOX16Ze"
      },
      "source": [
        "# Let's begin by importing our tools:\n",
        "import numpy as np\n",
        "import pandas as pd\n",
        "import matplotlib.pyplot as plt"
      ],
      "execution_count": null,
      "outputs": []
    },
    {
      "cell_type": "markdown",
      "metadata": {
        "id": "4prc9nH_usRh"
      },
      "source": [
        "## Mean\n",
        "\n",
        "**The *mean* of a group of values is derived by adding all of the values together, and then dividing them by the number of values there are. When most people hear the word \"average,\" this is what they think of.** \n",
        "\n",
        "\n",
        "\n",
        "\n"
      ]
    },
    {
      "cell_type": "code",
      "metadata": {
        "id": "DxJgXg1e2SVq",
        "colab": {
          "base_uri": "https://localhost:8080/",
          "height": 35
        },
        "outputId": "ac998339-3321-4682-a5a1-a9e1b204174f"
      },
      "source": [
        "# Let's create a group of values using a normal Python list:\n",
        "numbers = [12, 12, 13, 11, 24, 55, 23, 87, 65, 40, 1000]\n",
        "\n",
        "def mean(nums):\n",
        "  return sum(nums) / len(nums)\n",
        "\n",
        "mean(numbers)"
      ],
      "execution_count": null,
      "outputs": [
        {
          "output_type": "execute_result",
          "data": {
            "text/plain": [
              "122.0"
            ]
          },
          "metadata": {
            "tags": []
          },
          "execution_count": 12
        }
      ]
    },
    {
      "cell_type": "code",
      "metadata": {
        "id": "F-wSCBYl2yEQ",
        "colab": {
          "base_uri": "https://localhost:8080/",
          "height": 35
        },
        "outputId": "be736e4e-d65b-44d4-c95f-79060b83c239"
      },
      "source": [
        "# Numpy has a built-in function for finding the mean:\n",
        "\n",
        "np.mean(numbers)"
      ],
      "execution_count": null,
      "outputs": [
        {
          "output_type": "execute_result",
          "data": {
            "text/plain": [
              "122.0"
            ]
          },
          "metadata": {
            "tags": []
          },
          "execution_count": 13
        }
      ]
    },
    {
      "cell_type": "markdown",
      "metadata": {
        "id": "8IuwgjfY3igi"
      },
      "source": [
        "Numpy [documentation](https://docs.scipy.org/doc/numpy/reference/generated/numpy.mean.html) on mean function."
      ]
    },
    {
      "cell_type": "markdown",
      "metadata": {
        "id": "CJx5z_743yGl"
      },
      "source": [
        "## Median\n",
        "\n",
        "**The *median* of a group of values is derived by ordering all of the values, then finding their midpoint. In other words, the value that is equidistant from the largest and the smallest value in the set of values.** \n",
        "\n",
        "\n",
        "\n",
        "\n"
      ]
    },
    {
      "cell_type": "code",
      "metadata": {
        "id": "WHMup7T1UNXK",
        "colab": {
          "base_uri": "https://localhost:8080/"
        },
        "outputId": "22141caf-c0e7-4c3c-927f-3a178d9db5b9"
      },
      "source": [
        "numbers = [12, 12, 13, 13, 11, 24, 55, 23, 87, 65, 40, 1000]\n",
        "sorted(numbers)"
      ],
      "execution_count": null,
      "outputs": [
        {
          "output_type": "execute_result",
          "data": {
            "text/plain": [
              "[11, 12, 12, 13, 13, 23, 24, 40, 55, 65, 87, 1000]"
            ]
          },
          "metadata": {
            "tags": []
          },
          "execution_count": 1
        }
      ]
    },
    {
      "cell_type": "code",
      "metadata": {
        "id": "I7672d3C4lI7",
        "colab": {
          "base_uri": "https://localhost:8080/",
          "height": 35
        },
        "outputId": "c5cfd50c-f98a-4247-8372-93caf1382a94"
      },
      "source": [
        "def median(nums):\n",
        "  n = len(nums)\n",
        "  if n < 1:\n",
        "    return None\n",
        "  if n % 2 == 1:\n",
        "    return sorted(nums)[n//2]\n",
        "  else:\n",
        "    return sum(sorted(nums)[n//2-1:n//2+1])/2.0\n",
        "  \n",
        "median(numbers)"
      ],
      "execution_count": null,
      "outputs": [
        {
          "output_type": "execute_result",
          "data": {
            "text/plain": [
              "24"
            ]
          },
          "metadata": {
            "tags": []
          },
          "execution_count": 15
        }
      ]
    },
    {
      "cell_type": "code",
      "metadata": {
        "id": "0Jzg2mmm4lH2",
        "colab": {
          "base_uri": "https://localhost:8080/",
          "height": 35
        },
        "outputId": "f471bde8-c7b9-473e-e5d7-5df97e02dbe3"
      },
      "source": [
        "np.median(numbers)"
      ],
      "execution_count": null,
      "outputs": [
        {
          "output_type": "execute_result",
          "data": {
            "text/plain": [
              "23.5"
            ]
          },
          "metadata": {
            "tags": []
          },
          "execution_count": 11
        }
      ]
    },
    {
      "cell_type": "markdown",
      "metadata": {
        "id": "cdAAFRfv_p0-"
      },
      "source": [
        "### A note about median vs. mean:\n",
        "\n",
        "The mean is more susceptible than the median to being pulled in the direction of \"outliers.\" For now, just think about outliers as values that are either really big or really small relative to the mean."
      ]
    },
    {
      "cell_type": "markdown",
      "metadata": {
        "id": "xOabwRmI5W1A"
      },
      "source": [
        "## Mode\n",
        "\n",
        "**The *mode* of a set of values is the value which occurs with the highest frequency. In other words, the most common value.** \n",
        "\n",
        "\n",
        "\n",
        "\n"
      ]
    },
    {
      "cell_type": "code",
      "metadata": {
        "id": "ADvYzMuC5kak",
        "colab": {
          "base_uri": "https://localhost:8080/",
          "height": 327
        },
        "outputId": "4d62505c-baa0-4493-a29a-c7604843ae4e"
      },
      "source": [
        "# Numpy has no built-in function for mode, but the Python ecosystem does have a dedicated statistics library:\n",
        "\n",
        "import statistics as stats\n",
        "stats.mode(numbers)"
      ],
      "execution_count": null,
      "outputs": [
        {
          "output_type": "error",
          "ename": "StatisticsError",
          "evalue": "ignored",
          "traceback": [
            "\u001b[0;31m---------------------------------------------------------------------------\u001b[0m",
            "\u001b[0;31mStatisticsError\u001b[0m                           Traceback (most recent call last)",
            "\u001b[0;32m<ipython-input-2-e4648ba11643>\u001b[0m in \u001b[0;36m<module>\u001b[0;34m()\u001b[0m\n\u001b[1;32m      2\u001b[0m \u001b[0;34m\u001b[0m\u001b[0m\n\u001b[1;32m      3\u001b[0m \u001b[0;32mimport\u001b[0m \u001b[0mstatistics\u001b[0m \u001b[0;32mas\u001b[0m \u001b[0mstats\u001b[0m\u001b[0;34m\u001b[0m\u001b[0;34m\u001b[0m\u001b[0m\n\u001b[0;32m----> 4\u001b[0;31m \u001b[0mstats\u001b[0m\u001b[0;34m.\u001b[0m\u001b[0mmode\u001b[0m\u001b[0;34m(\u001b[0m\u001b[0mnumbers\u001b[0m\u001b[0;34m)\u001b[0m\u001b[0;34m\u001b[0m\u001b[0;34m\u001b[0m\u001b[0m\n\u001b[0m",
            "\u001b[0;32m/usr/lib/python3.7/statistics.py\u001b[0m in \u001b[0;36mmode\u001b[0;34m(data)\u001b[0m\n\u001b[1;32m    504\u001b[0m     \u001b[0;32melif\u001b[0m \u001b[0mtable\u001b[0m\u001b[0;34m:\u001b[0m\u001b[0;34m\u001b[0m\u001b[0;34m\u001b[0m\u001b[0m\n\u001b[1;32m    505\u001b[0m         raise StatisticsError(\n\u001b[0;32m--> 506\u001b[0;31m                 \u001b[0;34m'no unique mode; found %d equally common values'\u001b[0m \u001b[0;34m%\u001b[0m \u001b[0mlen\u001b[0m\u001b[0;34m(\u001b[0m\u001b[0mtable\u001b[0m\u001b[0;34m)\u001b[0m\u001b[0;34m\u001b[0m\u001b[0;34m\u001b[0m\u001b[0m\n\u001b[0m\u001b[1;32m    507\u001b[0m                 )\n\u001b[1;32m    508\u001b[0m     \u001b[0;32melse\u001b[0m\u001b[0;34m:\u001b[0m\u001b[0;34m\u001b[0m\u001b[0;34m\u001b[0m\u001b[0m\n",
            "\u001b[0;31mStatisticsError\u001b[0m: no unique mode; found 2 equally common values"
          ]
        }
      ]
    },
    {
      "cell_type": "markdown",
      "metadata": {
        "id": "adn8ByMX5_cC"
      },
      "source": [
        "Statistics library [documentation](https://docs.scipy.org/doc/scipy/reference/stats.html)."
      ]
    },
    {
      "cell_type": "markdown",
      "metadata": {
        "id": "etBxJkqu6qFg"
      },
      "source": [
        "## Different types of variables in statistics\n",
        "\n",
        "Obviously, not all data are the same. For some, their order matters. Others represent categories instead of numbers. Again, this is paralleled in how Python represents different variables with different data types. If you recall the module on Python variables, not all variables are equal in their representation of values. Let's quickly cover the basic types of variables in statistics:\n",
        "\n",
        "\n",
        "\n",
        "*   **Ordinal**: can be ordered/ranked (historical financial data, time series data, etc.)\n",
        "*   **Categorical (or Discrete)**: categories like gender, political affiliation, or binaries (voted/didn't vote)\n",
        "*   **Numeric**: numbers, either discrete or continuous\n",
        "\n"
      ]
    },
    {
      "cell_type": "markdown",
      "metadata": {
        "id": "SvG_NwlXBrLp"
      },
      "source": [
        "**Let's put this all together with a familiar dataset:**"
      ]
    },
    {
      "cell_type": "code",
      "metadata": {
        "id": "XaymoRVL5-mk",
        "colab": {
          "base_uri": "https://localhost:8080/",
          "height": 198
        },
        "outputId": "e9eeba7c-1eb3-4db8-e458-e9977bda5e78"
      },
      "source": [
        "# Simply run this cell to import the tips dataset:\n",
        "\n",
        "df = pd.read_csv(\"https://raw.githubusercontent.com/axrd/datasets/master/tipdata.csv\", index_col=0)\n",
        "df.head()"
      ],
      "execution_count": null,
      "outputs": [
        {
          "output_type": "execute_result",
          "data": {
            "text/html": [
              "<div>\n",
              "<style scoped>\n",
              "    .dataframe tbody tr th:only-of-type {\n",
              "        vertical-align: middle;\n",
              "    }\n",
              "\n",
              "    .dataframe tbody tr th {\n",
              "        vertical-align: top;\n",
              "    }\n",
              "\n",
              "    .dataframe thead th {\n",
              "        text-align: right;\n",
              "    }\n",
              "</style>\n",
              "<table border=\"1\" class=\"dataframe\">\n",
              "  <thead>\n",
              "    <tr style=\"text-align: right;\">\n",
              "      <th></th>\n",
              "      <th>total_bill</th>\n",
              "      <th>tip</th>\n",
              "      <th>sex</th>\n",
              "      <th>smoker</th>\n",
              "      <th>day</th>\n",
              "      <th>time</th>\n",
              "      <th>size</th>\n",
              "    </tr>\n",
              "  </thead>\n",
              "  <tbody>\n",
              "    <tr>\n",
              "      <th>0</th>\n",
              "      <td>16.99</td>\n",
              "      <td>1.01</td>\n",
              "      <td>Female</td>\n",
              "      <td>No</td>\n",
              "      <td>Sun</td>\n",
              "      <td>Dinner</td>\n",
              "      <td>2</td>\n",
              "    </tr>\n",
              "    <tr>\n",
              "      <th>1</th>\n",
              "      <td>10.34</td>\n",
              "      <td>1.66</td>\n",
              "      <td>Male</td>\n",
              "      <td>No</td>\n",
              "      <td>Sun</td>\n",
              "      <td>Dinner</td>\n",
              "      <td>3</td>\n",
              "    </tr>\n",
              "    <tr>\n",
              "      <th>2</th>\n",
              "      <td>21.01</td>\n",
              "      <td>3.50</td>\n",
              "      <td>Male</td>\n",
              "      <td>No</td>\n",
              "      <td>Sun</td>\n",
              "      <td>Dinner</td>\n",
              "      <td>3</td>\n",
              "    </tr>\n",
              "    <tr>\n",
              "      <th>3</th>\n",
              "      <td>23.68</td>\n",
              "      <td>3.31</td>\n",
              "      <td>Male</td>\n",
              "      <td>No</td>\n",
              "      <td>Sun</td>\n",
              "      <td>Dinner</td>\n",
              "      <td>2</td>\n",
              "    </tr>\n",
              "    <tr>\n",
              "      <th>4</th>\n",
              "      <td>24.59</td>\n",
              "      <td>3.61</td>\n",
              "      <td>Female</td>\n",
              "      <td>No</td>\n",
              "      <td>Sun</td>\n",
              "      <td>Dinner</td>\n",
              "      <td>4</td>\n",
              "    </tr>\n",
              "  </tbody>\n",
              "</table>\n",
              "</div>"
            ],
            "text/plain": [
              "   total_bill   tip     sex smoker  day    time  size\n",
              "0       16.99  1.01  Female     No  Sun  Dinner     2\n",
              "1       10.34  1.66    Male     No  Sun  Dinner     3\n",
              "2       21.01  3.50    Male     No  Sun  Dinner     3\n",
              "3       23.68  3.31    Male     No  Sun  Dinner     2\n",
              "4       24.59  3.61  Female     No  Sun  Dinner     4"
            ]
          },
          "metadata": {
            "tags": []
          },
          "execution_count": 19
        }
      ]
    },
    {
      "cell_type": "markdown",
      "metadata": {
        "id": "YpuZMA4nCkIk"
      },
      "source": [
        "*   **total_bill** is continuous, ordinal, and numeric\n",
        "*   **tip** is also continuous, ordinal, and numeric\n",
        "*   **sex** is categorical or discrete; it's also binary (male vs. female)\n",
        "*   **smoker** same as *sex*\n",
        "*   **day** is categorical but not binary (there are 7 categories, 1 for each day of the week)\n",
        "*   **time** is categorical (discrete)\n",
        "*   **size** is numeric and categorical/discrete (can't have 3.4 people at a table)\n",
        "\n"
      ]
    },
    {
      "cell_type": "markdown",
      "metadata": {
        "id": "U4byQK5hBxJU"
      },
      "source": [
        "## Distributions!\n",
        "\n",
        "At the end of the Intro to Pandas lesson, we introduced visualizations because a *picture is worth a thousand words.* Let's do the same here so we can see what's going on more easily.\n",
        "\n"
      ]
    },
    {
      "cell_type": "code",
      "metadata": {
        "id": "IKjTeeUiEvvB",
        "colab": {
          "base_uri": "https://localhost:8080/",
          "height": 1000
        },
        "outputId": "fdd78d02-8486-4235-db58-b55d2f604880"
      },
      "source": [
        "# Let's make a list of 250 random numbers between 1 and 1000 and assign\n",
        "# it to a variable \"a\":\n",
        "\n",
        "import random\n",
        "a = random.sample(range(1, 1000), 250)\n",
        "a"
      ],
      "execution_count": null,
      "outputs": [
        {
          "output_type": "execute_result",
          "data": {
            "text/plain": [
              "[939,\n",
              " 252,\n",
              " 302,\n",
              " 250,\n",
              " 542,\n",
              " 377,\n",
              " 399,\n",
              " 92,\n",
              " 85,\n",
              " 448,\n",
              " 415,\n",
              " 655,\n",
              " 784,\n",
              " 531,\n",
              " 221,\n",
              " 199,\n",
              " 359,\n",
              " 391,\n",
              " 644,\n",
              " 142,\n",
              " 309,\n",
              " 182,\n",
              " 861,\n",
              " 257,\n",
              " 10,\n",
              " 580,\n",
              " 178,\n",
              " 951,\n",
              " 498,\n",
              " 734,\n",
              " 272,\n",
              " 368,\n",
              " 471,\n",
              " 613,\n",
              " 491,\n",
              " 296,\n",
              " 930,\n",
              " 870,\n",
              " 328,\n",
              " 584,\n",
              " 435,\n",
              " 230,\n",
              " 457,\n",
              " 988,\n",
              " 526,\n",
              " 819,\n",
              " 535,\n",
              " 593,\n",
              " 884,\n",
              " 679,\n",
              " 486,\n",
              " 658,\n",
              " 671,\n",
              " 283,\n",
              " 248,\n",
              " 543,\n",
              " 698,\n",
              " 642,\n",
              " 661,\n",
              " 41,\n",
              " 518,\n",
              " 506,\n",
              " 389,\n",
              " 791,\n",
              " 673,\n",
              " 27,\n",
              " 422,\n",
              " 445,\n",
              " 478,\n",
              " 167,\n",
              " 42,\n",
              " 846,\n",
              " 111,\n",
              " 53,\n",
              " 601,\n",
              " 23,\n",
              " 774,\n",
              " 340,\n",
              " 185,\n",
              " 334,\n",
              " 48,\n",
              " 980,\n",
              " 479,\n",
              " 825,\n",
              " 691,\n",
              " 118,\n",
              " 594,\n",
              " 640,\n",
              " 326,\n",
              " 100,\n",
              " 434,\n",
              " 146,\n",
              " 840,\n",
              " 211,\n",
              " 895,\n",
              " 62,\n",
              " 181,\n",
              " 916,\n",
              " 586,\n",
              " 352,\n",
              " 157,\n",
              " 424,\n",
              " 559,\n",
              " 911,\n",
              " 609,\n",
              " 878,\n",
              " 156,\n",
              " 813,\n",
              " 943,\n",
              " 11,\n",
              " 770,\n",
              " 994,\n",
              " 339,\n",
              " 89,\n",
              " 897,\n",
              " 877,\n",
              " 999,\n",
              " 568,\n",
              " 667,\n",
              " 551,\n",
              " 78,\n",
              " 432,\n",
              " 216,\n",
              " 35,\n",
              " 901,\n",
              " 93,\n",
              " 795,\n",
              " 79,\n",
              " 739,\n",
              " 251,\n",
              " 539,\n",
              " 341,\n",
              " 807,\n",
              " 598,\n",
              " 217,\n",
              " 711,\n",
              " 159,\n",
              " 925,\n",
              " 519,\n",
              " 321,\n",
              " 596,\n",
              " 204,\n",
              " 253,\n",
              " 140,\n",
              " 280,\n",
              " 190,\n",
              " 314,\n",
              " 81,\n",
              " 406,\n",
              " 960,\n",
              " 864,\n",
              " 194,\n",
              " 941,\n",
              " 630,\n",
              " 766,\n",
              " 86,\n",
              " 818,\n",
              " 323,\n",
              " 24,\n",
              " 390,\n",
              " 964,\n",
              " 507,\n",
              " 599,\n",
              " 908,\n",
              " 242,\n",
              " 576,\n",
              " 174,\n",
              " 67,\n",
              " 722,\n",
              " 775,\n",
              " 403,\n",
              " 689,\n",
              " 29,\n",
              " 605,\n",
              " 336,\n",
              " 900,\n",
              " 986,\n",
              " 754,\n",
              " 968,\n",
              " 112,\n",
              " 388,\n",
              " 915,\n",
              " 308,\n",
              " 152,\n",
              " 465,\n",
              " 304,\n",
              " 575,\n",
              " 558,\n",
              " 279,\n",
              " 888,\n",
              " 281,\n",
              " 974,\n",
              " 684,\n",
              " 261,\n",
              " 488,\n",
              " 452,\n",
              " 393,\n",
              " 721,\n",
              " 833,\n",
              " 417,\n",
              " 650,\n",
              " 685,\n",
              " 832,\n",
              " 627,\n",
              " 205,\n",
              " 991,\n",
              " 189,\n",
              " 701,\n",
              " 31,\n",
              " 291,\n",
              " 885,\n",
              " 220,\n",
              " 789,\n",
              " 196,\n",
              " 546,\n",
              " 364,\n",
              " 758,\n",
              " 824,\n",
              " 755,\n",
              " 65,\n",
              " 43,\n",
              " 873,\n",
              " 761,\n",
              " 849,\n",
              " 533,\n",
              " 902,\n",
              " 52,\n",
              " 342,\n",
              " 869,\n",
              " 922,\n",
              " 913,\n",
              " 781,\n",
              " 77,\n",
              " 83,\n",
              " 115,\n",
              " 848,\n",
              " 25,\n",
              " 574,\n",
              " 200,\n",
              " 412,\n",
              " 958,\n",
              " 527,\n",
              " 569,\n",
              " 477,\n",
              " 582,\n",
              " 278,\n",
              " 823,\n",
              " 811,\n",
              " 71,\n",
              " 896]"
            ]
          },
          "metadata": {
            "tags": []
          },
          "execution_count": 23
        }
      ]
    },
    {
      "cell_type": "code",
      "metadata": {
        "id": "gHcFqcqbGbCt",
        "colab": {
          "base_uri": "https://localhost:8080/",
          "height": 269
        },
        "outputId": "2b68aeaf-fde4-4247-abc0-e2ef0bb86a18"
      },
      "source": [
        "# Let's turn it into a pandas DataFrame and plot it to visualize the distribution \n",
        "# of numbers:\n",
        "data = pd.DataFrame({'random_nums': a}) \n",
        "\n",
        "data['random_nums'].hist();"
      ],
      "execution_count": null,
      "outputs": [
        {
          "output_type": "display_data",
          "data": {
            "image/png": "[encoded data removed]",
            "text/plain": [
              "<Figure size 432x288 with 1 Axes>"
            ]
          },
          "metadata": {
            "tags": []
          }
        }
      ]
    },
    {
      "cell_type": "code",
      "metadata": {
        "id": "BVoaElm-GK0i",
        "colab": {
          "base_uri": "https://localhost:8080/",
          "height": 35
        },
        "outputId": "f24d9463-6845-43e4-cf1b-a7cdbf4c00e2"
      },
      "source": [
        "np.mean(data['random_nums'])"
      ],
      "execution_count": null,
      "outputs": [
        {
          "output_type": "execute_result",
          "data": {
            "text/plain": [
              "495.544"
            ]
          },
          "metadata": {
            "tags": []
          },
          "execution_count": 25
        }
      ]
    },
    {
      "cell_type": "code",
      "metadata": {
        "id": "W9AlK746GTYk",
        "colab": {
          "base_uri": "https://localhost:8080/",
          "height": 35
        },
        "outputId": "7a4af3f3-85c5-4262-dc17-99f7d305cb68"
      },
      "source": [
        "np.median(data['random_nums'])"
      ],
      "execution_count": null,
      "outputs": [
        {
          "output_type": "execute_result",
          "data": {
            "text/plain": [
              "494.5"
            ]
          },
          "metadata": {
            "tags": []
          },
          "execution_count": 26
        }
      ]
    },
    {
      "cell_type": "markdown",
      "metadata": {
        "id": "MgUzTy5WG8UJ"
      },
      "source": [
        "If you run the cell with the random number generator, it will create a new random list. Run the plotting cell again to visualize the new list of random numbers. Check out the different distributions of values! What can you say about their central tendency?"
      ]
    },
    {
      "cell_type": "markdown",
      "metadata": {
        "id": "uERW3JINAal1"
      },
      "source": [
        "### Skewness: left, right, or middle?"
      ]
    },
    {
      "cell_type": "markdown",
      "metadata": {
        "id": "OHJtKr1_BYlA"
      },
      "source": [
        "![Skewness](https://cdn-images-1.medium.com/max/1600/1*nj-Ch3AUFmkd0JUSOW_bTQ.jpeg)"
      ]
    },
    {
      "cell_type": "markdown",
      "metadata": {
        "id": "lTm--zmGECkQ"
      },
      "source": [
        "## Variability: how spread out is our data?\n",
        "\n",
        "**Also known as the *spread* of a set of values, variability measures how different they are from each other. More intuitively, variability is a measure of how far values are from one specific value. Can you guess which one? Hint, how can you describe a group of values with just one value?**\n",
        "\n",
        "\n",
        "\n",
        "*   **Range**: the difference between the largest and smallest values in a set.\n",
        "*   **Variance**: the difference between the largest and smallest values in a set.\n",
        "*   **Standard deviation**: the average distance from the mean.\n",
        "\n"
      ]
    },
    {
      "cell_type": "code",
      "metadata": {
        "id": "SEAg6CF_B2lT",
        "colab": {
          "base_uri": "https://localhost:8080/",
          "height": 198
        },
        "outputId": "82683a6f-0bbb-40bb-d301-a54a56596e94"
      },
      "source": [
        "# Let's get sales performance data from the sales dataset we've used previously:\n",
        "\n",
        "sales = pd.read_csv(\"https://raw.githubusercontent.com/axrd/datasets/master/sales_data.csv\", index_col=0)\n",
        "sales.head()"
      ],
      "execution_count": null,
      "outputs": [
        {
          "output_type": "execute_result",
          "data": {
            "text/html": [
              "<div>\n",
              "<style scoped>\n",
              "    .dataframe tbody tr th:only-of-type {\n",
              "        vertical-align: middle;\n",
              "    }\n",
              "\n",
              "    .dataframe tbody tr th {\n",
              "        vertical-align: top;\n",
              "    }\n",
              "\n",
              "    .dataframe thead th {\n",
              "        text-align: right;\n",
              "    }\n",
              "</style>\n",
              "<table border=\"1\" class=\"dataframe\">\n",
              "  <thead>\n",
              "    <tr style=\"text-align: right;\">\n",
              "      <th></th>\n",
              "      <th>Name</th>\n",
              "      <th>Region</th>\n",
              "      <th>Company</th>\n",
              "      <th>Date</th>\n",
              "      <th>Sales</th>\n",
              "    </tr>\n",
              "  </thead>\n",
              "  <tbody>\n",
              "    <tr>\n",
              "      <th>0</th>\n",
              "      <td>Brenden Cote</td>\n",
              "      <td>Central African Republic</td>\n",
              "      <td>Metus Corp.</td>\n",
              "      <td>Feb 17, 2018</td>\n",
              "      <td>67044</td>\n",
              "    </tr>\n",
              "    <tr>\n",
              "      <th>1</th>\n",
              "      <td>Justina Reed</td>\n",
              "      <td>Namibia</td>\n",
              "      <td>Lobortis Ltd</td>\n",
              "      <td>Apr 27, 2017</td>\n",
              "      <td>89517</td>\n",
              "    </tr>\n",
              "    <tr>\n",
              "      <th>2</th>\n",
              "      <td>Daquan Vinson</td>\n",
              "      <td>Svalbard and Jan Mayen Islands</td>\n",
              "      <td>A Mi Consulting</td>\n",
              "      <td>Aug 14, 2016</td>\n",
              "      <td>62705</td>\n",
              "    </tr>\n",
              "    <tr>\n",
              "      <th>3</th>\n",
              "      <td>Connor Shelton</td>\n",
              "      <td>Niue</td>\n",
              "      <td>Parturient Consulting</td>\n",
              "      <td>Feb 13, 2017</td>\n",
              "      <td>12675</td>\n",
              "    </tr>\n",
              "    <tr>\n",
              "      <th>4</th>\n",
              "      <td>Drew Carlson</td>\n",
              "      <td>Mayotte</td>\n",
              "      <td>Interdum Associates</td>\n",
              "      <td>Sep 26, 2017</td>\n",
              "      <td>86670</td>\n",
              "    </tr>\n",
              "  </tbody>\n",
              "</table>\n",
              "</div>"
            ],
            "text/plain": [
              "             Name                          Region  ...          Date  Sales\n",
              "0    Brenden Cote        Central African Republic  ...  Feb 17, 2018  67044\n",
              "1    Justina Reed                         Namibia  ...  Apr 27, 2017  89517\n",
              "2   Daquan Vinson  Svalbard and Jan Mayen Islands  ...  Aug 14, 2016  62705\n",
              "3  Connor Shelton                            Niue  ...  Feb 13, 2017  12675\n",
              "4    Drew Carlson                         Mayotte  ...  Sep 26, 2017  86670\n",
              "\n",
              "[5 rows x 5 columns]"
            ]
          },
          "metadata": {
            "tags": []
          },
          "execution_count": 28
        }
      ]
    },
    {
      "cell_type": "code",
      "metadata": {
        "id": "4TL11Y77B2xx",
        "colab": {
          "base_uri": "https://localhost:8080/",
          "height": 269
        },
        "outputId": "bc3e1b5a-d370-49e6-b7ac-7ac0af1099ee"
      },
      "source": [
        "sales['Sales'].hist(bins=10);"
      ],
      "execution_count": null,
      "outputs": [
        {
          "output_type": "display_data",
          "data": {
            "image/png": "[encoded data removed]",
            "text/plain": [
              "<Figure size 432x288 with 1 Axes>"
            ]
          },
          "metadata": {
            "tags": []
          }
        }
      ]
    },
    {
      "cell_type": "code",
      "metadata": {
        "id": "_8SwvrBwIH0E",
        "colab": {
          "base_uri": "https://localhost:8080/",
          "height": 35
        },
        "outputId": "db5d86c5-cc26-408e-e024-0d96da46cbb0"
      },
      "source": [
        "np.mean(sales['Sales'])"
      ],
      "execution_count": null,
      "outputs": [
        {
          "output_type": "execute_result",
          "data": {
            "text/plain": [
              "51892.47"
            ]
          },
          "metadata": {
            "tags": []
          },
          "execution_count": 38
        }
      ]
    },
    {
      "cell_type": "code",
      "metadata": {
        "id": "erpUF_59FTNl",
        "colab": {
          "base_uri": "https://localhost:8080/",
          "height": 35
        },
        "outputId": "d388790e-209a-4df7-c834-bd1c8199ada3"
      },
      "source": [
        "# Let's calculate the variance:\n",
        "# Variance is the average squared distance of each point from the mean\n",
        "np.var(sales['Sales'], ddof=1)"
      ],
      "execution_count": null,
      "outputs": [
        {
          "output_type": "execute_result",
          "data": {
            "text/plain": [
              "882506150.9788889"
            ]
          },
          "metadata": {
            "tags": []
          },
          "execution_count": 40
        }
      ]
    },
    {
      "cell_type": "code",
      "metadata": {
        "id": "5yY6KM2qWjG6",
        "colab": {
          "base_uri": "https://localhost:8080/",
          "height": 35
        },
        "outputId": "f2ddb02b-1a30-4ea2-f025-f28bc3d0cf9e"
      },
      "source": [
        "# Lets calculate the standard deviation:\n",
        "# Standard Deviation is the average distance of each point from the mean\n",
        "np.std(sales['Sales'], ddof=1)"
      ],
      "execution_count": null,
      "outputs": [
        {
          "output_type": "execute_result",
          "data": {
            "text/plain": [
              "29707.00508262132"
            ]
          },
          "metadata": {
            "tags": []
          },
          "execution_count": 41
        }
      ]
    },
    {
      "cell_type": "code",
      "metadata": {
        "id": "BNIckBEDWsHK",
        "colab": {
          "base_uri": "https://localhost:8080/",
          "height": 35
        },
        "outputId": "280cc85c-cbd9-4707-fede-7ca6b4fd907c"
      },
      "source": [
        "# The Standard Deviation is the Square Root of the variance. \n",
        "np.sqrt(np.var(sales['Sales'], ddof=1))"
      ],
      "execution_count": null,
      "outputs": [
        {
          "output_type": "execute_result",
          "data": {
            "text/plain": [
              "29707.00508262132"
            ]
          },
          "metadata": {
            "tags": []
          },
          "execution_count": 42
        }
      ]
    },
    {
      "cell_type": "code",
      "metadata": {
        "id": "BiNqEyl5B204",
        "colab": {
          "base_uri": "https://localhost:8080/",
          "height": 288
        },
        "outputId": "9f7b8d30-ae9b-4a9a-d57d-4a4468b97696"
      },
      "source": [
        "# Here's a really useful built-in pandas method to get some summary descriptive\n",
        "# statistics:\n",
        "\n",
        "sales.describe()"
      ],
      "execution_count": null,
      "outputs": [
        {
          "output_type": "execute_result",
          "data": {
            "text/html": [
              "<div>\n",
              "<style scoped>\n",
              "    .dataframe tbody tr th:only-of-type {\n",
              "        vertical-align: middle;\n",
              "    }\n",
              "\n",
              "    .dataframe tbody tr th {\n",
              "        vertical-align: top;\n",
              "    }\n",
              "\n",
              "    .dataframe thead th {\n",
              "        text-align: right;\n",
              "    }\n",
              "</style>\n",
              "<table border=\"1\" class=\"dataframe\">\n",
              "  <thead>\n",
              "    <tr style=\"text-align: right;\">\n",
              "      <th></th>\n",
              "      <th>Sales</th>\n",
              "    </tr>\n",
              "  </thead>\n",
              "  <tbody>\n",
              "    <tr>\n",
              "      <th>count</th>\n",
              "      <td>100.000000</td>\n",
              "    </tr>\n",
              "    <tr>\n",
              "      <th>mean</th>\n",
              "      <td>51892.470000</td>\n",
              "    </tr>\n",
              "    <tr>\n",
              "      <th>std</th>\n",
              "      <td>29707.005083</td>\n",
              "    </tr>\n",
              "    <tr>\n",
              "      <th>min</th>\n",
              "      <td>59.000000</td>\n",
              "    </tr>\n",
              "    <tr>\n",
              "      <th>25%</th>\n",
              "      <td>29415.750000</td>\n",
              "    </tr>\n",
              "    <tr>\n",
              "      <th>50%</th>\n",
              "      <td>48845.500000</td>\n",
              "    </tr>\n",
              "    <tr>\n",
              "      <th>75%</th>\n",
              "      <td>77878.000000</td>\n",
              "    </tr>\n",
              "    <tr>\n",
              "      <th>max</th>\n",
              "      <td>99880.000000</td>\n",
              "    </tr>\n",
              "  </tbody>\n",
              "</table>\n",
              "</div>"
            ],
            "text/plain": [
              "              Sales\n",
              "count    100.000000\n",
              "mean   51892.470000\n",
              "std    29707.005083\n",
              "min       59.000000\n",
              "25%    29415.750000\n",
              "50%    48845.500000\n",
              "75%    77878.000000\n",
              "max    99880.000000"
            ]
          },
          "metadata": {
            "tags": []
          },
          "execution_count": 39
        }
      ]
    },
    {
      "cell_type": "markdown",
      "metadata": {
        "id": "7BqbpyNyzxqk"
      },
      "source": [
        "### Time for your assignment!\n",
        "\n",
        "\n",
        "\n",
        "Also, [this will probably come in handy](http://web.mit.edu/~csvoss/Public/usabo/stats_handout.pdf). Be careful not to just copy and paste things if you're asked a written question. Demonstrate your own thinking. "
      ]
    }
  ]
}