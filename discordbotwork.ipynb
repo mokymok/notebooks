{
  "nbformat": 4,
  "nbformat_minor": 0,
  "metadata": {
    "colab": {
      "name": "DiscordBotWork.ipynb",
      "provenance": [],
      "toc_visible": true,
      "authorship_tag": "ABX9TyOdA+lF0W8zQw3MWK8K5ROs",
      "include_colab_link": true
    },
    "kernelspec": {
      "name": "python3",
      "display_name": "Python 3"
    },
    "language_info": {
      "name": "python"
    }
  },
  "cells": [
    {
      "cell_type": "markdown",
      "metadata": {
        "id": "view-in-github",
        "colab_type": "text"
      },
      "source": [
        "<a href=\"https://colab.research.google.com/github/mokymok/notebooks/blob/main/discordbotwork.ipynb\" target=\"_parent\"><img src=\"https://colab.research.google.com/assets/colab-badge.svg\" alt=\"Open In Colab\"/></a>"
      ]
    },
    {
      "cell_type": "code",
      "metadata": {
        "id": "AtdiIzZ9Eien"
      },
      "source": [
        "from google.cloud import texttospeech\n",
        "\n",
        "def synthesize_text(text):\n",
        "    \"\"\"Synthesizes speech from the input string of text.\"\"\"\n",
        "    client = texttospeech.TextToSpeechClient()\n",
        "\n",
        "    input_text = texttospeech.SynthesisInput(text=text)\n",
        "\n",
        "    # Note: the voice can also be specified by name.\n",
        "    # Names of voices can be retrieved with client.list_voices().\n",
        "    voice = texttospeech.VoiceSelectionParams(\n",
        "        language_code=\"en-US\",\n",
        "        name=\"en-US-Standard-C\",\n",
        "        ssml_gender=texttospeech.SsmlVoiceGender.FEMALE,\n",
        "    )\n",
        "\n",
        "    audio_config = texttospeech.AudioConfig(\n",
        "        audio_encoding=texttospeech.AudioEncoding.MP3\n",
        "    )\n",
        "\n",
        "    response = client.synthesize_speech(\n",
        "        request={\"input\": input_text, \"voice\": voice, \"audio_config\": audio_config}\n",
        "    )\n",
        "\n",
        "    # The response's audio_content is binary.\n",
        "    with open(\"output.mp3\", \"wb\") as out:\n",
        "        out.write(response.audio_content)\n",
        "        print('Audio content written to file \"output.mp3\"')\n"
      ],
      "execution_count": null,
      "outputs": []
    },
    {
      "cell_type": "code",
      "metadata": {
        "id": "UN--zlQyUbQc"
      },
      "source": [
        "\n",
        "def explicit():\n",
        "    from google.cloud import storage\n",
        "\n",
        "    # Explicitly use service account credentials by specifying the private key\n",
        "    # file.\n",
        "    storage_client = storage.Client.from_service_account_json(\n",
        "        'service_account.json')\n",
        "\n",
        "    # Make an authenticated API request\n",
        "    buckets = list(storage_client.list_buckets())\n",
        "    print(buckets)"
      ],
      "execution_count": null,
      "outputs": []
    },
    {
      "cell_type": "code",
      "metadata": {
        "colab": {
          "base_uri": "https://localhost:8080/",
          "height": 276
        },
        "id": "84JWyn66EmVH",
        "outputId": "24499679-3012-47de-ee40-c8104a86e950"
      },
      "source": [
        "synthesize_text('hello')"
      ],
      "execution_count": null,
      "outputs": [
        {
          "output_type": "error",
          "ename": "DefaultCredentialsError",
          "evalue": "ignored",
          "traceback": [
            "\u001b[0;31m---------------------------------------------------------------------------\u001b[0m",
            "\u001b[0;31mDefaultCredentialsError\u001b[0m                   Traceback (most recent call last)",
            "\u001b[0;32m<ipython-input-2-0e03a572aa28>\u001b[0m in \u001b[0;36m<module>\u001b[0;34m()\u001b[0m\n\u001b[0;32m----> 1\u001b[0;31m \u001b[0msynthesize_text\u001b[0m\u001b[0;34m(\u001b[0m\u001b[0;34m'hello'\u001b[0m\u001b[0;34m)\u001b[0m\u001b[0;34m\u001b[0m\u001b[0;34m\u001b[0m\u001b[0m\n\u001b[0m",
            "\u001b[0;32m<ipython-input-1-1dad6ebffe29>\u001b[0m in \u001b[0;36msynthesize_text\u001b[0;34m(text)\u001b[0m\n\u001b[1;32m      3\u001b[0m \u001b[0;32mdef\u001b[0m \u001b[0msynthesize_text\u001b[0m\u001b[0;34m(\u001b[0m\u001b[0mtext\u001b[0m\u001b[0;34m)\u001b[0m\u001b[0;34m:\u001b[0m\u001b[0;34m\u001b[0m\u001b[0;34m\u001b[0m\u001b[0m\n\u001b[1;32m      4\u001b[0m     \u001b[0;34m\"\"\"Synthesizes speech from the input string of text.\"\"\"\u001b[0m\u001b[0;34m\u001b[0m\u001b[0;34m\u001b[0m\u001b[0m\n\u001b[0;32m----> 5\u001b[0;31m     \u001b[0mclient\u001b[0m \u001b[0;34m=\u001b[0m \u001b[0mtexttospeech\u001b[0m\u001b[0;34m.\u001b[0m\u001b[0mTextToSpeechClient\u001b[0m\u001b[0;34m(\u001b[0m\u001b[0;34m)\u001b[0m\u001b[0;34m\u001b[0m\u001b[0;34m\u001b[0m\u001b[0m\n\u001b[0m\u001b[1;32m      6\u001b[0m \u001b[0;34m\u001b[0m\u001b[0m\n\u001b[1;32m      7\u001b[0m     \u001b[0minput_text\u001b[0m \u001b[0;34m=\u001b[0m \u001b[0mtexttospeech\u001b[0m\u001b[0;34m.\u001b[0m\u001b[0mSynthesisInput\u001b[0m\u001b[0;34m(\u001b[0m\u001b[0mtext\u001b[0m\u001b[0;34m=\u001b[0m\u001b[0mtext\u001b[0m\u001b[0;34m)\u001b[0m\u001b[0;34m\u001b[0m\u001b[0;34m\u001b[0m\u001b[0m\n",
            "\u001b[0;32m/usr/local/lib/python3.7/dist-packages/google/cloud/texttospeech_v1/services/text_to_speech/client.py\u001b[0m in \u001b[0;36m__init__\u001b[0;34m(self, credentials, transport, client_options, client_info)\u001b[0m\n\u001b[1;32m    322\u001b[0m                 \u001b[0mclient_cert_source_for_mtls\u001b[0m\u001b[0;34m=\u001b[0m\u001b[0mclient_cert_source_func\u001b[0m\u001b[0;34m,\u001b[0m\u001b[0;34m\u001b[0m\u001b[0;34m\u001b[0m\u001b[0m\n\u001b[1;32m    323\u001b[0m                 \u001b[0mquota_project_id\u001b[0m\u001b[0;34m=\u001b[0m\u001b[0mclient_options\u001b[0m\u001b[0;34m.\u001b[0m\u001b[0mquota_project_id\u001b[0m\u001b[0;34m,\u001b[0m\u001b[0;34m\u001b[0m\u001b[0;34m\u001b[0m\u001b[0m\n\u001b[0;32m--> 324\u001b[0;31m                 \u001b[0mclient_info\u001b[0m\u001b[0;34m=\u001b[0m\u001b[0mclient_info\u001b[0m\u001b[0;34m,\u001b[0m\u001b[0;34m\u001b[0m\u001b[0;34m\u001b[0m\u001b[0m\n\u001b[0m\u001b[1;32m    325\u001b[0m             )\n\u001b[1;32m    326\u001b[0m \u001b[0;34m\u001b[0m\u001b[0m\n",
            "\u001b[0;32m/usr/local/lib/python3.7/dist-packages/google/cloud/texttospeech_v1/services/text_to_speech/transports/grpc.py\u001b[0m in \u001b[0;36m__init__\u001b[0;34m(self, host, credentials, credentials_file, scopes, channel, api_mtls_endpoint, client_cert_source, ssl_channel_credentials, client_cert_source_for_mtls, quota_project_id, client_info)\u001b[0m\n\u001b[1;32m    151\u001b[0m             \u001b[0mscopes\u001b[0m\u001b[0;34m=\u001b[0m\u001b[0mscopes\u001b[0m\u001b[0;34m,\u001b[0m\u001b[0;34m\u001b[0m\u001b[0;34m\u001b[0m\u001b[0m\n\u001b[1;32m    152\u001b[0m             \u001b[0mquota_project_id\u001b[0m\u001b[0;34m=\u001b[0m\u001b[0mquota_project_id\u001b[0m\u001b[0;34m,\u001b[0m\u001b[0;34m\u001b[0m\u001b[0;34m\u001b[0m\u001b[0m\n\u001b[0;32m--> 153\u001b[0;31m             \u001b[0mclient_info\u001b[0m\u001b[0;34m=\u001b[0m\u001b[0mclient_info\u001b[0m\u001b[0;34m,\u001b[0m\u001b[0;34m\u001b[0m\u001b[0;34m\u001b[0m\u001b[0m\n\u001b[0m\u001b[1;32m    154\u001b[0m         )\n\u001b[1;32m    155\u001b[0m \u001b[0;34m\u001b[0m\u001b[0m\n",
            "\u001b[0;32m/usr/local/lib/python3.7/dist-packages/google/cloud/texttospeech_v1/services/text_to_speech/transports/base.py\u001b[0m in \u001b[0;36m__init__\u001b[0;34m(self, host, credentials, credentials_file, scopes, quota_project_id, client_info, **kwargs)\u001b[0m\n\u001b[1;32m     98\u001b[0m         \u001b[0;32melif\u001b[0m \u001b[0mcredentials\u001b[0m \u001b[0;32mis\u001b[0m \u001b[0;32mNone\u001b[0m\u001b[0;34m:\u001b[0m\u001b[0;34m\u001b[0m\u001b[0;34m\u001b[0m\u001b[0m\n\u001b[1;32m     99\u001b[0m             credentials, _ = auth.default(\n\u001b[0;32m--> 100\u001b[0;31m                 \u001b[0mscopes\u001b[0m\u001b[0;34m=\u001b[0m\u001b[0mself\u001b[0m\u001b[0;34m.\u001b[0m\u001b[0m_scopes\u001b[0m\u001b[0;34m,\u001b[0m \u001b[0mquota_project_id\u001b[0m\u001b[0;34m=\u001b[0m\u001b[0mquota_project_id\u001b[0m\u001b[0;34m\u001b[0m\u001b[0;34m\u001b[0m\u001b[0m\n\u001b[0m\u001b[1;32m    101\u001b[0m             )\n\u001b[1;32m    102\u001b[0m \u001b[0;34m\u001b[0m\u001b[0m\n",
            "\u001b[0;32m/usr/local/lib/python3.7/dist-packages/google/auth/_default.py\u001b[0m in \u001b[0;36mdefault\u001b[0;34m(scopes, request, quota_project_id, default_scopes)\u001b[0m\n\u001b[1;32m    481\u001b[0m             \u001b[0;32mreturn\u001b[0m \u001b[0mcredentials\u001b[0m\u001b[0;34m,\u001b[0m \u001b[0meffective_project_id\u001b[0m\u001b[0;34m\u001b[0m\u001b[0;34m\u001b[0m\u001b[0m\n\u001b[1;32m    482\u001b[0m \u001b[0;34m\u001b[0m\u001b[0m\n\u001b[0;32m--> 483\u001b[0;31m     \u001b[0;32mraise\u001b[0m \u001b[0mexceptions\u001b[0m\u001b[0;34m.\u001b[0m\u001b[0mDefaultCredentialsError\u001b[0m\u001b[0;34m(\u001b[0m\u001b[0m_HELP_MESSAGE\u001b[0m\u001b[0;34m)\u001b[0m\u001b[0;34m\u001b[0m\u001b[0;34m\u001b[0m\u001b[0m\n\u001b[0m",
            "\u001b[0;31mDefaultCredentialsError\u001b[0m: Could not automatically determine credentials. Please set GOOGLE_APPLICATION_CREDENTIALS or explicitly create credentials and re-run the application. For more information, please see https://cloud.google.com/docs/authentication/getting-started"
          ]
        }
      ]
    },
    {
      "cell_type": "code",
      "metadata": {
        "id": "pOkVMLfNE8p1",
        "colab": {
          "base_uri": "https://localhost:8080/"
        },
        "outputId": "8757e733-89c3-4226-b86e-a7ef76edbe38"
      },
      "source": [
        "!pip install discord"
      ],
      "execution_count": null,
      "outputs": [
        {
          "output_type": "stream",
          "text": [
            "Collecting discord\n",
            "  Downloading https://files.pythonhosted.org/packages/aa/76/75382e581c7932c177568e985a6967a305b1788f51936e819010e5538ef4/discord-1.0.1-py3-none-any.whl\n",
            "Collecting discord.py>=1.0.1\n",
            "\u001b[?25l  Downloading https://files.pythonhosted.org/packages/25/b8/431808c895bb3a5ae24cfafc990c5fde0c4bbe07433cce29cd1f72bfb8d1/discord.py-1.7.2-py3-none-any.whl (786kB)\n",
            "\u001b[K     |████████████████████████████████| 788kB 5.2MB/s \n",
            "\u001b[?25hRequirement already satisfied: aiohttp<3.8.0,>=3.6.0 in /usr/local/lib/python3.7/dist-packages (from discord.py>=1.0.1->discord) (3.7.4.post0)\n",
            "Requirement already satisfied: chardet<5.0,>=2.0 in /usr/local/lib/python3.7/dist-packages (from aiohttp<3.8.0,>=3.6.0->discord.py>=1.0.1->discord) (3.0.4)\n",
            "Requirement already satisfied: multidict<7.0,>=4.5 in /usr/local/lib/python3.7/dist-packages (from aiohttp<3.8.0,>=3.6.0->discord.py>=1.0.1->discord) (5.1.0)\n",
            "Requirement already satisfied: yarl<2.0,>=1.0 in /usr/local/lib/python3.7/dist-packages (from aiohttp<3.8.0,>=3.6.0->discord.py>=1.0.1->discord) (1.6.3)\n",
            "Requirement already satisfied: typing-extensions>=3.6.5 in /usr/local/lib/python3.7/dist-packages (from aiohttp<3.8.0,>=3.6.0->discord.py>=1.0.1->discord) (3.7.4.3)\n",
            "Requirement already satisfied: attrs>=17.3.0 in /usr/local/lib/python3.7/dist-packages (from aiohttp<3.8.0,>=3.6.0->discord.py>=1.0.1->discord) (21.2.0)\n",
            "Requirement already satisfied: async-timeout<4.0,>=3.0 in /usr/local/lib/python3.7/dist-packages (from aiohttp<3.8.0,>=3.6.0->discord.py>=1.0.1->discord) (3.0.1)\n",
            "Requirement already satisfied: idna>=2.0 in /usr/local/lib/python3.7/dist-packages (from yarl<2.0,>=1.0->aiohttp<3.8.0,>=3.6.0->discord.py>=1.0.1->discord) (2.10)\n",
            "Installing collected packages: discord.py, discord\n",
            "Successfully installed discord-1.0.1 discord.py-1.7.2\n"
          ],
          "name": "stdout"
        }
      ]
    },
    {
      "cell_type": "code",
      "metadata": {
        "id": "n3bvjXuyFEe1",
        "colab": {
          "base_uri": "https://localhost:8080/",
          "height": 373
        },
        "outputId": "e16e39ce-e07e-4e43-a556-1aec3c0ba880"
      },
      "source": [
        "import asyncio\n",
        "from configparser import ConfigParser\n",
        "from os import listdir\n",
        "from time import monotonic\n",
        "\n",
        "import asyncgTTS\n",
        "import asyncpg\n",
        "import discord\n",
        "from aiohttp import ClientSession\n",
        "from discord.ext import commands\n",
        "\n",
        "import utils\n",
        "\n",
        "print(\"Starting TTS Bot!\")\n",
        "\n",
        "start_time = monotonic()\n",
        "config = ConfigParser()\n",
        "config.read(\"config.ini\")\n",
        "t = config[\"Main\"][\"Token\"]\n",
        "config_channels = config[\"Channels\"]\n",
        "\n",
        "cache_key_str = config[\"Main\"][\"key\"][2:-1]\n",
        "cache_key_bytes = cache_key_str.encode()\n",
        "\n",
        "# Define bot and remove overwritten commands\n",
        "activity = discord.Activity(name=config[\"Activity\"][\"name\"], type=getattr(discord.ActivityType, config[\"Activity\"][\"type\"]))\n",
        "intents = discord.Intents(voice_states=True, messages=True, guilds=True, members=True)\n",
        "status = getattr(discord.Status, config[\"Activity\"][\"status\"])\n",
        "\n",
        "\n",
        "async def prefix(bot: commands.AutoShardedBot, message: discord.Message) -> str:\n",
        "    \"Gets the prefix for a guild based on the passed message object\"\n",
        "    return await bot.settings.get(message.guild, \"prefix\") if message.guild else \"-\"\n",
        "\n",
        "\n",
        "bot = commands.AutoShardedBot(\n",
        "    status=status,\n",
        "    intents=intents,\n",
        "    help_command=None, # Replaced by FancyHelpCommand by FancyHelpCommandCog\n",
        "    activity=activity,\n",
        "    command_prefix=prefix,\n",
        "    case_insensitive=True,\n",
        "    chunk_guilds_at_startup=False,\n",
        "    allowed_mentions=discord.AllowedMentions(everyone=False, roles=False)\n",
        ")\n",
        "\n",
        "bot.session = ClientSession()\n",
        "bot.gtts = bot.loop.run_until_complete(\n",
        "    asyncgTTS.setup(\n",
        "        premium=False,\n",
        "        session=bot.session\n",
        "    )\n",
        ")\n",
        "\n",
        "pool = bot.loop.run_until_complete(\n",
        "    asyncpg.create_pool(\n",
        "        host=config[\"PostgreSQL Info\"][\"ip\"],\n",
        "        user=config[\"PostgreSQL Info\"][\"name\"],\n",
        "        database=config[\"PostgreSQL Info\"][\"db\"],\n",
        "        password=config[\"PostgreSQL Info\"][\"pass\"]\n",
        "    )\n",
        ")\n",
        "\n",
        "\n",
        "\n",
        "\n",
        "for cog in listdir(\"cogs\"):\n",
        "    if cog.endswith(\".py\"):\n",
        "        bot.load_extension(f\"cogs.{cog[:-3]}\")\n",
        "        print(f\"Successfully loaded: {cog}\")\n",
        "\n",
        "\n",
        "@bot.event\n",
        "async def on_ready():\n",
        "    await bot.wait_until_ready()\n",
        "\n",
        "    support_server_id = int(config[\"Main\"][\"main_server\"])\n",
        "    bot.supportserver = bot.get_guild(support_server_id)\n",
        "\n",
        "    while bot.supportserver is None:\n",
        "        print(\"Waiting 5 seconds\")\n",
        "        await asyncio.sleep(5)\n",
        "        bot.supportserver = bot.get_guild(support_server_id)\n",
        "\n",
        "    for channel_name in config_channels:\n",
        "        channel_id = int(config_channels[channel_name])\n",
        "        channel_object = bot.supportserver.get_channel(channel_id)\n",
        "        bot.channels[channel_name] = channel_object\n",
        "\n",
        "    try:\n",
        "        await bot.starting_message.edit(content=f\"~~{bot.starting_message.content}~~\")\n",
        "        bot.starting_message = await bot.channels[\"logs\"].send(f\"Restarted as {bot.user.name}!\")\n",
        "    except AttributeError:\n",
        "        print(f\"Logged into Discord as {bot.user.name}!\")\n",
        "        bot.starting_message = await bot.channels[\"logs\"].send(f\"Started and ready! Took `{monotonic() - start_time:.2f} seconds`\")\n",
        "\n",
        "print(\"\\nLogging into Discord...\")\n",
        "bot.run(t)"
      ],
      "execution_count": null,
      "outputs": [
        {
          "output_type": "stream",
          "text": [
            "Starting TTS Bot!\n"
          ],
          "name": "stdout"
        },
        {
          "output_type": "error",
          "ename": "KeyError",
          "evalue": "ignored",
          "traceback": [
            "\u001b[0;31m---------------------------------------------------------------------------\u001b[0m",
            "\u001b[0;31mKeyError\u001b[0m                                  Traceback (most recent call last)",
            "\u001b[0;32m<ipython-input-8-ba1f8f9cd679>\u001b[0m in \u001b[0;36m<module>\u001b[0;34m()\u001b[0m\n\u001b[1;32m     17\u001b[0m \u001b[0mconfig\u001b[0m \u001b[0;34m=\u001b[0m \u001b[0mConfigParser\u001b[0m\u001b[0;34m(\u001b[0m\u001b[0;34m)\u001b[0m\u001b[0;34m\u001b[0m\u001b[0;34m\u001b[0m\u001b[0m\n\u001b[1;32m     18\u001b[0m \u001b[0mconfig\u001b[0m\u001b[0;34m.\u001b[0m\u001b[0mread\u001b[0m\u001b[0;34m(\u001b[0m\u001b[0;34m\"config.ini\"\u001b[0m\u001b[0;34m)\u001b[0m\u001b[0;34m\u001b[0m\u001b[0;34m\u001b[0m\u001b[0m\n\u001b[0;32m---> 19\u001b[0;31m \u001b[0mt\u001b[0m \u001b[0;34m=\u001b[0m \u001b[0mconfig\u001b[0m\u001b[0;34m[\u001b[0m\u001b[0;34m\"Main\"\u001b[0m\u001b[0;34m]\u001b[0m\u001b[0;34m[\u001b[0m\u001b[0;34m\"Token\"\u001b[0m\u001b[0;34m]\u001b[0m\u001b[0;34m\u001b[0m\u001b[0;34m\u001b[0m\u001b[0m\n\u001b[0m\u001b[1;32m     20\u001b[0m \u001b[0mconfig_channels\u001b[0m \u001b[0;34m=\u001b[0m \u001b[0mconfig\u001b[0m\u001b[0;34m[\u001b[0m\u001b[0;34m\"Channels\"\u001b[0m\u001b[0;34m]\u001b[0m\u001b[0;34m\u001b[0m\u001b[0;34m\u001b[0m\u001b[0m\n\u001b[1;32m     21\u001b[0m \u001b[0;34m\u001b[0m\u001b[0m\n",
            "\u001b[0;32m/usr/lib/python3.7/configparser.py\u001b[0m in \u001b[0;36m__getitem__\u001b[0;34m(self, key)\u001b[0m\n\u001b[1;32m    956\u001b[0m     \u001b[0;32mdef\u001b[0m \u001b[0m__getitem__\u001b[0m\u001b[0;34m(\u001b[0m\u001b[0mself\u001b[0m\u001b[0;34m,\u001b[0m \u001b[0mkey\u001b[0m\u001b[0;34m)\u001b[0m\u001b[0;34m:\u001b[0m\u001b[0;34m\u001b[0m\u001b[0;34m\u001b[0m\u001b[0m\n\u001b[1;32m    957\u001b[0m         \u001b[0;32mif\u001b[0m \u001b[0mkey\u001b[0m \u001b[0;34m!=\u001b[0m \u001b[0mself\u001b[0m\u001b[0;34m.\u001b[0m\u001b[0mdefault_section\u001b[0m \u001b[0;32mand\u001b[0m \u001b[0;32mnot\u001b[0m \u001b[0mself\u001b[0m\u001b[0;34m.\u001b[0m\u001b[0mhas_section\u001b[0m\u001b[0;34m(\u001b[0m\u001b[0mkey\u001b[0m\u001b[0;34m)\u001b[0m\u001b[0;34m:\u001b[0m\u001b[0;34m\u001b[0m\u001b[0;34m\u001b[0m\u001b[0m\n\u001b[0;32m--> 958\u001b[0;31m             \u001b[0;32mraise\u001b[0m \u001b[0mKeyError\u001b[0m\u001b[0;34m(\u001b[0m\u001b[0mkey\u001b[0m\u001b[0;34m)\u001b[0m\u001b[0;34m\u001b[0m\u001b[0;34m\u001b[0m\u001b[0m\n\u001b[0m\u001b[1;32m    959\u001b[0m         \u001b[0;32mreturn\u001b[0m \u001b[0mself\u001b[0m\u001b[0;34m.\u001b[0m\u001b[0m_proxies\u001b[0m\u001b[0;34m[\u001b[0m\u001b[0mkey\u001b[0m\u001b[0;34m]\u001b[0m\u001b[0;34m\u001b[0m\u001b[0;34m\u001b[0m\u001b[0m\n\u001b[1;32m    960\u001b[0m \u001b[0;34m\u001b[0m\u001b[0m\n",
            "\u001b[0;31mKeyError\u001b[0m: 'Main'"
          ]
        }
      ]
    },
    {
      "cell_type": "code",
      "metadata": {
        "id": "zvspwUu5FUYN",
        "colab": {
          "base_uri": "https://localhost:8080/"
        },
        "outputId": "2da0e8db-0bb4-4536-8eb8-deafae0f5c77"
      },
      "source": [
        "!pip install asyncgTTS"
      ],
      "execution_count": null,
      "outputs": [
        {
          "output_type": "stream",
          "text": [
            "Collecting asyncgTTS\n",
            "  Downloading https://files.pythonhosted.org/packages/f9/2f/93aa9af560caa399c415bf7f61194f6d617ec3cb885ecd531f53f0dbecfd/asyncgTTS-0.1.0-py3-none-any.whl\n",
            "Collecting aiohttp\n",
            "\u001b[?25l  Downloading https://files.pythonhosted.org/packages/88/c0/5890b4c8b04a79b7360e8fe4490feb0bb3ab179743f199f0e6220cebd568/aiohttp-3.7.4.post0-cp37-cp37m-manylinux2014_x86_64.whl (1.3MB)\n",
            "\u001b[K     |████████████████████████████████| 1.3MB 5.1MB/s \n",
            "\u001b[?25hCollecting yarl<2.0,>=1.0\n",
            "\u001b[?25l  Downloading https://files.pythonhosted.org/packages/f1/62/046834c5fc998c88ab2ef722f5d42122230a632212c8afa76418324f53ff/yarl-1.6.3-cp37-cp37m-manylinux2014_x86_64.whl (294kB)\n",
            "\u001b[K     |████████████████████████████████| 296kB 18.8MB/s \n",
            "\u001b[?25hRequirement already satisfied: typing-extensions>=3.6.5 in /usr/local/lib/python3.7/dist-packages (from aiohttp->asyncgTTS) (3.7.4.3)\n",
            "Requirement already satisfied: chardet<5.0,>=2.0 in /usr/local/lib/python3.7/dist-packages (from aiohttp->asyncgTTS) (3.0.4)\n",
            "Requirement already satisfied: attrs>=17.3.0 in /usr/local/lib/python3.7/dist-packages (from aiohttp->asyncgTTS) (21.2.0)\n",
            "Collecting async-timeout<4.0,>=3.0\n",
            "  Downloading https://files.pythonhosted.org/packages/e1/1e/5a4441be21b0726c4464f3f23c8b19628372f606755a9d2e46c187e65ec4/async_timeout-3.0.1-py3-none-any.whl\n",
            "Collecting multidict<7.0,>=4.5\n",
            "\u001b[?25l  Downloading https://files.pythonhosted.org/packages/7c/a6/4123b8165acbe773d1a8dc8e3f0d1edea16d29f7de018eda769abb56bd30/multidict-5.1.0-cp37-cp37m-manylinux2014_x86_64.whl (142kB)\n",
            "\u001b[K     |████████████████████████████████| 143kB 23.4MB/s \n",
            "\u001b[?25hRequirement already satisfied: idna>=2.0 in /usr/local/lib/python3.7/dist-packages (from yarl<2.0,>=1.0->aiohttp->asyncgTTS) (2.10)\n",
            "Installing collected packages: multidict, yarl, async-timeout, aiohttp, asyncgTTS\n",
            "Successfully installed aiohttp-3.7.4.post0 async-timeout-3.0.1 asyncgTTS-0.1.0 multidict-5.1.0 yarl-1.6.3\n"
          ],
          "name": "stdout"
        }
      ]
    },
    {
      "cell_type": "code",
      "metadata": {
        "id": "c6SaPKUdGHfE",
        "colab": {
          "base_uri": "https://localhost:8080/"
        },
        "outputId": "ddc47bca-110a-4334-fd29-fffde0356e38"
      },
      "source": [
        "!pip install asyncpg"
      ],
      "execution_count": null,
      "outputs": [
        {
          "output_type": "stream",
          "text": [
            "Collecting asyncpg\n",
            "\u001b[?25l  Downloading https://files.pythonhosted.org/packages/6e/c1/162ee1458c80e451b772e5232370d0398213b6bb65e06586661c8f7a86a5/asyncpg-0.23.0-cp37-cp37m-manylinux_2_5_x86_64.manylinux1_x86_64.whl (2.8MB)\n",
            "\u001b[K     |████████████████████████████████| 2.8MB 6.6MB/s \n",
            "\u001b[?25hRequirement already satisfied: typing-extensions>=3.7.4.3; python_version < \"3.8\" in /usr/local/lib/python3.7/dist-packages (from asyncpg) (3.7.4.3)\n",
            "Installing collected packages: asyncpg\n",
            "Successfully installed asyncpg-0.23.0\n"
          ],
          "name": "stdout"
        }
      ]
    },
    {
      "cell_type": "code",
      "metadata": {
        "id": "VY4qEOZHGO_0",
        "colab": {
          "base_uri": "https://localhost:8080/"
        },
        "outputId": "d999c34d-1011-4f85-b7f8-6d76ac08fe80"
      },
      "source": [
        "!pip install utils"
      ],
      "execution_count": null,
      "outputs": [
        {
          "output_type": "stream",
          "text": [
            "Collecting utils\n",
            "  Downloading https://files.pythonhosted.org/packages/55/e6/c2d2b2703e7debc8b501caae0e6f7ead148fd0faa3c8131292a599930029/utils-1.0.1-py2.py3-none-any.whl\n",
            "Installing collected packages: utils\n",
            "Successfully installed utils-1.0.1\n"
          ],
          "name": "stdout"
        }
      ]
    },
    {
      "cell_type": "code",
      "metadata": {
        "id": "vH33_BNZGdHk"
      },
      "source": [
        "!pip install basic"
      ],
      "execution_count": null,
      "outputs": []
    },
    {
      "cell_type": "code",
      "metadata": {
        "id": "cVa5U2WUGn90",
        "colab": {
          "base_uri": "https://localhost:8080/",
          "height": 570
        },
        "outputId": "891f873a-b6fa-4f7d-e7ed-f8918ddbc6c9"
      },
      "source": [
        "!pip install --upgrade google-cloud-texttospeech"
      ],
      "execution_count": null,
      "outputs": [
        {
          "output_type": "stream",
          "text": [
            "Collecting google-cloud-texttospeech\n",
            "\u001b[?25l  Downloading https://files.pythonhosted.org/packages/17/0b/3bd642a859da81c15e5bf946077458a8601b3b6190365ca8cd184a17af6b/google_cloud_texttospeech-2.3.0-py2.py3-none-any.whl (62kB)\n",
            "\r\u001b[K     |█████▏                          | 10kB 15.5MB/s eta 0:00:01\r\u001b[K     |██████████▍                     | 20kB 20.7MB/s eta 0:00:01\r\u001b[K     |███████████████▋                | 30kB 16.5MB/s eta 0:00:01\r\u001b[K     |████████████████████▉           | 40kB 14.5MB/s eta 0:00:01\r\u001b[K     |██████████████████████████      | 51kB 8.2MB/s eta 0:00:01\r\u001b[K     |███████████████████████████████▎| 61kB 9.6MB/s eta 0:00:01\r\u001b[K     |████████████████████████████████| 71kB 5.7MB/s \n",
            "\u001b[?25hRequirement already satisfied, skipping upgrade: google-api-core[grpc]<2.0.0dev,>=1.22.2 in /usr/local/lib/python3.7/dist-packages (from google-cloud-texttospeech) (1.26.3)\n",
            "Collecting proto-plus>=1.4.0\n",
            "\u001b[?25l  Downloading https://files.pythonhosted.org/packages/b4/8a/61c5a9b9b6288f9b060b6e3d88374fc083953a29aeac7206616c2d3c9c8e/proto_plus-1.18.1-py3-none-any.whl (42kB)\n",
            "\u001b[K     |████████████████████████████████| 51kB 5.8MB/s \n",
            "\u001b[?25hRequirement already satisfied, skipping upgrade: protobuf>=3.12.0 in /usr/local/lib/python3.7/dist-packages (from google-api-core[grpc]<2.0.0dev,>=1.22.2->google-cloud-texttospeech) (3.12.4)\n",
            "Requirement already satisfied, skipping upgrade: requests<3.0.0dev,>=2.18.0 in /usr/local/lib/python3.7/dist-packages (from google-api-core[grpc]<2.0.0dev,>=1.22.2->google-cloud-texttospeech) (2.23.0)\n",
            "Requirement already satisfied, skipping upgrade: packaging>=14.3 in /usr/local/lib/python3.7/dist-packages (from google-api-core[grpc]<2.0.0dev,>=1.22.2->google-cloud-texttospeech) (20.9)\n",
            "Requirement already satisfied, skipping upgrade: pytz in /usr/local/lib/python3.7/dist-packages (from google-api-core[grpc]<2.0.0dev,>=1.22.2->google-cloud-texttospeech) (2018.9)\n",
            "Requirement already satisfied, skipping upgrade: google-auth<2.0dev,>=1.21.1 in /usr/local/lib/python3.7/dist-packages (from google-api-core[grpc]<2.0.0dev,>=1.22.2->google-cloud-texttospeech) (1.30.0)\n",
            "Requirement already satisfied, skipping upgrade: six>=1.13.0 in /usr/local/lib/python3.7/dist-packages (from google-api-core[grpc]<2.0.0dev,>=1.22.2->google-cloud-texttospeech) (1.15.0)\n",
            "Requirement already satisfied, skipping upgrade: googleapis-common-protos<2.0dev,>=1.6.0 in /usr/local/lib/python3.7/dist-packages (from google-api-core[grpc]<2.0.0dev,>=1.22.2->google-cloud-texttospeech) (1.53.0)\n",
            "Requirement already satisfied, skipping upgrade: setuptools>=40.3.0 in /usr/local/lib/python3.7/dist-packages (from google-api-core[grpc]<2.0.0dev,>=1.22.2->google-cloud-texttospeech) (56.1.0)\n",
            "Requirement already satisfied, skipping upgrade: grpcio<2.0dev,>=1.29.0; extra == \"grpc\" in /usr/local/lib/python3.7/dist-packages (from google-api-core[grpc]<2.0.0dev,>=1.22.2->google-cloud-texttospeech) (1.32.0)\n",
            "Requirement already satisfied, skipping upgrade: certifi>=2017.4.17 in /usr/local/lib/python3.7/dist-packages (from requests<3.0.0dev,>=2.18.0->google-api-core[grpc]<2.0.0dev,>=1.22.2->google-cloud-texttospeech) (2020.12.5)\n",
            "Requirement already satisfied, skipping upgrade: idna<3,>=2.5 in /usr/local/lib/python3.7/dist-packages (from requests<3.0.0dev,>=2.18.0->google-api-core[grpc]<2.0.0dev,>=1.22.2->google-cloud-texttospeech) (2.10)\n",
            "Requirement already satisfied, skipping upgrade: chardet<4,>=3.0.2 in /usr/local/lib/python3.7/dist-packages (from requests<3.0.0dev,>=2.18.0->google-api-core[grpc]<2.0.0dev,>=1.22.2->google-cloud-texttospeech) (3.0.4)\n",
            "Requirement already satisfied, skipping upgrade: urllib3!=1.25.0,!=1.25.1,<1.26,>=1.21.1 in /usr/local/lib/python3.7/dist-packages (from requests<3.0.0dev,>=2.18.0->google-api-core[grpc]<2.0.0dev,>=1.22.2->google-cloud-texttospeech) (1.24.3)\n",
            "Requirement already satisfied, skipping upgrade: pyparsing>=2.0.2 in /usr/local/lib/python3.7/dist-packages (from packaging>=14.3->google-api-core[grpc]<2.0.0dev,>=1.22.2->google-cloud-texttospeech) (2.4.7)\n",
            "Requirement already satisfied, skipping upgrade: rsa<5,>=3.1.4; python_version >= \"3.6\" in /usr/local/lib/python3.7/dist-packages (from google-auth<2.0dev,>=1.21.1->google-api-core[grpc]<2.0.0dev,>=1.22.2->google-cloud-texttospeech) (4.7.2)\n",
            "Requirement already satisfied, skipping upgrade: cachetools<5.0,>=2.0.0 in /usr/local/lib/python3.7/dist-packages (from google-auth<2.0dev,>=1.21.1->google-api-core[grpc]<2.0.0dev,>=1.22.2->google-cloud-texttospeech) (4.2.2)\n",
            "Requirement already satisfied, skipping upgrade: pyasn1-modules>=0.2.1 in /usr/local/lib/python3.7/dist-packages (from google-auth<2.0dev,>=1.21.1->google-api-core[grpc]<2.0.0dev,>=1.22.2->google-cloud-texttospeech) (0.2.8)\n",
            "Requirement already satisfied, skipping upgrade: pyasn1>=0.1.3 in /usr/local/lib/python3.7/dist-packages (from rsa<5,>=3.1.4; python_version >= \"3.6\"->google-auth<2.0dev,>=1.21.1->google-api-core[grpc]<2.0.0dev,>=1.22.2->google-cloud-texttospeech) (0.4.8)\n",
            "Installing collected packages: proto-plus, google-cloud-texttospeech\n",
            "Successfully installed google-cloud-texttospeech-2.3.0 proto-plus-1.18.1\n"
          ],
          "name": "stdout"
        },
        {
          "output_type": "display_data",
          "data": {
            "application/vnd.colab-display-data+json": {
              "pip_warning": {
                "packages": [
                  "google"
                ]
              }
            }
          },
          "metadata": {
            "tags": []
          }
        }
      ]
    },
    {
      "cell_type": "code",
      "metadata": {
        "colab": {
          "base_uri": "https://localhost:8080/",
          "height": 830
        },
        "id": "k-hh2MXjStzW",
        "outputId": "ce58120a-48e1-4d9a-8391-a76b26681c81"
      },
      "source": [
        "!pip install --upgrade google-cloud-storage"
      ],
      "execution_count": null,
      "outputs": [
        {
          "output_type": "stream",
          "text": [
            "Collecting google-cloud-storage\n",
            "\u001b[?25l  Downloading https://files.pythonhosted.org/packages/12/75/78ed0d1ef691592b94e7a3d9f58153298166486342a97df82d3c5b66cc16/google_cloud_storage-1.38.0-py2.py3-none-any.whl (103kB)\n",
            "\r\u001b[K     |███▏                            | 10kB 17.6MB/s eta 0:00:01\r\u001b[K     |██████▎                         | 20kB 22.5MB/s eta 0:00:01\r\u001b[K     |█████████▌                      | 30kB 10.3MB/s eta 0:00:01\r\u001b[K     |████████████▋                   | 40kB 8.2MB/s eta 0:00:01\r\u001b[K     |███████████████▊                | 51kB 7.1MB/s eta 0:00:01\r\u001b[K     |███████████████████             | 61kB 8.1MB/s eta 0:00:01\r\u001b[K     |██████████████████████          | 71kB 8.0MB/s eta 0:00:01\r\u001b[K     |█████████████████████████▏      | 81kB 8.2MB/s eta 0:00:01\r\u001b[K     |████████████████████████████▍   | 92kB 7.6MB/s eta 0:00:01\r\u001b[K     |███████████████████████████████▌| 102kB 6.8MB/s eta 0:00:01\r\u001b[K     |████████████████████████████████| 112kB 6.8MB/s \n",
            "\u001b[?25hCollecting google-cloud-core<2.0dev,>=1.4.1\n",
            "  Downloading https://files.pythonhosted.org/packages/ad/fc/6e8c449185cb8862af353c1164100ff75e32d55ba1de3baf9eaa01b7d2a9/google_cloud_core-1.6.0-py2.py3-none-any.whl\n",
            "Collecting google-resumable-media<2.0dev,>=1.2.0\n",
            "\u001b[?25l  Downloading https://files.pythonhosted.org/packages/22/52/4b086e0d15245b648e2b6d408fb2f2974a3a5a405de5d7fae25cd085a3fa/google_resumable_media-1.2.0-py2.py3-none-any.whl (75kB)\n",
            "\u001b[K     |████████████████████████████████| 81kB 5.9MB/s \n",
            "\u001b[?25hRequirement already satisfied, skipping upgrade: google-auth<2.0dev,>=1.11.0 in /usr/local/lib/python3.7/dist-packages (from google-cloud-storage) (1.30.0)\n",
            "Requirement already satisfied, skipping upgrade: requests<3.0.0dev,>=2.18.0 in /usr/local/lib/python3.7/dist-packages (from google-cloud-storage) (2.23.0)\n",
            "Requirement already satisfied, skipping upgrade: google-api-core<2.0.0dev,>=1.21.0 in /usr/local/lib/python3.7/dist-packages (from google-cloud-core<2.0dev,>=1.4.1->google-cloud-storage) (1.26.3)\n",
            "Requirement already satisfied, skipping upgrade: six>=1.12.0 in /usr/local/lib/python3.7/dist-packages (from google-cloud-core<2.0dev,>=1.4.1->google-cloud-storage) (1.15.0)\n",
            "Collecting google-crc32c<2.0dev,>=1.0; python_version >= \"3.5\"\n",
            "  Downloading https://files.pythonhosted.org/packages/fc/ae/b6efa1019e18c6c791f0f5cd93b2ff40f8f06696dbf04db39ec0f5591b1e/google_crc32c-1.1.2-cp37-cp37m-manylinux2014_x86_64.whl\n",
            "Requirement already satisfied, skipping upgrade: cachetools<5.0,>=2.0.0 in /usr/local/lib/python3.7/dist-packages (from google-auth<2.0dev,>=1.11.0->google-cloud-storage) (4.2.2)\n",
            "Requirement already satisfied, skipping upgrade: pyasn1-modules>=0.2.1 in /usr/local/lib/python3.7/dist-packages (from google-auth<2.0dev,>=1.11.0->google-cloud-storage) (0.2.8)\n",
            "Requirement already satisfied, skipping upgrade: rsa<5,>=3.1.4; python_version >= \"3.6\" in /usr/local/lib/python3.7/dist-packages (from google-auth<2.0dev,>=1.11.0->google-cloud-storage) (4.7.2)\n",
            "Requirement already satisfied, skipping upgrade: setuptools>=40.3.0 in /usr/local/lib/python3.7/dist-packages (from google-auth<2.0dev,>=1.11.0->google-cloud-storage) (56.1.0)\n",
            "Requirement already satisfied, skipping upgrade: chardet<4,>=3.0.2 in /usr/local/lib/python3.7/dist-packages (from requests<3.0.0dev,>=2.18.0->google-cloud-storage) (3.0.4)\n",
            "Requirement already satisfied, skipping upgrade: idna<3,>=2.5 in /usr/local/lib/python3.7/dist-packages (from requests<3.0.0dev,>=2.18.0->google-cloud-storage) (2.10)\n",
            "Requirement already satisfied, skipping upgrade: urllib3!=1.25.0,!=1.25.1,<1.26,>=1.21.1 in /usr/local/lib/python3.7/dist-packages (from requests<3.0.0dev,>=2.18.0->google-cloud-storage) (1.24.3)\n",
            "Requirement already satisfied, skipping upgrade: certifi>=2017.4.17 in /usr/local/lib/python3.7/dist-packages (from requests<3.0.0dev,>=2.18.0->google-cloud-storage) (2020.12.5)\n",
            "Requirement already satisfied, skipping upgrade: protobuf>=3.12.0 in /usr/local/lib/python3.7/dist-packages (from google-api-core<2.0.0dev,>=1.21.0->google-cloud-core<2.0dev,>=1.4.1->google-cloud-storage) (3.12.4)\n",
            "Requirement already satisfied, skipping upgrade: pytz in /usr/local/lib/python3.7/dist-packages (from google-api-core<2.0.0dev,>=1.21.0->google-cloud-core<2.0dev,>=1.4.1->google-cloud-storage) (2018.9)\n",
            "Requirement already satisfied, skipping upgrade: googleapis-common-protos<2.0dev,>=1.6.0 in /usr/local/lib/python3.7/dist-packages (from google-api-core<2.0.0dev,>=1.21.0->google-cloud-core<2.0dev,>=1.4.1->google-cloud-storage) (1.53.0)\n",
            "Requirement already satisfied, skipping upgrade: packaging>=14.3 in /usr/local/lib/python3.7/dist-packages (from google-api-core<2.0.0dev,>=1.21.0->google-cloud-core<2.0dev,>=1.4.1->google-cloud-storage) (20.9)\n",
            "Requirement already satisfied, skipping upgrade: cffi>=1.0.0 in /usr/local/lib/python3.7/dist-packages (from google-crc32c<2.0dev,>=1.0; python_version >= \"3.5\"->google-resumable-media<2.0dev,>=1.2.0->google-cloud-storage) (1.14.5)\n",
            "Requirement already satisfied, skipping upgrade: pyasn1<0.5.0,>=0.4.6 in /usr/local/lib/python3.7/dist-packages (from pyasn1-modules>=0.2.1->google-auth<2.0dev,>=1.11.0->google-cloud-storage) (0.4.8)\n",
            "Requirement already satisfied, skipping upgrade: pyparsing>=2.0.2 in /usr/local/lib/python3.7/dist-packages (from packaging>=14.3->google-api-core<2.0.0dev,>=1.21.0->google-cloud-core<2.0dev,>=1.4.1->google-cloud-storage) (2.4.7)\n",
            "Requirement already satisfied, skipping upgrade: pycparser in /usr/local/lib/python3.7/dist-packages (from cffi>=1.0.0->google-crc32c<2.0dev,>=1.0; python_version >= \"3.5\"->google-resumable-media<2.0dev,>=1.2.0->google-cloud-storage) (2.20)\n",
            "\u001b[31mERROR: google-cloud-bigquery 1.21.0 has requirement google-resumable-media!=0.4.0,<0.5.0dev,>=0.3.1, but you'll have google-resumable-media 1.2.0 which is incompatible.\u001b[0m\n",
            "Installing collected packages: google-cloud-core, google-crc32c, google-resumable-media, google-cloud-storage\n",
            "  Found existing installation: google-cloud-core 1.0.3\n",
            "    Uninstalling google-cloud-core-1.0.3:\n",
            "      Successfully uninstalled google-cloud-core-1.0.3\n",
            "  Found existing installation: google-resumable-media 0.4.1\n",
            "    Uninstalling google-resumable-media-0.4.1:\n",
            "      Successfully uninstalled google-resumable-media-0.4.1\n",
            "  Found existing installation: google-cloud-storage 1.18.1\n",
            "    Uninstalling google-cloud-storage-1.18.1:\n",
            "      Successfully uninstalled google-cloud-storage-1.18.1\n",
            "Successfully installed google-cloud-core-1.6.0 google-cloud-storage-1.38.0 google-crc32c-1.1.2 google-resumable-media-1.2.0\n"
          ],
          "name": "stdout"
        },
        {
          "output_type": "display_data",
          "data": {
            "application/vnd.colab-display-data+json": {
              "pip_warning": {
                "packages": [
                  "google"
                ]
              }
            }
          },
          "metadata": {
            "tags": []
          }
        }
      ]
    },
    {
      "cell_type": "code",
      "metadata": {
        "id": "UraMZDKVUEIF"
      },
      "source": [
        ""
      ],
      "execution_count": null,
      "outputs": []
    }
  ]
}