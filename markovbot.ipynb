{
  "nbformat": 4,
  "nbformat_minor": 0,
  "metadata": {
    "colab": {
      "name": "markovbot.ipynb",
      "provenance": [],
      "collapsed_sections": [],
      "authorship_tag": "ABX9TyPa2xLyUgKpZqMGuDGsThsB",
      "include_colab_link": true
    },
    "kernelspec": {
      "name": "python3",
      "display_name": "Python 3"
    },
    "language_info": {
      "name": "python"
    }
  },
  "cells": [
    {
      "cell_type": "markdown",
      "metadata": {
        "id": "view-in-github",
        "colab_type": "text"
      },
      "source": [
        "<a href=\"https://colab.research.google.com/github/mokymok/notebooks/blob/main/markovbot.ipynb\" target=\"_parent\"><img src=\"https://colab.research.google.com/assets/colab-badge.svg\" alt=\"Open In Colab\"/></a>"
      ]
    },
    {
      "cell_type": "code",
      "metadata": {
        "colab": {
          "base_uri": "https://localhost:8080/",
          "height": 588
        },
        "id": "oCeuDQbjhamt",
        "outputId": "9f08c59b-20c2-4feb-a801-0102ddbe6416"
      },
      "source": [
        "!pip install asyncio\n",
        "!pip install numpy\n",
        "!pip install discord"
      ],
      "execution_count": null,
      "outputs": [
        {
          "output_type": "stream",
          "text": [
            "Collecting asyncio\n",
            "\u001b[?25l  Downloading https://files.pythonhosted.org/packages/22/74/07679c5b9f98a7cb0fc147b1ef1cc1853bc07a4eb9cb5731e24732c5f773/asyncio-3.4.3-py3-none-any.whl (101kB)\n",
            "\r\u001b[K     |███▏                            | 10kB 17.6MB/s eta 0:00:01\r\u001b[K     |██████▍                         | 20kB 24.9MB/s eta 0:00:01\r\u001b[K     |█████████▋                      | 30kB 22.7MB/s eta 0:00:01\r\u001b[K     |████████████▉                   | 40kB 14.8MB/s eta 0:00:01\r\u001b[K     |████████████████                | 51kB 9.7MB/s eta 0:00:01\r\u001b[K     |███████████████████▎            | 61kB 11.3MB/s eta 0:00:01\r\u001b[K     |██████████████████████▌         | 71kB 9.2MB/s eta 0:00:01\r\u001b[K     |█████████████████████████▊      | 81kB 10.1MB/s eta 0:00:01\r\u001b[K     |█████████████████████████████   | 92kB 10.1MB/s eta 0:00:01\r\u001b[K     |████████████████████████████████| 102kB 5.9MB/s \n",
            "\u001b[?25hInstalling collected packages: asyncio\n",
            "Successfully installed asyncio-3.4.3\n"
          ],
          "name": "stdout"
        },
        {
          "output_type": "display_data",
          "data": {
            "application/vnd.colab-display-data+json": {
              "pip_warning": {
                "packages": [
                  "asyncio"
                ]
              }
            }
          },
          "metadata": {
            "tags": []
          }
        },
        {
          "output_type": "stream",
          "text": [
            "Requirement already satisfied: numpy in /usr/local/lib/python3.7/dist-packages (1.19.5)\n",
            "Collecting discord\n",
            "  Downloading https://files.pythonhosted.org/packages/aa/76/75382e581c7932c177568e985a6967a305b1788f51936e819010e5538ef4/discord-1.0.1-py3-none-any.whl\n",
            "Collecting discord.py>=1.0.1\n",
            "\u001b[?25l  Downloading https://files.pythonhosted.org/packages/25/b8/431808c895bb3a5ae24cfafc990c5fde0c4bbe07433cce29cd1f72bfb8d1/discord.py-1.7.2-py3-none-any.whl (786kB)\n",
            "\u001b[K     |████████████████████████████████| 788kB 8.3MB/s \n",
            "\u001b[?25hCollecting aiohttp<3.8.0,>=3.6.0\n",
            "\u001b[?25l  Downloading https://files.pythonhosted.org/packages/88/c0/5890b4c8b04a79b7360e8fe4490feb0bb3ab179743f199f0e6220cebd568/aiohttp-3.7.4.post0-cp37-cp37m-manylinux2014_x86_64.whl (1.3MB)\n",
            "\u001b[K     |████████████████████████████████| 1.3MB 40.6MB/s \n",
            "\u001b[?25hCollecting yarl<2.0,>=1.0\n",
            "\u001b[?25l  Downloading https://files.pythonhosted.org/packages/f1/62/046834c5fc998c88ab2ef722f5d42122230a632212c8afa76418324f53ff/yarl-1.6.3-cp37-cp37m-manylinux2014_x86_64.whl (294kB)\n",
            "\u001b[K     |████████████████████████████████| 296kB 46.9MB/s \n",
            "\u001b[?25hCollecting async-timeout<4.0,>=3.0\n",
            "  Downloading https://files.pythonhosted.org/packages/e1/1e/5a4441be21b0726c4464f3f23c8b19628372f606755a9d2e46c187e65ec4/async_timeout-3.0.1-py3-none-any.whl\n",
            "Requirement already satisfied: attrs>=17.3.0 in /usr/local/lib/python3.7/dist-packages (from aiohttp<3.8.0,>=3.6.0->discord.py>=1.0.1->discord) (21.2.0)\n",
            "Collecting multidict<7.0,>=4.5\n",
            "\u001b[?25l  Downloading https://files.pythonhosted.org/packages/7c/a6/4123b8165acbe773d1a8dc8e3f0d1edea16d29f7de018eda769abb56bd30/multidict-5.1.0-cp37-cp37m-manylinux2014_x86_64.whl (142kB)\n",
            "\u001b[K     |████████████████████████████████| 143kB 48.2MB/s \n",
            "\u001b[?25hRequirement already satisfied: typing-extensions>=3.6.5 in /usr/local/lib/python3.7/dist-packages (from aiohttp<3.8.0,>=3.6.0->discord.py>=1.0.1->discord) (3.7.4.3)\n",
            "Requirement already satisfied: chardet<5.0,>=2.0 in /usr/local/lib/python3.7/dist-packages (from aiohttp<3.8.0,>=3.6.0->discord.py>=1.0.1->discord) (3.0.4)\n",
            "Requirement already satisfied: idna>=2.0 in /usr/local/lib/python3.7/dist-packages (from yarl<2.0,>=1.0->aiohttp<3.8.0,>=3.6.0->discord.py>=1.0.1->discord) (2.10)\n",
            "Installing collected packages: multidict, yarl, async-timeout, aiohttp, discord.py, discord\n",
            "Successfully installed aiohttp-3.7.4.post0 async-timeout-3.0.1 discord-1.0.1 discord.py-1.7.2 multidict-5.1.0 yarl-1.6.3\n"
          ],
          "name": "stdout"
        }
      ]
    },
    {
      "cell_type": "code",
      "metadata": {
        "id": "hRTpzw4ghelq"
      },
      "source": [
        "AUTOGEN_SETTO    = '**Auto-generation rate set to {0}**'\n",
        "\n",
        "import discord\n",
        "from discord import Intents\n",
        "import asyncio\n",
        "from discord.ext import commands\n",
        "import numpy as np\n",
        "import random\n",
        "import re\n",
        "from collections import defaultdict\n",
        "\n",
        "intents = Intents.all()\n",
        "bot = commands.Bot(intents = intents, command_prefix = \"!\")\n",
        "token = \"\"\n",
        "loop = asyncio.get_event_loop()\n",
        "print(loop)\n",
        "self = discord.User\n",
        "final_message = \"\"\n",
        "channels = {}\n",
        "\n",
        "@bot.event\n",
        "async def on_ready():\n",
        "  print(\"Logged on as\", self.user)\n",
        "  await bot.change_presence(\n",
        "      activity = discord.Activity(\n",
        "          type = discord.ActivityType.listening, \n",
        "          name = \"You\"))\n",
        "\n",
        "@bot.command(pass_context=True, name='autorate')\n",
        "async def autorate_cmd(ctx, *args):\n",
        "    chan_info = channels[ctx.message.channel.id]\n",
        "    autorate = args[0]\n",
        "    try:\n",
        "        autorate = int(autorate)\n",
        "        if autorate < 0:\n",
        "            await ctx.send(INVALID_ARG)\n",
        "            return\n",
        "        chan_info['autorate'] = autorate\n",
        "        await ctx.send(AUTOGEN_SETTO.format(str(autorate)))\n",
        "\n",
        "@bot.command(pass_context=True)\n",
        "async def test(ctx):\n",
        "    await ctx.send(final_message)\n",
        "\n",
        "@bot.command(pass_context=True)\n",
        "async def join(ctx):\n",
        "  chan = ctx.author.voice.channel\n",
        "  await chan.connect()\n",
        "\n",
        "@bot.command(pass_context=True)\n",
        "async def leave(ctx):\n",
        "  await ctx.voice_client.disconnect()\n",
        "\n",
        "@bot.listen(\"on_message\")\n",
        "async def train(ctx):\n",
        "    text = ctx.content\n",
        "    if ctx.author == self.User:\n",
        "        return\n",
        "\n",
        "    if text.startswith(bot.command_prefix):\n",
        "        await bot.process_commands(ctx)\n",
        "        return\n",
        "\n",
        "    model_file = open(\"model.txt\", \"a\")\n",
        "    model_file.write(text)\n",
        "    model_file.close()\n",
        "\n",
        "    tokenized_text = [\n",
        "        word\n",
        "        for word in re.split(\"\\W+\", text)\n",
        "        if word != \"\"\n",
        "]\n",
        "\n",
        "        # Create graph.\n",
        "    markov_graph = defaultdict(lambda: defaultdict(int))\n",
        "\n",
        "    last_word = tokenized_text[0].lower()\n",
        "    for word in tokenized_text[1:]:\n",
        "        word = word.lower()\n",
        "        markov_graph[last_word][word] += 1\n",
        "        last_word = word\n",
        "\n",
        "    #     # Preview graph.\n",
        "    # limit = 3\n",
        "    # for first_word in (\"the\", \"by\", \"who\"):\n",
        "    #     next_words = list(markov_graph[first_word].keys())[:limit]\n",
        "    #     for next_word in next_words:\n",
        "    #         print(first_word, next_word)\n",
        "\n",
        "    if chan_id not in channels:\n",
        "        chan_info = {\n",
        "            'autorate':  4,    'total_msgs': 0,\n",
        "            'next_gen_milestone': chan_info['autorate']\n",
        "        }\n",
        "        channels[chan_id] = chan_info\n",
        "    \n",
        "    chan_info = channels[chan_id]\n",
        "    chan_info['total_msgs'] += 1\n",
        "\n",
        "    def walk_graph(graph, distance=5, start_node=None):\n",
        "        \"\"\"Returns a list of words from a randomly weighted walk.\"\"\"\n",
        "        if distance <= 0:\n",
        "            return []\n",
        "  \n",
        "            # If not given, pick a start node at random.\n",
        "        if not start_node:\n",
        "            start_node = random.choice(list(graph.keys()))\n",
        "  \n",
        "  \n",
        "        weights = np.array(\n",
        "            list(markov_graph[start_node].values()),\n",
        "            dtype=np.float64)\n",
        "            # Normalize word counts to sum to 1.\n",
        "        weights /= weights.sum()\n",
        "\n",
        "            # Pick a destination using weighted distribution.\n",
        "        choices = list(markov_graph[start_node].keys())\n",
        "        chosen_word = np.random.choice(choices, None, p=weights)\n",
        "  \n",
        "        return [chosen_word] + walk_graph(\n",
        "            graph, distance=distance-1,\n",
        "            start_node=chosen_word)\n",
        "\n",
        "    for i in range(1):\n",
        "        final_message = \" \".join(walk_graph(markov_graph, distance=random.randint(5,250)))\n",
        "        print(final_message)\n",
        "    \n",
        "    chan_id = int(channel.id)\n",
        "    if channel_exists(chan_id) and chan_id not in channels:\n",
        "        await load_channel(chan_id, channel)\n",
        "\n",
        "    rate = chan_info['autorate']\n",
        "    if rate > 0 and chan_info['total_msgs'] >= chan_info['next_gen_milestone']:\n",
        "        # set next milestone\n",
        "        qrate = rate / 4\n",
        "        chan_info['next_gen_milestone'] = chan_info['total_msgs'] + random.randint(rate - qrate, rate + qrate)\n",
        "        await ctx.send(final_message)\n",
        "\n",
        "if loop.is_running() == False:\n",
        "    bot.run(token)"
      ],
      "execution_count": null,
      "outputs": []
    },
    {
      "cell_type": "code",
      "metadata": {
        "id": "SfPt7BA1iLaB"
      },
      "source": [
        ""
      ],
      "execution_count": null,
      "outputs": []
    }
  ]
}