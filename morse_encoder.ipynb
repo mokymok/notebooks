{
  "nbformat": 4,
  "nbformat_minor": 0,
  "metadata": {
    "colab": {
      "name": "morseencoder.ipynb",
      "provenance": [],
      "authorship_tag": "ABX9TyP2WP9JaMrccTVi+5gT23M1",
      "include_colab_link": true
    },
    "kernelspec": {
      "name": "python3",
      "display_name": "Python 3"
    },
    "language_info": {
      "name": "python"
    }
  },
  "cells": [
    {
      "cell_type": "markdown",
      "metadata": {
        "id": "view-in-github",
        "colab_type": "text"
      },
      "source": [
        "<a href=\"https://colab.research.google.com/github/mokymok/notebooks/blob/main/morse_encoder.ipynb\" target=\"_parent\"><img src=\"https://colab.research.google.com/assets/colab-badge.svg\" alt=\"Open In Colab\"/></a>"
      ]
    },
    {
      "cell_type": "code",
      "metadata": {
        "colab": {
          "base_uri": "https://localhost:8080/"
        },
        "id": "Zv6G7k0nvdsu",
        "outputId": "93cfa081-e60b-4697-afc4-c2b750faae4a"
      },
      "source": [
        "print(u'\\u2584')"
      ],
      "execution_count": null,
      "outputs": [
        {
          "output_type": "stream",
          "text": [
            "▄\n"
          ],
          "name": "stdout"
        }
      ]
    },
    {
      "cell_type": "markdown",
      "metadata": {
        "id": "uW5ZDuayI0ad"
      },
      "source": [
        "Using ▄ (U+2584 Lower Half Block) to represent a dot, encode the argument from alphanumeric into International Morse Code.\n",
        "\n",
        "    1. The length of a dot is one unit.\n",
        "    2. A dash is three units.\n",
        "    3. The space between parts of the same letter is one unit.\n",
        "    4. The space between letters is three units.\n",
        "    5. The space between words is ten units."
      ]
    },
    {
      "cell_type": "code",
      "metadata": {
        "colab": {
          "base_uri": "https://localhost:8080/"
        },
        "id": "DzKJxQYtIAMn",
        "outputId": "f5e05c74-b4e5-4fba-f69c-16067effc3f3"
      },
      "source": [
        "a=(u'\\u2584'+' ')\n",
        "s=(u'\\u2584'+u'\\u2584'+u'\\u2584'+' ')\n",
        "d=('   ')\n",
        "f=('          ')\n",
        "msg=input()\n",
        "fm=''\n",
        "md={'a':a+s+d,'b':s+a*3+d,'c':s+a+s+a+d,\n",
        "    'd':s+a*2+d,'e':a+d,'f':a*2+s+a+d,'g':s*2+a+d,\n",
        "    'h':a*4+d,'i':a+a+d,'j':a+s*3+d,'k':s+a+s+d,\n",
        "    'l':a+s+a+a+d,'m':s+s+d,'n':s+d,'o':s+s+s+d,\n",
        "    'p':a+s+s+a+d,'q':s+s+a+s+d,'r':a+s+a+d,'s':a*3+d,\n",
        "    't':s+d,'u':a+a+s+d,'v':a*3+s+d,'w':a+s+s+d,\n",
        "    'x':s+a*2+s+d,'y':s+a+s+s+d,'z':s+s+a+a+d,'0':s*5+d,\n",
        "    '1':a+s*4+d,'2':a*2+s*3+d,'3':a*3+s*2+d,\n",
        "    '4':a*4+s+d,'5':a*5+d,'6':s+a*4+d,\n",
        "    '7':s*2+a*3+d,'8':s*3+a*2+d,'9':s*4+a+d,\n",
        "    ' ':f}\n",
        "def spl(msg):\n",
        "    return [char for char in msg]\n",
        "def mm(msg):\n",
        "    list=spl(msg)\n",
        "    for str in list:\n",
        "        if ' ' in msg:\n",
        "            msg.replace(' ',f)\n",
        "            fm=(md[str])\n",
        "        else:fm=(md[str])\n",
        "        print(fm,end='')\n",
        "mm(msg)"
      ],
      "execution_count": null,
      "outputs": [
        {
          "output_type": "stream",
          "text": [
            "hello world\n",
            "▄ ▄ ▄ ▄    ▄    ▄ ▄▄▄ ▄ ▄    ▄ ▄▄▄ ▄ ▄    ▄▄▄ ▄▄▄ ▄▄▄              ▄ ▄▄▄ ▄▄▄    ▄▄▄ ▄▄▄ ▄▄▄    ▄ ▄▄▄ ▄    ▄ ▄▄▄ ▄ ▄    ▄▄▄ ▄ ▄    "
          ],
          "name": "stdout"
        }
      ]
    },
    {
      "cell_type": "code",
      "metadata": {
        "id": "24NZ4vsVKeR_",
        "colab": {
          "base_uri": "https://localhost:8080/"
        },
        "outputId": "8f1e5d96-d7b9-4ddb-9548-5fb1fe339f13"
      },
      "source": [
        "print('   '.join('          'if c==' 'else''.join('▄ 'if x=='0'else'▄▄▄ 'for x in bin(ord(\"ĳÁĕÁÿïçãáàðøüþÁÁÁÁÁČÁÅ×ÚÌÂÒÎÐÄ×ÍÔÇÆÏÖÝÊÈÃÉÑËÙÛÜ\"[ord(c)-44])-192)[3:])for c in sys.argv.upper()))"
      ],
      "execution_count": null,
      "outputs": [
        {
          "output_type": "stream",
          "text": [
            "hello world\n",
            "▄ ▄ ▄ ▄    ▄    ▄ ▄▄▄ ▄ ▄    ▄ ▄▄▄ ▄ ▄    ▄▄▄ ▄▄▄ ▄▄▄                ▄ ▄▄▄ ▄▄▄    ▄▄▄ ▄▄▄ ▄▄▄    ▄ ▄▄▄ ▄    ▄ ▄▄▄ ▄ ▄    ▄▄▄ ▄ ▄ \n"
          ],
          "name": "stdout"
        }
      ]
    },
    {
      "cell_type": "code",
      "metadata": {
        "colab": {
          "base_uri": "https://localhost:8080/",
          "height": 214
        },
        "id": "LwRgrLPUEIB0",
        "outputId": "b023fff7-9c49-4e39-e490-c2dbed288f45"
      },
      "source": [
        "import sys;b=sys.argv;del b[0]\n",
        "a='▄ '\n",
        "s='▄▄▄ '\n",
        "d='  '\n",
        "z=(' '*7)\n",
        "f=''\n",
        "m={'A':a+s+d,'B':s+a*3+d,'C':s+a+s+a+d,'D':s+a*2+d,'E':a+d,'F':a*2+s+a+d,'G':s*2+a+d,'H':a*4+d,'I':a*2+d,'J':a+s*3+d,'K':s+a+s+d,'L':a+s+a*2+d,'M':s*2+d,'N':s+a+d,'O':s*3+d,'P':a+s*2+a+d,'Q':s*2+a+s+d,'R':a+s+a+d,'S':a*3+d,'T':s+d,'U':a*2+s+d,'V':a*3+s+d,'W':a+s*2+d,'X':s+a*2+s+d,'Y':s+a+s*2+d,'Z':s+s+a*2+d,'0':s*5+d,'1':a+s*4+d,'2':a*2+s*3+d,'3':a*3+s*2+d,'4':a*4+s+d,'5':a*5+d,'6':s+a*4+d,'7':s*2+a*3+d,'8':s*3+a*2+d,'9':s*4+a+d,' ':z}\n",
        "l=[[x for x in y]for y in b]\n",
        "for s in l[0]:\n",
        " f=(m[s])\n",
        " print(f,end='')\n"
      ],
      "execution_count": null,
      "outputs": [
        {
          "output_type": "error",
          "ename": "KeyError",
          "evalue": "ignored",
          "traceback": [
            "\u001b[0;31m---------------------------------------------------------------------------\u001b[0m",
            "\u001b[0;31mKeyError\u001b[0m                                  Traceback (most recent call last)",
            "\u001b[0;32m<ipython-input-1-1cc19d2a7dcf>\u001b[0m in \u001b[0;36m<module>\u001b[0;34m()\u001b[0m\n\u001b[1;32m      8\u001b[0m \u001b[0ml\u001b[0m\u001b[0;34m=\u001b[0m\u001b[0;34m[\u001b[0m\u001b[0;34m[\u001b[0m\u001b[0mx\u001b[0m \u001b[0;32mfor\u001b[0m \u001b[0mx\u001b[0m \u001b[0;32min\u001b[0m \u001b[0my\u001b[0m\u001b[0;34m]\u001b[0m\u001b[0;32mfor\u001b[0m \u001b[0my\u001b[0m \u001b[0;32min\u001b[0m \u001b[0mb\u001b[0m\u001b[0;34m]\u001b[0m\u001b[0;34m\u001b[0m\u001b[0;34m\u001b[0m\u001b[0m\n\u001b[1;32m      9\u001b[0m \u001b[0;32mfor\u001b[0m \u001b[0ms\u001b[0m \u001b[0;32min\u001b[0m \u001b[0ml\u001b[0m\u001b[0;34m[\u001b[0m\u001b[0;36m0\u001b[0m\u001b[0;34m]\u001b[0m\u001b[0;34m:\u001b[0m\u001b[0;34m\u001b[0m\u001b[0;34m\u001b[0m\u001b[0m\n\u001b[0;32m---> 10\u001b[0;31m  \u001b[0mf\u001b[0m\u001b[0;34m=\u001b[0m\u001b[0;34m(\u001b[0m\u001b[0mm\u001b[0m\u001b[0;34m[\u001b[0m\u001b[0ms\u001b[0m\u001b[0;34m]\u001b[0m\u001b[0;34m)\u001b[0m\u001b[0;34m\u001b[0m\u001b[0;34m\u001b[0m\u001b[0m\n\u001b[0m\u001b[1;32m     11\u001b[0m  \u001b[0mprint\u001b[0m\u001b[0;34m(\u001b[0m\u001b[0mf\u001b[0m\u001b[0;34m,\u001b[0m\u001b[0mend\u001b[0m\u001b[0;34m=\u001b[0m\u001b[0;34m''\u001b[0m\u001b[0;34m)\u001b[0m\u001b[0;34m\u001b[0m\u001b[0;34m\u001b[0m\u001b[0m\n",
            "\u001b[0;31mKeyError\u001b[0m: '-'"
          ]
        }
      ]
    },
    {
      "cell_type": "code",
      "metadata": {
        "id": "PZeWT1iYF36z"
      },
      "source": [
        "{'A':a+s,'B':s+a*3,'C':s+a+s+a,'D':s+a*2,'E':a,'F':a*2+s+a,'G':s*2+a,'H':a*4,'I':a*2,'J':a+s*3,'K':s+a+s,'L':a+s+a*2,'M':s*2,'N':s+a,'O':s*3,'P':a+s*2+a,'Q':s*2+a+s,'R':a+s+a,'S':a*3,'T':s,'U':a*2+s,'V':a*3+s,'W':a+s*2,'X':s+a*2+s,'Y':s+a+s*2,'Z':s*2+a*2,'0':s*5,'1':a+s*4,'2':a*2+s*3,'3':a*3+s*2,'4':a*4+s,'5':a*5,'6':s+a*4,'7':s*2+a*3,'8':s*3+a*2,'9':s*4+a,' ':(' '*5)}"
      ],
      "execution_count": null,
      "outputs": []
    },
    {
      "cell_type": "code",
      "metadata": {
        "colab": {
          "base_uri": "https://localhost:8080/"
        },
        "id": "kY8YdKVTGwND",
        "outputId": "d2c04721-01af-4041-fd0e-f6ece3fe3f70"
      },
      "source": [
        "for c in map(chr,range(65,91)):\n",
        "    print(str(c))"
      ],
      "execution_count": null,
      "outputs": [
        {
          "output_type": "stream",
          "text": [
            "A\n",
            "B\n",
            "C\n",
            "D\n",
            "E\n",
            "F\n",
            "G\n",
            "H\n",
            "I\n",
            "J\n",
            "K\n",
            "L\n",
            "M\n",
            "N\n",
            "O\n",
            "P\n",
            "Q\n",
            "R\n",
            "S\n",
            "T\n",
            "U\n",
            "V\n",
            "W\n",
            "X\n",
            "Y\n",
            "Z\n"
          ],
          "name": "stdout"
        }
      ]
    }
  ]
}